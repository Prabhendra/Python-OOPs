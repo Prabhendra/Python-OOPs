{
  "nbformat": 4,
  "nbformat_minor": 0,
  "metadata": {
    "colab": {
      "provenance": []
    },
    "kernelspec": {
      "name": "python3",
      "display_name": "Python 3"
    },
    "language_info": {
      "name": "python"
    }
  },
  "cells": [
    {
      "cell_type": "markdown",
      "source": [
        "#Project :\n",
        "##Object-Oriented Programming System"
      ],
      "metadata": {
        "id": "Wwo58z1PSo3Q"
      }
    },
    {
      "cell_type": "markdown",
      "source": [
        "Problem 1: Bank Account Create a class representing a bank account with attributes like account number, account holder name, and balance. Implement methods to deposit and withdraw money from the account.\n",
        "\n"
      ],
      "metadata": {
        "id": "iiewixY5f0CV"
      }
    },
    {
      "cell_type": "code",
      "source": [
        "class BankAccount:\n",
        "    def __init__(self, account_number, account_holder_name, initial_balance=0):\n",
        "        self.account_number = account_number\n",
        "        self.account_holder_name = account_holder_name\n",
        "        self.balance = initial_balance\n",
        "\n",
        "    def deposit(self, amount):\n",
        "        if amount > 0:\n",
        "            self.balance += amount\n",
        "            print(f\"Deposited: ${amount:.2f}\")\n",
        "            self.get_balance()\n",
        "        else:\n",
        "            print(\"Invalid deposit amount.\")\n",
        "\n",
        "    def withdraw(self, amount):\n",
        "        if 0 < amount <= self.balance:\n",
        "            self.balance -= amount\n",
        "            print(f\"Withdrew: ${amount:.2f}\")\n",
        "            self.get_balance()\n",
        "        else:\n",
        "            print(\"Insufficient funds or invalid withdrawal amount.\")\n",
        "\n",
        "    def get_balance(self):\n",
        "        print(f\"Current balance: ${self.balance:.2f}\")\n",
        "\n",
        "account = BankAccount(\"1234567890\", \"John Doe\", 1000)\n",
        "\n",
        "account.deposit(500)\n",
        "\n",
        "account.withdraw(200)\n",
        "\n",
        "account.get_balance()"
      ],
      "metadata": {
        "colab": {
          "base_uri": "https://localhost:8080/"
        },
        "id": "NOHzVtcDShlv",
        "outputId": "933e1821-7284-4a9f-bc33-33c6bcb4afe6"
      },
      "execution_count": 1,
      "outputs": [
        {
          "output_type": "stream",
          "name": "stdout",
          "text": [
            "Deposited: $500.00\n",
            "Current balance: $1500.00\n",
            "Withdrew: $200.00\n",
            "Current balance: $1300.00\n",
            "Current balance: $1300.00\n"
          ]
        }
      ]
    },
    {
      "cell_type": "markdown",
      "source": [
        "Problem 2: Employee Management Create a class representing an employee with attributes like employee ID, name, and salary. Implement methods to calculate the yearly bonus and display employee details.\n",
        "\n"
      ],
      "metadata": {
        "id": "FQKYdPDwf4NR"
      }
    },
    {
      "cell_type": "code",
      "source": [
        "class Employee:\n",
        "    def __init__(self, employee_id, name, salary):\n",
        "        if not isinstance(employee_id, int):\n",
        "            raise TypeError(\"Employee ID must be an integer.\")\n",
        "        if not isinstance(name, str):\n",
        "            raise TypeError(\"Name must be a string.\")\n",
        "        if not isinstance(salary, (int, float)) or salary < 0:\n",
        "            raise ValueError(\"Salary must be a non-negative number.\")\n",
        "\n",
        "        self.employee_id = employee_id\n",
        "        self.name = name\n",
        "        self.salary = salary\n",
        "\n",
        "    def calculate_yearly_bonus(self, bonus_percentage):\n",
        "        if not isinstance(bonus_percentage, (int, float)) or not 0 <= bonus_percentage <= 100:\n",
        "            raise ValueError(\"Bonus percentage must be between 0 and 100.\")\n",
        "        return self.salary * (bonus_percentage / 100)\n",
        "\n",
        "    def display_details(self):\n",
        "        print(f\"Employee ID: {self.employee_id}\")\n",
        "        print(f\"Name: {self.name}\")\n",
        "        print(f\"Salary: ${self.salary:.2f}\")\n",
        "\n",
        "employee1 = Employee(1,\"Shreya\",88000)\n",
        "\n",
        "employee1.display_details()\n",
        "employee1.calculate_yearly_bonus(10)\n"
      ],
      "metadata": {
        "colab": {
          "base_uri": "https://localhost:8080/"
        },
        "id": "BZtniLGzSiAz",
        "outputId": "c4832359-0cb3-4677-b434-43b1febb75e4"
      },
      "execution_count": 7,
      "outputs": [
        {
          "output_type": "stream",
          "name": "stdout",
          "text": [
            "Employee ID: 1\n",
            "Name: Shreya\n",
            "Salary: $88000.00\n"
          ]
        },
        {
          "output_type": "execute_result",
          "data": {
            "text/plain": [
              "8800.0"
            ]
          },
          "metadata": {},
          "execution_count": 7
        }
      ]
    },
    {
      "cell_type": "markdown",
      "source": [
        "Problem 3: Vehicle Rental Create a class representing a vehicle rental system. Implement methods to rent a vehicle, return a vehicle, and display available vehicles.\n",
        "\n"
      ],
      "metadata": {
        "id": "7L_GaWgjf4BC"
      }
    },
    {
      "cell_type": "code",
      "source": [
        "class VehicleRentalSystem:\n",
        "    def __init__(self):\n",
        "        self.available_vehicles = {}\n",
        "        self.rented_vehicles = {}\n",
        "\n",
        "    def add_vehicle(self, vehicle_id, vehicle_object):\n",
        "\n",
        "        if vehicle_id in self.available_vehicles:\n",
        "            raise ValueError(f\"Vehicle with ID {vehicle_id} already exists.\")\n",
        "        self.available_vehicles[vehicle_id] = vehicle_object\n",
        "\n",
        "    def rent_vehicle(self, vehicle_id, customer_id):\n",
        "\n",
        "        if vehicle_id not in self.available_vehicles:\n",
        "            raise ValueError(f\"Vehicle with ID {vehicle_id} not found.\")\n",
        "        if vehicle_id in self.rented_vehicles:\n",
        "            raise ValueError(f\"Vehicle with ID {vehicle_id} is already rented.\")\n",
        "        self.rented_vehicles[vehicle_id] = customer_id\n",
        "        del self.available_vehicles[vehicle_id]\n",
        "\n",
        "    def return_vehicle(self, vehicle_id):\n",
        "\n",
        "        if vehicle_id not in self.rented_vehicles:\n",
        "            raise ValueError(f\"Vehicle with ID {vehicle_id} is not rented.\")\n",
        "        customer_id = self.rented_vehicles[vehicle_id]\n",
        "        del self.rented_vehicles[vehicle_id]\n",
        "        self.available_vehicles[vehicle_id] = customer_id\n",
        "\n",
        "    def display_available_vehicles(self):\n",
        "\n",
        "        if not self.available_vehicles:\n",
        "            print(\"No vehicles available.\")\n",
        "            return\n",
        "        print(\"Available Vehicles:\")\n",
        "        for vehicle_id, vehicle_object in self.available_vehicles.items():\n",
        "            print(f\"  - {vehicle_id}: {vehicle_object}\")"
      ],
      "metadata": {
        "id": "9xr8eek0Sip1"
      },
      "execution_count": null,
      "outputs": []
    },
    {
      "cell_type": "markdown",
      "source": [
        "Problem 4: Library Catalog Create classes representing a library and a book. Implement methods to add books to the library, borrow books, and display available books.\n",
        "\n"
      ],
      "metadata": {
        "id": "fq_b7mEof32F"
      }
    },
    {
      "cell_type": "code",
      "source": [
        "class Book:\n",
        "    def __init__(self, title, author, isbn):\n",
        "        self.title = title\n",
        "        self.author = author\n",
        "        self.isbn = isbn\n",
        "        self.is_borrowed = False\n",
        "\n",
        "    def __str__(self):\n",
        "        return f\"Title: {self.title}, Author: {self.author}, ISBN: {self.isbn}\"\n",
        "\n",
        "\n",
        "class Library:\n",
        "    def __init__(self):\n",
        "        self.books = {}\n",
        "\n",
        "    def add_book(self, book):\n",
        "        if book.isbn in self.books:\n",
        "            raise ValueError(f\"Book with ISBN {book.isbn} already exists.\")\n",
        "        self.books[book.isbn] = book\n",
        "\n",
        "    def borrow_book(self, isbn):\n",
        "        if isbn not in self.books:\n",
        "            raise ValueError(f\"Book with ISBN {isbn} not found.\")\n",
        "        if self.books[isbn].is_borrowed:\n",
        "            raise ValueError(f\"Book with ISBN {isbn} is already borrowed.\")\n",
        "        self.books[isbn].is_borrowed = True\n",
        "\n",
        "    def return_book(self, isbn):\n",
        "        if isbn not in self.books:\n",
        "            raise ValueError(f\"Book with ISBN {isbn} not found.\")\n",
        "        if not self.books[isbn].is_borrowed:\n",
        "            raise ValueError(f\"Book with ISBN {isbn} is not borrowed.\")\n",
        "        self.books[isbn].is_borrowed = False\n",
        "\n",
        "    def display_available_books(self):\n",
        "        available_books = [book for book in self.books.values() if not book.is_borrowed]\n",
        "        if not available_books:\n",
        "            print(\"No books available.\")\n",
        "            return\n",
        "        print(\"Available Books:\")\n",
        "        for book in available_books:\n",
        "            print(book)"
      ],
      "metadata": {
        "id": "4hUERkGnSjLj"
      },
      "execution_count": null,
      "outputs": []
    },
    {
      "cell_type": "markdown",
      "source": [
        "Problem 5: Product Inventory Create classes representing a product and an inventory system. Implement methods to add products to the inventory, update product quantity, and display available products.\n",
        "\n"
      ],
      "metadata": {
        "id": "nZxgwuEAf3sH"
      }
    },
    {
      "cell_type": "code",
      "source": [
        "class Product:\n",
        "    def __init__(self, product_id, name, quantity, price):\n",
        "        self.product_id = product_id\n",
        "        self.name = name\n",
        "        self.quantity = quantity\n",
        "        self.price = price\n",
        "\n",
        "    def update_quantity(self, amount):\n",
        "        if amount < 0 and abs(amount) > self.quantity:\n",
        "            print(\"Insufficient quantity available\")\n",
        "        else:\n",
        "            self.quantity += amount\n",
        "\n",
        "    def display(self):\n",
        "        print(f\"ID: {self.product_id}, Name: {self.name}, Quantity: {self.quantity}, Price: {self.price}\")\n",
        "\n",
        "class Inventory:\n",
        "    def __init__(self):\n",
        "        self.products = {}\n",
        "\n",
        "    def add_product(self, product):\n",
        "        if product.product_id in self.products:\n",
        "            print(\"Product ID already exists. Use update method to modify quantity.\")\n",
        "        else:\n",
        "            self.products[product.product_id] = product\n",
        "\n",
        "    def update_product_quantity(self, product_id, quantity):\n",
        "        if product_id in self.products:\n",
        "            self.products[product_id].update_quantity(quantity)\n",
        "        else:\n",
        "            print(\"Product not found in inventory.\")\n",
        "\n",
        "    def display_products(self):\n",
        "        if not self.products:\n",
        "            print(\"No products in inventory.\")\n",
        "        else:\n",
        "            for product in self.products.values():\n",
        "                product.display()\n",
        "\n",
        "inventory = Inventory()\n",
        "\n",
        "inventory.add_product(Product(1, \"Laptop\", 10, 999.99))\n",
        "inventory.add_product(Product(2, \"Mouse\", 25, 19.99))\n",
        "\n",
        "inventory.update_product_quantity(1, 5)\n",
        "inventory.update_product_quantity(2, -5)\n",
        "\n",
        "inventory.display_products()\n"
      ],
      "metadata": {
        "id": "_gU0MBYXSjkL"
      },
      "execution_count": null,
      "outputs": []
    },
    {
      "cell_type": "markdown",
      "source": [
        "Problem 6: Shape Calculation Create a class representing a shape with attributes like length, width, and height. Implement methods to calculate the area and perimeter of the shape.\n"
      ],
      "metadata": {
        "id": "6_8lG1cyf3iB"
      }
    },
    {
      "cell_type": "code",
      "source": [
        "class Shape:\n",
        "    def __init__(self, length, width, height=0):\n",
        "        self.length = length\n",
        "        self.width = width\n",
        "        self.height = height\n",
        "\n",
        "    def area(self):\n",
        "        return self.length * self.width\n",
        "\n",
        "    def perimeter(self):\n",
        "        return 2 * (self.length + self.width)\n",
        "\n",
        "    def volume(self):\n",
        "        if self.height > 0:\n",
        "            return self.length * self.width * self.height\n",
        "        else:\n",
        "            return \"Volume is not applicable for 2D shapes.\"\n",
        "\n",
        "rectangle = Shape(10, 5)\n",
        "\n",
        "print(\"Area:\", rectangle.area())\n",
        "print(\"Perimeter:\", rectangle.perimeter())\n",
        "\n",
        "print(\"Volume:\", rectangle.volume())\n",
        "\n",
        "rectangular_prism = Shape(10, 5, 3)\n",
        "\n",
        "print(\"Volume of rectangular prism:\", rectangular_prism.volume())\n"
      ],
      "metadata": {
        "id": "RNhtioJ0SkZI"
      },
      "execution_count": null,
      "outputs": []
    },
    {
      "cell_type": "markdown",
      "source": [
        "\n",
        "Problem 7: Student Management Create a class representing a student with attributes like student ID, name, and grades. Implement methods to calculate the average grade and display student details.\n"
      ],
      "metadata": {
        "id": "UbJLfPdMf3Wk"
      }
    },
    {
      "cell_type": "code",
      "source": [
        "class Student:\n",
        "    def __init__(self, student_id, name, grades):\n",
        "        self.student_id = student_id\n",
        "        self.name = name\n",
        "        self.grades = grades\n",
        "\n",
        "    def calculate_average(self):\n",
        "        if self.grades:\n",
        "            return sum(self.grades) / len(self.grades)\n",
        "        else:\n",
        "            return 0\n",
        "\n",
        "    def display_details(self):\n",
        "        print(f\"Student ID: {self.student_id}\")\n",
        "        print(f\"Name: {self.name}\")\n",
        "        print(f\"Grades: {self.grades}\")\n",
        "        print(f\"Average Grade: {self.calculate_average()}\")\n",
        "\n",
        "student = Student(1, \"Alice\", [85, 90, 78, 92, 88])\n",
        "\n",
        "average_grade = student.calculate_average()\n",
        "print(\"Average Grade:\", average_grade)\n",
        "\n",
        "student.display_details()\n"
      ],
      "metadata": {
        "id": "XHmU_HOGSkGC"
      },
      "execution_count": null,
      "outputs": []
    },
    {
      "cell_type": "markdown",
      "source": [
        "\n",
        "Problem 8: Email Management Create a class representing an email with attributes like sender, recipient, and subject. Implement methods to send an email and display email details.\n"
      ],
      "metadata": {
        "id": "P_NW_Xk_f2wj"
      }
    },
    {
      "cell_type": "code",
      "source": [
        "class Email:\n",
        "    def __init__(self, sender, recipient, subject, content):\n",
        "        self.sender = sender\n",
        "        self.recipient = recipient\n",
        "        self.subject = subject\n",
        "        self.content = content\n",
        "\n",
        "    def send_email(self):\n",
        "        print(\"Sending email...\")\n",
        "        print(f\"From: {self.sender}\")\n",
        "        print(f\"To: {self.recipient}\")\n",
        "        print(f\"Subject: {self.subject}\")\n",
        "        print(f\"Content: {self.content}\")\n",
        "        print(\"Email sent successfully.\")\n",
        "\n",
        "    def display_details(self):\n",
        "        print(f\"Sender: {self.sender}\")\n",
        "        print(f\"Recipient: {self.recipient}\")\n",
        "        print(f\"Subject: {self.subject}\")\n",
        "        print(f\"Content: {self.content}\")\n",
        "\n",
        "email = Email(\"alice@example.com\", \"bob@example.com\", \"Meeting Update\", \"Hi Bob, The meeting has been rescheduled to 3 PM. Regards, Alice\")\n",
        "\n",
        "email.send_email()\n",
        "\n",
        "email.display_details()\n"
      ],
      "metadata": {
        "id": "sc07cpGSSk4-"
      },
      "execution_count": null,
      "outputs": []
    },
    {
      "cell_type": "markdown",
      "source": [
        "\n",
        "Problem 9: Social Media Profile Create a class representing a social media profile with attributes like username and posts. Implement methods to add posts, display posts, and search for posts by keyword.\n"
      ],
      "metadata": {
        "id": "aE5RE_6zf2Vu"
      }
    },
    {
      "cell_type": "code",
      "source": [
        "class SocialMediaProfile:\n",
        "    def __init__(self, username):\n",
        "        self.username = username\n",
        "        self.posts = []\n",
        "\n",
        "    def add_post(self, post):\n",
        "        self.posts.append(post)\n",
        "\n",
        "    def display_posts(self):\n",
        "        if not self.posts:\n",
        "            print(\"No posts available.\")\n",
        "        else:\n",
        "            for index, post in enumerate(self.posts, 1):\n",
        "                print(f\"Post {index}: {post}\")\n",
        "\n",
        "    def search_posts_by_keyword(self, keyword):\n",
        "        results = [post for post in self.posts if keyword.lower() in post.lower()]\n",
        "        if not results:\n",
        "            print(f\"No posts found containing the keyword '{keyword}'.\")\n",
        "        else:\n",
        "            print(f\"Posts containing the keyword '{keyword}':\")\n",
        "            for result in results:\n",
        "                print(result)\n",
        "\n",
        "profile = SocialMediaProfile(\"john_doe\")\n",
        "\n",
        "profile.add_post(\"Hello, world!\")\n",
        "profile.add_post(\"Learning Python is fun!\")\n",
        "profile.add_post(\"Enjoying a sunny day at the park.\")\n",
        "\n",
        "print(\"All posts:\")\n",
        "profile.display_posts()\n",
        "\n",
        "print(\"\\nSearch results for 'Python':\")\n",
        "profile.search_posts_by_keyword(\"Python\")\n"
      ],
      "metadata": {
        "id": "6xZNn_-FSlOM"
      },
      "execution_count": null,
      "outputs": []
    },
    {
      "cell_type": "markdown",
      "source": [
        "\n",
        "Problem 10: ToDo List Create a class representing a ToDo list with attributes like tasks and due dates. Implement methods to add tasks, mark tasks as completed, and display pending tasks."
      ],
      "metadata": {
        "id": "S_iM7nZff2A5"
      }
    },
    {
      "cell_type": "code",
      "source": [
        "from datetime import datetime\n",
        "\n",
        "class Task:\n",
        "    def __init__(self, description, due_date):\n",
        "        self.description = description\n",
        "        self.due_date = due_date\n",
        "        self.completed = False\n",
        "\n",
        "    def mark_completed(self):\n",
        "        self.completed = True\n",
        "\n",
        "    def display_task(self):\n",
        "        status = \"Completed\" if self.completed else \"Pending\"\n",
        "        print(f\"Task: {self.description}, Due Date: {self.due_date}, Status: {status}\")\n",
        "\n",
        "class ToDoList:\n",
        "    def __init__(self):\n",
        "        self.tasks = []\n",
        "\n",
        "    def add_task(self, description, due_date):\n",
        "        task = Task(description, due_date)\n",
        "        self.tasks.append(task)\n",
        "\n",
        "    def mark_task_completed(self, description):\n",
        "        for task in self.tasks:\n",
        "            if task.description == description:\n",
        "                task.mark_completed()\n",
        "                break\n",
        "\n",
        "    def display_pending_tasks(self):\n",
        "        pending_tasks = [task for task in self.tasks if not task.completed]\n",
        "        if not pending_tasks:\n",
        "            print(\"No pending tasks.\")\n",
        "        else:\n",
        "            print(\"Pending Tasks:\")\n",
        "            for task in pending_tasks:\n",
        "                task.display_task()\n",
        "\n",
        "todo_list = ToDoList()\n",
        "\n",
        "todo_list.add_task(\"Finish homework\", datetime(2025, 2, 10))\n",
        "todo_list.add_task(\"Buy groceries\", datetime(2025, 2, 8))\n",
        "todo_list.add_task(\"Call mom\", datetime(2025, 2, 9))\n",
        "\n",
        "todo_list.mark_task_completed(\"Buy groceries\")\n",
        "\n",
        "todo_list.display_pending_tasks()\n"
      ],
      "metadata": {
        "id": "Q9cPjFfgSlxd"
      },
      "execution_count": null,
      "outputs": []
    }
  ]
}