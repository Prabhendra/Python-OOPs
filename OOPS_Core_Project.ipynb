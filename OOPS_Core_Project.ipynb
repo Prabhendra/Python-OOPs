{
  "nbformat": 4,
  "nbformat_minor": 0,
  "metadata": {
    "colab": {
      "provenance": []
    },
    "kernelspec": {
      "name": "python3",
      "display_name": "Python 3"
    },
    "language_info": {
      "name": "python"
    }
  },
  "cells": [
    {
      "cell_type": "markdown",
      "source": [
        "#Constructor:"
      ],
      "metadata": {
        "id": "g3xp8ZgbtIuM"
      }
    },
    {
      "cell_type": "markdown",
      "source": [
        "1. What is a constructor in Python? Explain its purpose and usage."
      ],
      "metadata": {
        "id": "hZwzthRvt6aO"
      }
    },
    {
      "cell_type": "code",
      "source": [
        "'''\n",
        "- In Python, a constructor is a special method within a class that is automatically executed\n",
        "when an object of that class is created. It is primarily used to initialize the attributes of\n",
        "the object, giving them initial values and preparing the object for use.\n",
        "\n",
        "- Purpose: To initialize the attributes (variables) of an object with initial values.\n",
        "To set up the object in a valid initial state before it is used.\n",
        "\n",
        "- Usage: Ensuring objects start with meaningful values for their attributes.\n",
        "Avoiding potential errors caused by uninitialized variables.\n",
        "Performing setup tasks required before an object can be used.\n",
        "\n",
        "'''\n",
        "class Dog:\n",
        "    def __init__(self, name, breed):\n",
        "        self.name = name\n",
        "        self.breed = breed\n",
        "my_dog = Dog(\"Buddy\", \"Golden Retriever\")\n",
        "\n",
        "print(my_dog.name)\n",
        "print(my_dog.breed)"
      ],
      "metadata": {
        "colab": {
          "base_uri": "https://localhost:8080/"
        },
        "id": "oOKM7GMiMw4X",
        "outputId": "1557effb-76e7-4678-afb8-ad425ed8d50f"
      },
      "execution_count": null,
      "outputs": [
        {
          "output_type": "stream",
          "name": "stdout",
          "text": [
            "Buddy\n",
            "Golden Retriever\n"
          ]
        }
      ]
    },
    {
      "cell_type": "markdown",
      "source": [
        "2. Differentiate between a parameterless constructor and a parameterized constructor in Python."
      ],
      "metadata": {
        "id": "rNAXPI3Xt6Xn"
      }
    },
    {
      "cell_type": "code",
      "source": [
        "'''\n",
        "- Parameterless Constructor: A constructor that doesn't accept any arguments (except self).\n",
        "\n",
        "- Usage: Used when objects don't require initial values for their attributes, or when default values are sufficient.\n",
        "\n",
        "- Parameterized Constructor: A constructor that accepts arguments (besides self) to initialize attributes with specific values.\n",
        "- Usage: Enables creating objects with different initial states based on the provided arguments.\n",
        "'''\n",
        "# Syntax:\n",
        "\n",
        "class Dog:\n",
        "    def __init__(self):  # Parameterless constructor\n",
        "        self.name = \"Unknown\"\n",
        "        self.breed = \"Unknown\"\n",
        "\n",
        "    def __init__(self, name, breed):  # Parameterized constructor\n",
        "        self.name = name\n",
        "        self.breed = breed"
      ],
      "metadata": {
        "id": "h0UjkM1qP_jq"
      },
      "execution_count": null,
      "outputs": []
    },
    {
      "cell_type": "markdown",
      "source": [
        "\n",
        "3. How do you define a constructor in a Python class? Provide an example.\n"
      ],
      "metadata": {
        "id": "Awjs_Zs8t6VD"
      }
    },
    {
      "cell_type": "code",
      "source": [
        "'''\n",
        "- In Python, the constructor is defined using a specialmethd named __init__.\n",
        "This method is automatically called when an object of the class created.\n",
        "\n",
        "- The first parameter of the constructor __init__ method should be self.\n",
        "this refers to theinstance of the class being created.\n",
        "\n",
        "- Inside the __init__ method, you can initalize the attributes (variabels)\n",
        "of the object using self parameter\n",
        "'''\n",
        "class Dog:\n",
        "    def __init__(self, name, breed):\n",
        "        self.name = name\n",
        "        self.breed = breed\n",
        "my_dog = Dog(\"Buddy\", \"Golden Retriever\")\n",
        "\n",
        "print(my_dog.name)\n",
        "print(my_dog.breed)"
      ],
      "metadata": {
        "id": "h4jDbxQpQ6Lk"
      },
      "execution_count": null,
      "outputs": []
    },
    {
      "cell_type": "markdown",
      "source": [
        "4. Explain the `__init__` method in Python and its role in constructors.\n"
      ],
      "metadata": {
        "id": "S94gIg1Gt6SW"
      }
    },
    {
      "cell_type": "code",
      "source": [
        "'''\n",
        "- In Python, __init__ is a special method, also known as a \"dunder\" method (double underscores).\n",
        "It's a reserved method with a predefined purpose.\n",
        "- The primary role of __init__ is to serve as the constructor of a class.\n",
        "It's automatically called when you create an object (an instance) of that class.\n",
        "-  Inside the __init__ method, you write the code to initialize the attributes (variables) of the newly created object.\n",
        "This sets the initial state of the object.\n",
        "'''\n",
        "'''\n",
        "- Object Creation: When you create an object of a class,\n",
        "Python internally calls the __init__ method\n",
        "'''\n",
        "# my_dog = Dog(\"Buddy\", \"Golden Retriever\")\n",
        "'''\n",
        "- Within the __init__ method, you use the self parameter to refer to the object being created.\n",
        "You assign values to the object's attributes using self.attribute_name = value.\n",
        "\n",
        "class Dog:\n",
        "        def __init__(self, name, breed):\n",
        "            self.name = name\n",
        "            self.breed = breed\n",
        "\n",
        "'''\n",
        "'''\n",
        "- By initializing attributes in __init__, you ensure that the object starts in a valid\n",
        "and predictable state when it's used in your program.\n",
        "'''"
      ],
      "metadata": {
        "id": "q-u4wejMbJfO"
      },
      "execution_count": null,
      "outputs": []
    },
    {
      "cell_type": "markdown",
      "source": [
        "5. In a class named `Person`, create a constructor that initializes the `name` and `age` attributes. Provide an\n",
        "example of creating an object of this class.\n"
      ],
      "metadata": {
        "id": "la3dYeoxt6Ps"
      }
    },
    {
      "cell_type": "code",
      "source": [
        "class Person:\n",
        "  def __init__(self, name, age):\n",
        "    self.name = name\n",
        "    self.age =age\n",
        "\n",
        "person1 = Person(\"John\", 36)\n",
        "\n",
        "print(f'Name of Person One is: {person1.name}, and Age is: {person1.age}')\n"
      ],
      "metadata": {
        "colab": {
          "base_uri": "https://localhost:8080/"
        },
        "id": "HQEkk1B4cr40",
        "outputId": "7a426753-3c25-43fc-d933-2baa84c39514"
      },
      "execution_count": null,
      "outputs": [
        {
          "output_type": "stream",
          "name": "stdout",
          "text": [
            "Name of Person One is: John, and Age is: 36\n"
          ]
        }
      ]
    },
    {
      "cell_type": "markdown",
      "source": [
        "6. How can you call a constructor explicitly in Python? Give an example.\n"
      ],
      "metadata": {
        "id": "dIgAO6Qbt6NE"
      }
    },
    {
      "cell_type": "code",
      "source": [
        "'''\n",
        "While constructors are typically called automatically when you create an object,\n",
        "you can call them explicitly using the class name followed by parentheses and any required arguments.\n",
        "'''\n",
        "class MyClass:\n",
        "    def __init__(self, value):\n",
        "        self.value = value\n",
        "\n",
        "    def display(self):\n",
        "        print(self.value)\n",
        "\n",
        "\n",
        "obj = MyClass(10)\n",
        "obj.display()\n",
        "\n",
        "MyClass.__init__(obj, 20)\n",
        "obj.display()\n"
      ],
      "metadata": {
        "colab": {
          "base_uri": "https://localhost:8080/"
        },
        "id": "31PHwVXac-Ck",
        "outputId": "510dc436-2781-4467-99e9-702352fba780"
      },
      "execution_count": null,
      "outputs": [
        {
          "output_type": "stream",
          "name": "stdout",
          "text": [
            "10\n",
            "20\n"
          ]
        }
      ]
    },
    {
      "cell_type": "markdown",
      "source": [
        "7. What is the significance of the `self` parameter in Python constructors? Explain with an example.\n"
      ],
      "metadata": {
        "id": "rWkN80cJt6J2"
      }
    },
    {
      "cell_type": "code",
      "source": [
        "'''\n",
        "self is used to access and initialize the attributes (instance variables) of the object.\n",
        "By using self.attribute_name = value, you're essentially assigning a value to a specific\n",
        "attribute of the object being created.\n",
        "\n",
        "self helps distinguish between instance variables and local variables within the constructor.\n",
        "It ensures that you're working with the attributes of the specific object instance.\n",
        "\n",
        "'''\n",
        "\n",
        "class Dog:\n",
        "    def __init__(self, name, breed):\n",
        "        self.name1 = name\n",
        "        self.breed1 = breed\n",
        "\n",
        "my_dog = Dog(\"Buddy\", \"Golden Retriever\")\n",
        "\n",
        "print(my_dog.name1)\n",
        "print(my_dog.breed1)\n",
        "\n"
      ],
      "metadata": {
        "id": "am1X3isRel27",
        "colab": {
          "base_uri": "https://localhost:8080/"
        },
        "outputId": "229e1c7f-cb37-4160-e56f-8edc5f4ea928"
      },
      "execution_count": 2,
      "outputs": [
        {
          "output_type": "stream",
          "name": "stdout",
          "text": [
            "Buddy\n",
            "Golden Retriever\n"
          ]
        }
      ]
    },
    {
      "cell_type": "markdown",
      "source": [
        "8. Discuss the concept of default constructors in Python. When are they used?\n"
      ],
      "metadata": {
        "id": "JyC-QYDrt6HE"
      }
    },
    {
      "cell_type": "code",
      "source": [
        "'''\n",
        "a default constructor is a constructor that doesn't take any arguments\n",
        "(except for the mandatory self parameter).\n",
        "If you don't explicitly define a constructor (__init__ method) in your class,\n",
        "Python automatically provides a default constructor.\n",
        "This default constructor does nothing except initialize the object\n",
        "\n",
        "'''"
      ],
      "metadata": {
        "id": "0HVXf_yik52T"
      },
      "execution_count": null,
      "outputs": []
    },
    {
      "cell_type": "markdown",
      "source": [
        "9. Create a Python class called `Rectangle` with a constructor that initializes the `width` and `height`\n",
        "attributes. Provide a method to calculate the area of the rectangle.\n"
      ],
      "metadata": {
        "id": "adnzAMpIt6Ea"
      }
    },
    {
      "cell_type": "code",
      "source": [
        "class Rectangle:\n",
        "    def __init__(self, width, height):\n",
        "        self.width = width\n",
        "        self.height = height\n",
        "\n",
        "    def calculate_area(self):\n",
        "        return self.width * self.height\n",
        "\n",
        "obj = Rectangle(5, 10)\n",
        "area = obj.calculate_area()\n",
        "print(area)"
      ],
      "metadata": {
        "colab": {
          "base_uri": "https://localhost:8080/"
        },
        "id": "UPxaa4wboaGx",
        "outputId": "3ffdc883-8ee0-4ab1-d0bb-243df875da08"
      },
      "execution_count": 4,
      "outputs": [
        {
          "output_type": "stream",
          "name": "stdout",
          "text": [
            "50\n"
          ]
        }
      ]
    },
    {
      "cell_type": "markdown",
      "source": [
        "10. How can you have multiple constructors in a Python class? Explain with an example.\n"
      ],
      "metadata": {
        "id": "Xgc1Uw-gt6B1"
      }
    },
    {
      "cell_type": "code",
      "source": [
        "class MyClass:\n",
        "    def __init__(self, value1=None, value2=None):\n",
        "        if value1 is not None and value2 is not None:\n",
        "            self.data = value1 + value2\n",
        "        elif value1 is not None:\n",
        "            self.data = value1 * 2\n",
        "        else:\n",
        "            self.data = 0\n",
        "\n",
        "\n",
        "obj1 = MyClass(10, 20)\n",
        "obj2 = MyClass(5)\n",
        "obj3 = MyClass()\n",
        "print(obj1.data)\n",
        "print(obj2.data)\n",
        "print(obj3.data)\n",
        "\n",
        "\n",
        "class MyClass:\n",
        "    def __init__(self, data):\n",
        "        self.data = data\n",
        "\n",
        "    @classmethod\n",
        "    def from_values(cls, value1, value2):\n",
        "        return cls(value1 + value2)\n",
        "\n",
        "    @classmethod\n",
        "    def from_value(cls, value1):\n",
        "        return cls(value1 * 2)\n",
        "\n",
        "obj1 = MyClass.from_values(10, 20)\n",
        "obj2 = MyClass.from_value(5)\n",
        "obj3 = MyClass(0)"
      ],
      "metadata": {
        "colab": {
          "base_uri": "https://localhost:8080/"
        },
        "id": "p8QRTXofo4vy",
        "outputId": "cc1f4d61-c5b5-40e5-94f4-f199742ed276"
      },
      "execution_count": 7,
      "outputs": [
        {
          "output_type": "stream",
          "name": "stdout",
          "text": [
            "30\n",
            "10\n",
            "0\n"
          ]
        }
      ]
    },
    {
      "cell_type": "markdown",
      "source": [
        "11. What is method overloading, and how is it related to constructors in Python?"
      ],
      "metadata": {
        "id": "u4cN4yjft5-8"
      }
    },
    {
      "cell_type": "code",
      "source": [
        "'''\n",
        "Method overloading is a concept in object-oriented programming where you can define multiple methods\n",
        "with the same name within a class, but with different parameters.\n",
        "The correct method to be called is determined at compile time based on the number and types of arguments provided.\n",
        "\n",
        "\n",
        "'''\n",
        "\n",
        "class MyClass:\n",
        "    def __init__(self, value1=None, value2=None):\n",
        "        if value1 is not None and value2 is not None:\n",
        "            self.data = value1 + value2\n",
        "        elif value1 is not None:\n",
        "            self.data = value1 * 2\n",
        "        else:\n",
        "            self.data = 0\n",
        "\n",
        "# Creating objects with different \"constructors\"\n",
        "obj1 = MyClass(10, 20)  # Initializes data to 30\n",
        "obj2 = MyClass(5)       # Initializes data to 10\n",
        "obj3 = MyClass()        # Initializes data to 0"
      ],
      "metadata": {
        "id": "s-zRhrD0rvJ3"
      },
      "execution_count": null,
      "outputs": []
    },
    {
      "cell_type": "markdown",
      "source": [
        "\n",
        "12. Explain the use of the `super()` function in Python constructors. Provide an example."
      ],
      "metadata": {
        "id": "_7FFIU6dt58R"
      }
    },
    {
      "cell_type": "code",
      "source": [
        "'''\n",
        "The super() function is used in constructors to call the constructor of the parent class.\n",
        "This allows you to initialize the attributes inherited from the parent class before adding\n",
        "any specific initialization logic for the child class.\n",
        "'''\n",
        "\n",
        "class Animal:  # Parent class\n",
        "    def __init__(self, name, sound):\n",
        "        self.name = name\n",
        "        self.sound = sound\n",
        "\n",
        "    def speak(self):\n",
        "        print(f\"{self.name} says {self.sound}\")\n",
        "\n",
        "class Dog(Animal):  # Child class inheriting from Animal\n",
        "    def __init__(self, name, breed):\n",
        "        super().__init__(name, \"Woof\")  # Calling Animal's constructor with super()\n",
        "        self.breed = breed\n",
        "\n",
        "    def speak(self):\n",
        "        super().speak() #Calling method from Parent class\n",
        "        print(f\"{self.name} is a {self.breed}\")\n",
        "\n",
        "# Create a Dog object\n",
        "my_dog = Dog(\"Buddy\", \"Golden Retriever\")\n",
        "\n",
        "# Call the speak method\n",
        "my_dog.speak()"
      ],
      "metadata": {
        "id": "yfS_w2V9xEZg"
      },
      "execution_count": null,
      "outputs": []
    },
    {
      "cell_type": "markdown",
      "source": [
        "\n",
        "13. Create a class called `Book` with a constructor that initializes the `title`, `author`, and `published_year`\n",
        "attributes. Provide a method to display book details.\n"
      ],
      "metadata": {
        "id": "z_wcg-rYt55i"
      }
    },
    {
      "cell_type": "code",
      "source": [
        "class Book:\n",
        "    def __init__(self, title, author, published_year):\n",
        "        self.title = title\n",
        "        self.author = author\n",
        "        self.published_year = published_year\n",
        "\n",
        "    def book_details(self):\n",
        "        print(f'Title: {self.title}')\n",
        "        print(f'Author: {self.author}')\n",
        "        print(f'Published Year: {self.published_year}')\n",
        "\n",
        "my_book = Book(\"The Great Gatsby\", \"F. Scott Fitzgerald\", 1925)\n",
        "my_book.book_details()"
      ],
      "metadata": {
        "colab": {
          "base_uri": "https://localhost:8080/"
        },
        "id": "Ld8XJ3oC03wJ",
        "outputId": "7d0cf4c1-29c5-4a61-b7c5-d1b6f0ecf3a6"
      },
      "execution_count": 1,
      "outputs": [
        {
          "output_type": "stream",
          "name": "stdout",
          "text": [
            "Title: The Great Gatsby\n",
            "Author: F. Scott Fitzgerald\n",
            "Published Year: 1925\n"
          ]
        }
      ]
    },
    {
      "cell_type": "markdown",
      "source": [
        "14. Discuss the differences between constructors and regular methods in Python classes.\n"
      ],
      "metadata": {
        "id": "0ZUK5V60t53F"
      }
    },
    {
      "cell_type": "code",
      "source": [
        "'''\n",
        "Constructors :\n",
        "Purpose: Constructors are special methods used to initialize the attributes of an object when it is created. They are responsible for setting up the initial state of the object.\n",
        "\n",
        "Method Name: In Python, the constructor is defined using the __init__ method.\n",
        "\n",
        "Automatic Execution: Constructors are automatically executed when an object of the class is instantiated.\n",
        "\n",
        "self Parameter: The first parameter of a constructor is always self, which refers to the instance of the class being created.\n",
        "\n",
        "Return Value: Constructors do not explicitly return any value.\n",
        "\n",
        "\n",
        "Regular Methods :\n",
        "\n",
        "Purpose: Regular methods define the behavior and actions that an object can perform. They encapsulate the functionality of the class.\n",
        "\n",
        "Method Name: Regular methods can have any valid method name.\n",
        "\n",
        "Explicit Execution: Regular methods are called explicitly on an object using the dot notation.\n",
        "\n",
        "self Parameter: The first parameter of a regular method is typically self, providing access to the object's attributes.\n",
        "\n",
        "Return Value: Regular methods can return values, which can be used by other parts of the program.\n",
        "\n",
        "'''\n",
        "class Dog:\n",
        "    def __init__(self, name, breed): # This is a constructor\n",
        "        self.name = name\n",
        "        self.breed = breed\n",
        "\n",
        "    def bark(self):                # This is a regular method\n",
        "        print(\"Woof!\")\n"
      ],
      "metadata": {
        "id": "0fiediYB6EM4"
      },
      "execution_count": null,
      "outputs": []
    },
    {
      "cell_type": "markdown",
      "source": [
        "15. Explain the role of the `self` parameter in instance variable initialization within a constructor.\n"
      ],
      "metadata": {
        "id": "GfeRY36Qt50j"
      }
    },
    {
      "cell_type": "code",
      "source": [
        "'''\n",
        "When we use self inside the constructor, we're essentially saying,\n",
        "This is the data that belongs to this particular object.\n",
        "Instance variables are like labels we put on objects to store their information. For example, if we have a Dog class, each dog object might have its own name and breed.\n",
        "We use the constructor (__init__) to give these instance variables their initial values.\n",
        "Instance variables are like labels we put on objects to store their information. For example, if we have a Dog class, each dog object might have its own name and breed.\n",
        "We use the constructor (__init__) to give these instance variables their initial values.\n",
        "The self parameter allows us to access and assign values to instance variables.\n",
        "We use the dot notation (self.variable_name = value) to do this.\n",
        "\n",
        "'''\n",
        "\n",
        "class Dog:\n",
        "    def __init__(self, name, breed):\n",
        "        self.name = name  # Giving this dog its name\n",
        "        self.breed = breed # Giving this dog its breed\n",
        "\n",
        "my_dog = Dog(\"Buddy\", \"Golden Retriever\")\n"
      ],
      "metadata": {
        "id": "fqVf1E3E7Whc"
      },
      "execution_count": null,
      "outputs": []
    },
    {
      "cell_type": "markdown",
      "source": [
        "16. How do you prevent a class from having multiple instances by using constructors in Python? Provide an\n",
        "example.\n"
      ],
      "metadata": {
        "id": "PS6aHouvt5yI"
      }
    },
    {
      "cell_type": "code",
      "source": [
        "'''\n",
        "The constructor, named __init__ in Python, is a method that's automatically called when we create a new object of a class. We can add some logic to this constructor to prevent it from creating more than one object.\n",
        "It's like having a special box that can only hold one item at a time. If you try to put another item in, it simply returns the item that's already inside.\n",
        "\n",
        "'''\n",
        "class OnlyOne:\n",
        "    _instance = None  # A special variable to store the single object\n",
        "\n",
        "    def __new__(cls, *args, **kwargs):\n",
        "        if not cls._instance:\n",
        "            cls._instance = super(OnlyOne, cls).__new__(cls, *args, **kwargs)\n",
        "        return cls._instance\n",
        "\n",
        "    def __init__(self, value):\n",
        "        if not OnlyOne._instance:  # Check if an object already exists\n",
        "            self.value = value  # If not, store the value\n",
        "            OnlyOne._instance = self  # And mark this as the single object\n",
        "\n",
        "# Create objects\n",
        "obj1 = OnlyOne(10)\n",
        "obj2 = OnlyOne(20)\n",
        "\n",
        "print(obj1.value)  # Output: 10\n",
        "print(obj2.value)  # Output: 10 (same as obj1)"
      ],
      "metadata": {
        "id": "UWLRfz309VbR"
      },
      "execution_count": null,
      "outputs": []
    },
    {
      "cell_type": "markdown",
      "source": [
        "17. Create a Python class called `Student` with a constructor that takes a list of subjects as a parameter and\n",
        "initializes the `subjects` attribute.\n"
      ],
      "metadata": {
        "id": "GKchDHK_t5u-"
      }
    },
    {
      "cell_type": "code",
      "source": [
        "class Student:\n",
        "    def __init__(self, subjects):\n",
        "        self.subjects = subjects\n",
        "\n",
        "student = Student([\"Math\", \"Science\", \"History\"])\n",
        "print(student.subjects)"
      ],
      "metadata": {
        "colab": {
          "base_uri": "https://localhost:8080/"
        },
        "id": "uPVpezMZAOyF",
        "outputId": "9cc206cf-fe7a-4f01-90dd-6b6c42c34c50"
      },
      "execution_count": 2,
      "outputs": [
        {
          "output_type": "stream",
          "name": "stdout",
          "text": [
            "['Math', 'Science', 'History']\n"
          ]
        }
      ]
    },
    {
      "cell_type": "markdown",
      "source": [
        "18. What is the purpose of the `__del__` method in Python classes, and how does it relate to constructors?\n"
      ],
      "metadata": {
        "id": "uWO-vvV-t5r_"
      }
    },
    {
      "cell_type": "code",
      "source": [
        "'''\n",
        "Purpose of __del__\n",
        "\n",
        "The primary purpose of the __del__ method is to perform cleanup actions before an object is destroyed.\n",
        "This can include releasing resources like file handles, network connections, or database connections held by the object.\n",
        "It acts as a finalizer, ensuring that resources are properly disposed of before the object is garbage collected.\n",
        "\n",
        "Relationship to Constructors\n",
        "\n",
        "Constructors (__init__) are responsible for object initialization, setting up the initial state of the object.\n",
        "Destructors (__del__), on the other hand, are responsible for object cleanup, releasing resources held by the object before it's destroyed.\n",
        "They are essentially counterparts in the object lifecycle.\n",
        "'''\n",
        "class MyClass:\n",
        "    def __init__(self, filename):\n",
        "        self.file = open(filename, 'w')\n",
        "\n",
        "    def __del__(self):\n",
        "        self.file.close()\n",
        "        print(\"File closed.\")\n"
      ],
      "metadata": {
        "id": "itE5UYLjAXwD"
      },
      "execution_count": null,
      "outputs": []
    },
    {
      "cell_type": "markdown",
      "source": [
        "19. Explain the use of constructor chaining in Python. Provide a practical example.\n"
      ],
      "metadata": {
        "id": "8RJOYpabt5pN"
      }
    },
    {
      "cell_type": "code",
      "source": [
        "'''\n",
        "Constructor chaining is a technique where the constructor of a class calls the constructor of another class (usually its parent class) to initialize inherited attributes or perform common setup tasks.\n",
        "This helps avoid code duplication and ensures that the initialization process follows the inheritance hierarchy correctly.\n",
        "\n",
        "constructor chaining is typically achieved using the super() function.\n",
        "By calling super().__init__() within a child class's constructor,\n",
        "you can invoke the constructor of the parent class, passing any necessary arguments.\n",
        "'''\n",
        "\n",
        "class Vehicle:\n",
        "    def __init__(self, make, model):\n",
        "        self.make = make\n",
        "        self.model = model\n",
        "\n",
        "class Car(Vehicle):\n",
        "    def __init__(self, make, model, num_doors):\n",
        "        super().__init__(make, model)  # Calling Vehicle's constructor\n",
        "        self.num_doors = num_doors\n",
        "\n",
        "# Example usage\n",
        "my_car = Car(\"Toyota\", \"Camry\", 4)\n",
        "print(my_car.make)  # Output: Toyota\n",
        "print(my_car.model)  # Output: Camry\n",
        "print(my_car.num_doors)  # Output: 4"
      ],
      "metadata": {
        "id": "oLs8NXndORYp"
      },
      "execution_count": null,
      "outputs": []
    },
    {
      "cell_type": "markdown",
      "source": [
        "20. Create a Python class called `Car` with a default constructor that initializes the `make` and `model`\n",
        "attributes. Provide a method to display car information."
      ],
      "metadata": {
        "id": "sCLTpdF9t5Ys"
      }
    },
    {
      "cell_type": "code",
      "source": [
        "class car:\n",
        "  def __init__(self, make, model):\n",
        "    self.make = make\n",
        "    self.model = model\n",
        "\n",
        "  def display_car_info(self):\n",
        "    print(f'Make: {self.make}')\n",
        "    print(f'Model: {self.model}')\n",
        "\n",
        "ob1 = car('Toyota', 'Camry')\n",
        "ob1.display_car_info()"
      ],
      "metadata": {
        "colab": {
          "base_uri": "https://localhost:8080/"
        },
        "id": "NU6zNaTZAsPp",
        "outputId": "ca7d43b0-b9bf-4047-ada3-f6463beb819a"
      },
      "execution_count": 4,
      "outputs": [
        {
          "output_type": "stream",
          "name": "stdout",
          "text": [
            "Make: Toyota\n",
            "Model: Camry\n"
          ]
        }
      ]
    },
    {
      "cell_type": "markdown",
      "source": [
        "#Inheritance:"
      ],
      "metadata": {
        "id": "Q7_V6F4Dut5H"
      }
    },
    {
      "cell_type": "markdown",
      "source": [
        "1. What is inheritance in Python? Explain its significance in object-oriented programming.\n"
      ],
      "metadata": {
        "id": "-_7jgo9nuzME"
      }
    },
    {
      "cell_type": "code",
      "source": [
        "'''\n",
        "allows you to create new classes (called child classes or subclasses) based on existing classes (called parent classes or superclasses). The child class inherits the attributes and methods of the parent class,\n",
        "and it can also add its own unique attributes and methods or modify existing ones.\n",
        "\n",
        "Code Reusability: Inheritance promotes code reuse by allowing you to inherit functionality from existing classes instead of rewriting it. This reduces code duplication and improves efficiency.\n",
        "\n",
        "Code Organization: Inheritance helps organize code into a hierarchical structure, reflecting the relationships between different classes. This makes code easier to understand and maintain\n",
        "\n",
        "Polymorphism: Inheritance enables polymorphism, which means that objects of different classes can be treated as objects of a common parent class. This allows you to write more flexible and generic code.\n",
        "\n",
        "Extensibility: Inheritance allows you to extend the functionality of existing classes without modifying their original code. This makes it easier to adapt and evolve your code over time.\n",
        "'''\n",
        "\n",
        "class Animal:\n",
        "    def __init__(self, name):\n",
        "        self.name = name\n",
        "\n",
        "    def speak(self):\n",
        "        print(\"Generic animal sound\")\n",
        "\n",
        "class Dog(Animal):\n",
        "    def speak(self):\n",
        "        print(\"Woof!\")\n",
        "\n",
        "class Cat(Animal):\n",
        "    def speak(self):\n",
        "        print(\"Meow!\")\n",
        "\n",
        "\n",
        "my_dog = Dog(\"Buddy\")\n",
        "my_cat = Cat(\"Whiskers\")\n",
        "\n",
        "\n",
        "my_dog.speak()\n",
        "my_cat.speak()"
      ],
      "metadata": {
        "id": "iDCw9L4gzd-Z"
      },
      "execution_count": null,
      "outputs": []
    },
    {
      "cell_type": "markdown",
      "source": [
        "2. Differentiate between single inheritance and multiple inheritance in Python. Provide examples for each.\n"
      ],
      "metadata": {
        "id": "WGOF9Un4uzI2"
      }
    },
    {
      "cell_type": "code",
      "source": [
        "'''\n",
        "Single Inheritance\n",
        "Definition: In single inheritance, a class inherits from only one parent class. This creates a simple and linear inheritance hierarchy.\n",
        "'''\n",
        "class Animal:\n",
        "    def __init__(self, name):\n",
        "        self.name = name\n",
        "\n",
        "    def speak(self):\n",
        "        print(\"Generic animal sound\")\n",
        "\n",
        "class Dog(Animal):\n",
        "    def speak(self):\n",
        "        print(\"Woof!\")\n",
        "\n",
        "\n",
        "my_dog = Dog(\"Buddy\")\n",
        "my_dog.speak()\n",
        "\n",
        "'''\n",
        "Multiple Inheritance\n",
        "Definition: In multiple inheritance, a class inherits from more than one parent class. This allows a class to combine functionality from multiple sources.\n",
        "\n",
        "'''\n",
        "class Flyer:\n",
        "    def fly(self):\n",
        "        print(\"Flying...\")\n",
        "\n",
        "class Swimmer:\n",
        "    def swim(self):\n",
        "        print(\"Swimming...\")\n",
        "\n",
        "class Duck(Flyer, Swimmer):\n",
        "    pass  # Duck inherits fly() from Flyer and swim() from Swimmer\n",
        "\n",
        "# Create a Duck object\n",
        "my_duck = Duck()\n",
        "my_duck.fly()   # Output: Flying...\n",
        "my_duck.swim()  # Output: Swimming...\n"
      ],
      "metadata": {
        "id": "R-Oc-N-v1jBc"
      },
      "execution_count": null,
      "outputs": []
    },
    {
      "cell_type": "markdown",
      "source": [
        "3. Create a Python class called `Vehicle` with attributes `color` and `speed`. Then, create a child class called\n",
        "`Car` that inherits from `Vehicle` and adds a `brand` attribute. Provide an example of creating a `Car` object.\n"
      ],
      "metadata": {
        "id": "GNis-MRWuzGD"
      }
    },
    {
      "cell_type": "code",
      "source": [
        "class Vehicle:\n",
        "    def __init__(self, color, speed):\n",
        "        self.color = color\n",
        "        self.speed = speed\n",
        "\n",
        "class Car(Vehicle):\n",
        "    def __init__(self, color, speed, brand):\n",
        "        super().__init__(color, speed)  # Call the parent class constructor\n",
        "        self.brand = brand\n",
        "\n",
        "# Create a Car object\n",
        "my_car = Car(\"red\", 120, \"Toyota\")\n",
        "\n",
        "# Access attributes\n",
        "print(my_car.color)\n",
        "print(my_car.speed)\n",
        "print(my_car.brand)"
      ],
      "metadata": {
        "id": "ZdJJKErJ2bgN"
      },
      "execution_count": null,
      "outputs": []
    },
    {
      "cell_type": "markdown",
      "source": [
        "4. Explain the concept of method overriding in inheritance. Provide a practical example.\n"
      ],
      "metadata": {
        "id": "3olbg6wquzDG"
      }
    },
    {
      "cell_type": "code",
      "source": [
        "'''\n",
        "In inheritance, method overriding allows a child class to provide a specific implementation for a method that is already defined in its parent class.\n",
        "This means the child class can modify or extend the behavior of the inherited method to suit its own needs.\n",
        "\n",
        "When a child class defines a method with the same name as a method in its parent class,\n",
        "it overrides the parent class's method. When you call the method on an object of the child class, the overridden version in the child class is executed instead of the parent class's version.\n",
        "'''\n",
        "\n",
        "class Animal:\n",
        "    def speak(self):\n",
        "        print(\"Generic animal sound\")\n",
        "\n",
        "class Dog(Animal):\n",
        "    def speak(self):\n",
        "        print(\"Woof!\")\n",
        "\n",
        "class Cat(Animal):\n",
        "    def speak(self):\n",
        "        print(\"Meow!\")\n",
        "\n",
        "\n",
        "my_dog = Dog()\n",
        "my_cat = Cat()\n",
        "\n",
        "ob1 = Animal()\n",
        "ob1.speak()\n",
        "\n",
        "my_dog.speak()\n",
        "my_cat.speak()"
      ],
      "metadata": {
        "colab": {
          "base_uri": "https://localhost:8080/"
        },
        "id": "ZLaqhccXo-Xz",
        "outputId": "a8956e88-7b87-43c8-9039-969e327863f7"
      },
      "execution_count": 2,
      "outputs": [
        {
          "output_type": "stream",
          "name": "stdout",
          "text": [
            "Generic animal sound\n",
            "Woof!\n",
            "Meow!\n"
          ]
        }
      ]
    },
    {
      "cell_type": "markdown",
      "source": [
        "5. How can you access the methods and attributes of a parent class from a child class in Python? Give an\n",
        "example.\n"
      ],
      "metadata": {
        "id": "C9rPFMuCuy57"
      }
    },
    {
      "cell_type": "code",
      "source": [
        "'''\n",
        "There are two ways to access the methods:\n",
        "\n",
        "Using the super() function:\n",
        "\n",
        "The super() function provides a way to refer to the parent class and access its members.\n",
        "It's commonly used within the child class's methods to call the parent class's methods or access its attributes.\n",
        "\n",
        "Directly using the parent class name:\n",
        "\n",
        "You can directly use the parent class name followed by the member name (method or attribute) to access it.\n",
        "This approach is less common but can be useful in specific scenarios.\n",
        "'''\n",
        "\n",
        "class Animal:\n",
        "    def __init__(self, name):\n",
        "        self.name = name\n",
        "\n",
        "    def speak(self):\n",
        "        print(\"Generic animal sound\")\n",
        "\n",
        "class Dog(Animal):\n",
        "    def __init__(self, name, breed):\n",
        "        super().__init__(name)  # Accessing parent constructor\n",
        "        self.breed = breed\n",
        "\n",
        "    def speak(self):\n",
        "        super().speak()  # Accessing parent method\n",
        "        print(\"Woof!\")\n",
        "\n",
        "\n",
        "my_dog = Dog(\"Buddy\", \"Golden Retriever\")\n",
        "\n",
        "\n",
        "print(my_dog.name)\n",
        "print(my_dog.breed)\n",
        "my_dog.speak()"
      ],
      "metadata": {
        "id": "trOPNGMfqUXx"
      },
      "execution_count": null,
      "outputs": []
    },
    {
      "cell_type": "markdown",
      "source": [
        "6. Discuss the use of the `super()` function in Python inheritance. When and why is it used? Provide an\n",
        "example.\n"
      ],
      "metadata": {
        "id": "SM-tkyUXuy3D"
      }
    },
    {
      "cell_type": "code",
      "source": [
        "'''\n",
        "The super() function is a powerful tool in Python inheritance that allows you to call methods and access attributes of a parent class from within a child class.\n",
        "It's particularly useful for extending or modifying the behavior of inherited methods.\n",
        "\n",
        "\n",
        "Calling Parent Class Constructors:\n",
        "\n",
        "When a child class needs to initialize attributes inherited from its parent class, super() is used to invoke the parent class's constructor (__init__).\n",
        "This ensures proper initialization of inherited attributes before the child class adds its own specific attributes.\n",
        "\n",
        "Extending Parent Class Methods:\n",
        "\n",
        "When a child class wants to modify the behavior of an inherited method while still retaining some of its original functionality, super() is used to call the parent class's method within the child class's overridden method.\n",
        "This allows the child class to add its own logic before or after the parent class's logic.\n",
        "\n",
        "Method Resolution Order (MRO):\n",
        "\n",
        "In cases of multiple inheritance, where a class inherits from multiple parent classes, super() helps navigate the Method Resolution Order (MRO) to determine which parent class's method should be called.\n",
        "This ensures that methods are called in the correct order according to the inheritance hierarchy.\n",
        "\n",
        "'''\n",
        "class Animal:\n",
        "    def __init__(self, name):\n",
        "        self.name = name\n",
        "\n",
        "    def speak(self):\n",
        "        print(f\"{self.name} says...\")\n",
        "\n",
        "class Dog(Animal):\n",
        "    def __init__(self, name, breed):\n",
        "        super().__init__(name)  # Calling parent constructor\n",
        "        self.breed = breed\n",
        "\n",
        "    def speak(self):\n",
        "        super().speak()  # Calling parent method\n",
        "        print(\"Woof!\")\n",
        "\n",
        "\n",
        "my_dog = Dog(\"Buddy\", \"Golden Retriever\")\n",
        "my_dog.speak()"
      ],
      "metadata": {
        "id": "Ud094ebAr_DX"
      },
      "execution_count": null,
      "outputs": []
    },
    {
      "cell_type": "markdown",
      "source": [
        "7. Create a Python class called `Animal` with a method `speak()`. Then, create child classes `Dog` and `Cat` that inherit from `Animal` and override the `speak()` method. Provide an example of using these classes.\n"
      ],
      "metadata": {
        "id": "gLnLDWKEuyz6"
      }
    },
    {
      "cell_type": "code",
      "source": [
        "class Animal:\n",
        "    def speak(self):\n",
        "        print(\"Generic animal sound\")\n",
        "\n",
        "class Dog(Animal):\n",
        "    def speak(self):\n",
        "        print(\"Woof!\")\n",
        "\n",
        "class Cat(Animal):\n",
        "    def speak(self):\n",
        "        print(\"Meow!\")\n",
        "\n",
        "my_dog = Dog()\n",
        "my_cat = Cat()\n",
        "\n",
        "my_dog.speak()\n",
        "my_cat.speak()"
      ],
      "metadata": {
        "id": "8RiYxqVzujJZ"
      },
      "execution_count": null,
      "outputs": []
    },
    {
      "cell_type": "markdown",
      "source": [
        "8. Explain the role of the `isinstance()` function in Python and how it relates to inheritance.\n"
      ],
      "metadata": {
        "id": "EkzFkXKduyxL"
      }
    },
    {
      "cell_type": "code",
      "source": [
        "'''\n",
        "The isinstance() function is a built-in function in Python that checks if an object is an instance of a specified class or a tuple of classes. It returns True if the object is an instance of the specified class(es) and False otherwise.\n",
        "\n",
        "The isinstance() function is particularly useful when dealing with inheritance because it considers the inheritance hierarchy. This means that if an object is an instance of a child class, isinstance() will also return True if you check it against the parent class.\n",
        "'''"
      ],
      "metadata": {
        "id": "2sBuXJPdCaUG"
      },
      "execution_count": null,
      "outputs": []
    },
    {
      "cell_type": "markdown",
      "source": [
        "\n",
        "9. What is the purpose of the `issubclass()` function in Python? Provide an example.\n"
      ],
      "metadata": {
        "id": "7BnIYzVGuyuE"
      }
    },
    {
      "cell_type": "code",
      "source": [
        "'''\n",
        "The issubclass() function is used to check if a class is a subclass of another class. It returns True if the first class is a subclass of the second class, and False otherwise.\n",
        "This function is helpful for determining the inheritance relationship between classes.\n",
        "\n",
        "'''\n",
        "'''\n",
        "\n",
        "issubclass(class, classinfo)\n",
        "\n",
        "class: The class you want to check.\n",
        "classinfo: The class or tuple of classes you want to compare against.\n",
        "\n",
        "'''\n",
        "class Animal:\n",
        "    pass\n",
        "\n",
        "class Dog(Animal):\n",
        "    pass\n",
        "\n",
        "class Cat(Animal):\n",
        "    pass\n",
        "\n",
        "print(issubclass(Dog, Animal))  # Output: True\n",
        "print(issubclass(Cat, Animal))  # Output: True\n",
        "print(issubclass(Dog, Cat))    # Output: False"
      ],
      "metadata": {
        "id": "blc5kA1kCrIL"
      },
      "execution_count": null,
      "outputs": []
    },
    {
      "cell_type": "markdown",
      "source": [
        "10. Discuss the concept of constructor inheritance in Python. How are constructors inherited in child classes?\n"
      ],
      "metadata": {
        "id": "E4nGWXCnuyrV"
      }
    },
    {
      "cell_type": "code",
      "source": [
        "'''\n",
        "constructors are special methods named __init__ that are used to initialize objects when they are created.\n",
        "When a child class inherits from a parent class, it also inherits the parent class's constructor.\n",
        "However, the child class can define its own constructor, which can either extend or completely replace the parent class's constructor.\n",
        "\n",
        "-How Constructors Are Inherited:\n",
        "\n",
        "Implicit Inheritance: If a child class does not define its own __init__ method, it automatically inherits the constructor of its parent class.\n",
        "This means that when you create an object of the child class, the parent class's constructor will be called to initialize the object.\n",
        "\n",
        "Explicit Overriding: If a child class defines its own __init__ method, it overrides the parent class's constructor.\n",
        "This means that when you create an object of the child class, the child class's constructor will be called instead of the parent class's constructor.\n",
        "\n",
        "Calling the Parent Constructor: Even if a child class overrides the parent class's constructor, it can still call the parent constructor using the super() function.\n",
        "This is often done to initialize attributes inherited from the parent class before adding any specific initialization logic for the child class.\n",
        "'''"
      ],
      "metadata": {
        "id": "YOwTSTLuapDW"
      },
      "execution_count": null,
      "outputs": []
    },
    {
      "cell_type": "markdown",
      "source": [
        "11. Create a Python class called `Shape` with a method `area()` that calculates the area of a shape. Then, create child classes `Circle` and `Rectangle` that inherit from `Shape` and implement the `area()` method\n",
        "accordingly. Provide an example.\n"
      ],
      "metadata": {
        "id": "mgkMjzGBuyoN"
      }
    },
    {
      "cell_type": "code",
      "source": [
        "import math\n",
        "\n",
        "class Shape:\n",
        "  def area(self):\n",
        "    pass\n",
        "\n",
        "class Circle(Shape):\n",
        "  def __init__(self, radius):\n",
        "    self.radius = radius\n",
        "\n",
        "  def area(self):\n",
        "    return math.pi * self.radius ** 2\n",
        "\n",
        "class Rectangle(Shape):\n",
        "  def __init__(self, length, width):\n",
        "    self.length = length\n",
        "    self.width = width\n",
        "\n",
        "  def area(self):\n",
        "    return self.length * self.width\n",
        "\n",
        "\n",
        "\n",
        "circle = Circle(5)\n",
        "rectangle = Rectangle(4, 6)\n",
        "\n",
        "print(\"Circle area:\", circle.area())\n",
        "print(\"Rectangle area:\", rectangle.area())"
      ],
      "metadata": {
        "id": "1k3YAg6XcLbE"
      },
      "execution_count": null,
      "outputs": []
    },
    {
      "cell_type": "markdown",
      "source": [
        "12. Explain the use of abstract base classes (ABCs) in Python and how they relate to inheritance. Provide an\n",
        "example using the `abc` module.\n"
      ],
      "metadata": {
        "id": "ZpzkkJxCuylE"
      }
    },
    {
      "cell_type": "code",
      "source": [
        "'''\n",
        "ABCs are classes that cannot be instantiated directly.\n",
        "They serve as blueprints for other classes, defining a common interface and ensuring that certain methods are implemented by their concrete subclasses.\n",
        "This enforces a specific structure and behavior for related classes.\n",
        "\n",
        "ABCs are closely related to inheritance. They are used to define a common interface for a group of related classes, and concrete subclasses inherit from the ABC and provide implementations for the abstract methods defined in the ABC.\n",
        "This ensures that all subclasses adhere to the same interface and have the required functionality.\n",
        "\n",
        "The abc module in Python provides the infrastructure for defining and working with ABCs.\n",
        "It includes the ABC class and the abstractmethod decorator, which are used to define abstract classes and methods, respectively\n",
        "'''\n",
        "\n",
        "from abc import ABC, abstractmethod\n",
        "\n",
        "class Shape(ABC):  # Define an abstract base class\n",
        "    @abstractmethod\n",
        "    def area(self):\n",
        "        pass  # Abstract method, no implementation here\n",
        "\n",
        "class Circle(Shape):\n",
        "    def __init__(self, radius):\n",
        "        self.radius = radius\n",
        "\n",
        "    def area(self):\n",
        "        return 3.14 * self.radius**2\n",
        "\n",
        "class Rectangle(Shape):\n",
        "    def __init__(self, width, height):\n",
        "        self.width = width\n",
        "        self.height = height\n",
        "\n",
        "    def area(self):\n",
        "        return self.width * self.height\n",
        "\n",
        "# Example usage\n",
        "circle = Circle(5)\n",
        "rectangle = Rectangle(4, 6)\n",
        "\n",
        "print(\"Circle area:\", circle.area())\n",
        "print(\"Rectangle area:\", rectangle.area())"
      ],
      "metadata": {
        "id": "Qwkazmrvcy4a"
      },
      "execution_count": null,
      "outputs": []
    },
    {
      "cell_type": "markdown",
      "source": [
        "13. How can you prevent a child class from modifying certain attributes or methods inherited from a parent\n",
        "class in Python?\n"
      ],
      "metadata": {
        "id": "vgRqnUS8uybJ"
      }
    },
    {
      "cell_type": "code",
      "source": [
        "'''\n",
        "Naming Conventions:\n",
        "\n",
        "Use a single leading underscore (_attribute) for attributes you'd prefer child classes not to modify directly.\n",
        "This is a convention that signals to other developers that the attribute is intended for internal use.\n",
        "Use a double leading underscore (__attribute) to trigger name mangling, which makes it harder (but not impossible) to access the attribute directly from outside the class.\n",
        "\n",
        "Properties:\n",
        "\n",
        "Define properties using the @property decorator to control access to attributes. You can define a getter method to allow reading the attribute, but omit a setter method to prevent modification.\n",
        "\n",
        "Raising Exceptions:\n",
        "\n",
        "In the setter method of a property or within a method you want to protect, you can raise an exception (e.g., AttributeError) if the child class attempts to modify the attribute or call the method in an undesired way.\n",
        "\n",
        "Documentation and Conventions:\n",
        "\n",
        "Clearly document in your code which attributes and methods should not be modified by child classes.\n",
        "This relies on developer cooperation and understanding.\n",
        "'''\n",
        "\n",
        "class Parent:\n",
        "    def __init__(self):\n",
        "        self._protected_attribute = 10  # Protected using single underscore\n",
        "\n",
        "    @property\n",
        "    def value(self):\n",
        "        return self._protected_attribute\n",
        "\n",
        "class Child(Parent):\n",
        "    def __init__(self):\n",
        "        super().__init__()\n",
        "        # self._protected_attribute = 20  # Still accessible but discouraged\n",
        "        # self.value = 20  # AttributeError: can't set attribute\n",
        "\n",
        "# Usage\n",
        "parent_obj = Parent()\n",
        "child_obj = Child()\n",
        "\n",
        "print(parent_obj.value)\n",
        "print(child_obj.value)"
      ],
      "metadata": {
        "id": "QAJeJEXddAn2"
      },
      "execution_count": null,
      "outputs": []
    },
    {
      "cell_type": "markdown",
      "source": [
        "14. Create a Python class called `Employee` with attributes `name` and `salary`. Then, create a child class\n",
        "`Manager` that inherits from `Employee` and adds an attribute `department`. Provide an example.\n"
      ],
      "metadata": {
        "id": "2dHcITI9vcyY"
      }
    },
    {
      "cell_type": "code",
      "source": [
        "class Employee:\n",
        "  def __init__(self,name,salary):\n",
        "    self.name = name\n",
        "    self.salary = salary\n",
        "\n",
        "class Manager(Employee):\n",
        "  def __init__(self,name,salary,department):\n",
        "    super().__init__(name,salary)\n",
        "    self.department = department"
      ],
      "metadata": {
        "id": "F64UhVA4dAGq"
      },
      "execution_count": null,
      "outputs": []
    },
    {
      "cell_type": "markdown",
      "source": [
        "15. Discuss the concept of method overloading in Python inheritance. How does it differ from method\n",
        "overriding?\n"
      ],
      "metadata": {
        "id": "6N8cdoA0vfNn"
      }
    },
    {
      "cell_type": "code",
      "source": [
        "'''\n",
        "Method overloading is  where you can define multiple methods with the same name within a class, but with different parameters (number or types). The correct method to be called is determined at compile time based on the arguments provided\n",
        "'''\n",
        "class MyClass:\n",
        "    def my_method(self, a, b=None):\n",
        "        if b is None:\n",
        "            print(\"Single argument:\", a)\n",
        "        else:\n",
        "            print(\"Two arguments:\", a, b)\n",
        "\n",
        "# Usage\n",
        "obj = MyClass()\n",
        "obj.my_method(10)\n",
        "obj.my_method(10, 20)\n",
        "\n",
        "'''\n",
        "where a child class provides a specific implementation for a method that is already defined in its parent class. The child class's version of the method is executed instead of the parent class's version when called on an object of the child class.\n",
        "'''\n",
        "\n",
        "class Animal:\n",
        "    def speak(self):\n",
        "        print(\"Generic animal sound\")\n",
        "\n",
        "class Dog(Animal):\n",
        "    def speak(self):\n",
        "        print(\"Woof!\")\n",
        "\n",
        "# Usage\n",
        "my_dog = Dog()\n",
        "my_dog.speak()\n"
      ],
      "metadata": {
        "id": "A_CkRAkrc_aa"
      },
      "execution_count": null,
      "outputs": []
    },
    {
      "cell_type": "markdown",
      "source": [
        "16. Explain the purpose of the `__init__()` method in Python inheritance and how it is utilized in child classes.\n"
      ],
      "metadata": {
        "id": "5ChRmln_vg6T"
      }
    },
    {
      "cell_type": "code",
      "source": [
        "'''\n",
        "The __init__() method, also known as the constructor, plays a crucial role in inheritance.\n",
        "Its primary purpose is to initialize the attributes of an object when it is created.\n",
        "\n",
        "\n",
        "Initializing Inherited Attributes: When a child class inherits from a parent class, it also inherits the parent's attributes. The __init__() method of the child class can call the parent's __init__() method using super() to ensure that the inherited attributes are properly initialized.\n",
        "\n",
        "Adding Child-Specific Attributes: The child class's __init__() method can also add new attributes that are specific to the child class, extending the functionality inherited from the parent.\n",
        "\n",
        "There are two main ways __init__() is used in child classes:\n",
        "\n",
        "Implicit Inheritance: If a child class doesn't define its own __init__() method, it automatically inherits the constructor of its parent class.\n",
        "This means that when you create an object of the child class, the parent class's __init__() will be called to initialize the object.\n",
        "\n",
        "Explicit Overriding: If a child class defines its own __init__() method, it overrides the parent class's constructor.\n",
        "This means that when you create an object of the child class, the child class's __init__() will be called instead of the parent class's __init__(). However, you can still call the parent's __init__() using super() to initialize inherited attributes.\n",
        "'''\n",
        "\n"
      ],
      "metadata": {
        "id": "Aoft57dyc_AP"
      },
      "execution_count": null,
      "outputs": []
    },
    {
      "cell_type": "markdown",
      "source": [
        "17. Create a Python class called `Bird` with a method `fly()`. Then, create child classes `Eagle` and `Sparrow` that inherit from `Bird` and implement the `fly()` method differently. Provide an example of using these\n",
        "classes.\n"
      ],
      "metadata": {
        "id": "TvUzuyz1vijg"
      }
    },
    {
      "cell_type": "code",
      "source": [
        "class Bird:\n",
        "  def fly(self):\n",
        "    print(\"Generic bird flying\")\n",
        "\n",
        "class Eagle(Bird):\n",
        "  def fly(self):\n",
        "    print(\"Eagle flying\")\n",
        "\n",
        "class Sparrow(Bird):\n",
        "  def fly(self):\n",
        "    print(\"Sparrow flying\")\n",
        "\n",
        "\n",
        "bird = Bird()\n",
        "eagle = Eagle()\n",
        "sparrow = Sparrow()\n",
        "\n",
        "\n",
        "bird.fly()\n",
        "eagle.fly()\n",
        "sparrow.fly()"
      ],
      "metadata": {
        "id": "ZDOKhFNBc-kr"
      },
      "execution_count": null,
      "outputs": []
    },
    {
      "cell_type": "markdown",
      "source": [
        "18. What is the \"diamond problem\" in multiple inheritance, and how does Python address it?\n"
      ],
      "metadata": {
        "id": "wMfimG9JvksS"
      }
    },
    {
      "cell_type": "code",
      "source": [
        "'''\n",
        "The diamond problem arises in multiple inheritance when a class inherits from two classes that have a common ancestor.\n",
        "This creates ambiguity about which method or attribute should be used when the child class calls a method or accesses an attribute that is defined in both parent classes.\n",
        "\n",
        "    A\n",
        "   / \\\n",
        "  B   C\n",
        "   \\ /\n",
        "    D\n",
        "\n",
        "- In this scenario, if class D inherits from both B and C, and both B and C inherit from A, then if A has a method method_a() and both B and C override this method, it's unclear which version of method_a() should be called when D calls it.\n",
        "\n",
        "Python uses a method resolution order (MRO) to determine the order in which to search for methods and attributes in a class hierarchy. The MRO is based on the C3 linearization algorithm, which ensures that:\n",
        "\n",
        "Local Precedence: Methods and attributes defined in the class itself are searched first.\n",
        "Monotonicity: If class B appears before class C in the MRO of a class D, then B will also appear before C in the MRO of any subclass of D.\n",
        "Consistency: The MRO is consistent across all subclasses of a given class.\n",
        "'''\n",
        "\n",
        "class A:\n",
        "    def method(self):\n",
        "        print(\"Method in A\")\n",
        "\n",
        "class B(A):\n",
        "    def method(self):\n",
        "        print(\"Method in B\")\n",
        "\n",
        "class C(A):\n",
        "    def method(self):\n",
        "        print(\"Method in C\")\n",
        "\n",
        "class D(B, C):\n",
        "    pass\n",
        "\n",
        "d = D()\n",
        "d.method()"
      ],
      "metadata": {
        "id": "HSgG930Gc-Nm"
      },
      "execution_count": null,
      "outputs": []
    },
    {
      "cell_type": "markdown",
      "source": [
        "19. Discuss the concept of \"is-a\" and \"has-a\" relationships in inheritance, and provide examples of each."
      ],
      "metadata": {
        "id": "XsKFDK_CvmQG"
      }
    },
    {
      "cell_type": "code",
      "source": [
        "'''\n",
        "Is-a\" Relationship (Inheritance)\n",
        "\n",
        "The \"is-a\" relationship represents inheritance, where a child class inherits properties and behaviors from a parent class. It signifies that the child class is a specialized type of the parent class.\n",
        "\n",
        "\n",
        "'''\n",
        "\n",
        "class Animal:\n",
        "    def __init__(self, name):\n",
        "        self.name = name\n",
        "\n",
        "    def speak(self):\n",
        "        print(\"Generic animal sound\")\n",
        "\n",
        "class Dog(Animal):\n",
        "    def speak(self):\n",
        "        print(\"Woof!\")\n",
        "\n",
        "\n",
        "\n",
        "'''\n",
        "\"Has-a\" Relationship (Composition)\n",
        "\n",
        "The \"has-a\" relationship represents composition, where a class contains an instance of another class as an attribute. It signifies that a class has a component or part that is another object.\n",
        "\n",
        "'''\n",
        "class Engine:\n",
        "    def start(self):\n",
        "        print(\"Engine started\")\n",
        "\n",
        "class Car:\n",
        "    def __init__(self):\n",
        "        self.engine = Engine()  # Car has an Engine\n",
        "\n",
        "    def drive(self):\n",
        "        self.engine.start()\n",
        "        print(\"Car is moving\")\n"
      ],
      "metadata": {
        "id": "9rq3uOlhc9zK"
      },
      "execution_count": null,
      "outputs": []
    },
    {
      "cell_type": "markdown",
      "source": [
        "\n",
        "20. Create a Python class hierarchy for a university system. Start with a base class `Person` and create child\n",
        "classes `Student` and `Professor`, each with their own attributes and methods. Provide an example of using\n",
        "these classes in a university context."
      ],
      "metadata": {
        "id": "qQeKBA3uvn7W"
      }
    },
    {
      "cell_type": "code",
      "source": [
        "class Person:\n",
        "  def __init__(self,name,age):\n",
        "    self.name = name\n",
        "    self.age = age\n",
        "    self.address = address\n",
        "\n",
        "  def introduce(self):\n",
        "    print(f\"Hi, my name is {self.name}. I am {self.age} years old and live at {self.address}.\")\n",
        "\n",
        "class Student(Person):\n",
        "  def __init__(self, name, age, address, student_id, major):\n",
        "    super().__init__(name, age, address)\n",
        "    self.student_id = student_id\n",
        "    self.major = major\n",
        "\n",
        "  def study(self):\n",
        "    print(f\"{self.name} is studying {self.major}.\")\n",
        "\n",
        "class Professor(Person):\n",
        "  def __init__(self, name, age, address, professor_id, department):\n",
        "    super().__init__(name, age, address)\n",
        "    self.professor_id = professor_id\n",
        "    self.department = department\n",
        "\n",
        "  def teach(self):\n",
        "    print(f\"{self.name} is teaching in the {self.department} department.\")\n",
        "\n",
        "# Example usage in a university context\n",
        "student1 = Student(\"Alice\", 20, \"123 Main St\", \"12345\", \"Computer Science\")\n",
        "professor1 = Professor(\"Dr. Bob\", 45, \"456 Oak Ave\", \"67890\", \"Engineering\")\n",
        "\n",
        "student1.introduce()\n",
        "student1.study()\n",
        "\n",
        "professor1.introduce()\n",
        "professor1.teach()\n"
      ],
      "metadata": {
        "id": "Lof5C467c9DO"
      },
      "execution_count": null,
      "outputs": []
    },
    {
      "cell_type": "markdown",
      "source": [
        "#Encapsulation:"
      ],
      "metadata": {
        "id": "rUiKE_Wfvqve"
      }
    },
    {
      "cell_type": "markdown",
      "source": [
        "1. Explain the concept of encapsulation in Python. What is its role in object-oriented programming?\n"
      ],
      "metadata": {
        "id": "RctYOHEnvt22"
      }
    },
    {
      "cell_type": "code",
      "source": [
        "'''\n",
        "Encapsulation is refers to the bundling of data (attributes) and the methods (functions) that operate on that data within a single unit, known as a class. This bundling restricts direct access to the internal data of an object, promoting data integrity and security.\n",
        "\n",
        "Data Protection: It protects the internal state of an object by hiding its data from direct external access. This prevents accidental or unauthorized modifications and ensures data consistency.\n",
        "Code Organization: It promotes a modular and organized code structure by grouping related data and methods within a class. This makes the code easier to understand, maintain, and extend.\n",
        "Abstraction: It hides the implementation details of a class from the outside world, allowing users to interact with objects through a well-defined interface. This simplifies the usage of objects and reduces the complexity of the overall system.\n",
        "Flexibility and Maintainability: Encapsulation allows you to change the internal implementation of a class without affecting the code that uses it, as long as the public interface remains the same. This makes the code more flexible and easier to maintain over time.\n",
        "'''\n",
        "\n",
        "class Person:\n",
        "    def __init__(self, name):\n",
        "        self._name = name  # Protected attribute\n",
        "\n",
        "    def get_name(self):\n",
        "        return self._name\n",
        "\n",
        "    def set_name(self, name):\n",
        "        self._name = name"
      ],
      "metadata": {
        "id": "zAMdwksmp6qs"
      },
      "execution_count": null,
      "outputs": []
    },
    {
      "cell_type": "markdown",
      "source": [
        "2. Describe the key principles of encapsulation, including access control and data hiding.\n"
      ],
      "metadata": {
        "id": "YnDmFe1IvzuD"
      }
    },
    {
      "cell_type": "code",
      "source": [
        "'''\n",
        "Encapsulation is like bundling data (attributes) and actions (methods) into a single unit (class).\n",
        "It's like a capsule, keeping things organized and protected.\n",
        "\n",
        "Access Control:\n",
        "\n",
        "It's about controlling who can see and modify the data inside the capsule.\n",
        "\n",
        "There are generally three levels:\n",
        "\n",
        "Public: Everyone can see and change it.\n",
        "Protected: Only the class and its children (subclasses) can access it.\n",
        "Private: Only the class itself can access it.\n",
        "\n",
        "Data Hiding:\n",
        "This means hiding the internal details of how the capsule works.\n",
        "Users only need to know what the capsule does, not how it does it.\n",
        "Think of it like using a TV remote – you press buttons, but you don't need to know how the electronics inside work.\n",
        "\n",
        "Benefits of Encapsulation:\n",
        "Data Protection: Keeps data safe from accidental changes.\n",
        "Flexibility: You can change the internals without affecting how others use it.\n",
        "Code Organization: Keeps code neat and tidy.\n",
        "Abstraction: Simplifies how users interact with the code.\n",
        "\n",
        "'''\n"
      ],
      "metadata": {
        "id": "9Y6nShWtp7GW"
      },
      "execution_count": null,
      "outputs": []
    },
    {
      "cell_type": "markdown",
      "source": [
        "3. How can you achieve encapsulation in Python classes? Provide an example.\n"
      ],
      "metadata": {
        "id": "86FpIQw1v2hf"
      }
    },
    {
      "cell_type": "code",
      "source": [
        "'''\n",
        "Achieving Encapsulation in Python\n",
        "\n",
        "In Python, we achieve encapsulation mainly through naming conventions and by using methods to access or modify data.\n",
        "\n",
        "Naming Conventions:\n",
        "\n",
        "Use a single underscore _ before an attribute name to mark it as \"protected.\" This is a signal to other programmers that the attribute is intended for internal use within the class and its subclasses.\n",
        "Methods for Access and Modification:\n",
        "\n",
        "Getter Methods: These methods allow you to read the value of an attribute.\n",
        "Setter Methods: These methods allow you to change the value of an attribute in a controlled way.\n",
        "\n",
        "'''\n",
        "\n",
        "class Person:\n",
        "    def __init__(self, name, age):\n",
        "        self._name = name  # Protected attribute\n",
        "        self._age = age   # Protected attribute\n",
        "\n",
        "    def get_name(self):\n",
        "        return self._name\n",
        "\n",
        "    def set_name(self, new_name):\n",
        "        self._name = new_name"
      ],
      "metadata": {
        "id": "Ck9uHQGSp7i8"
      },
      "execution_count": null,
      "outputs": []
    },
    {
      "cell_type": "markdown",
      "source": [
        "4. Discuss the difference between public, private, and protected access modifiers in Python.\n"
      ],
      "metadata": {
        "id": "mYCFmOb_v4fj"
      }
    },
    {
      "cell_type": "code",
      "source": [
        "'''\n",
        "Python doesn't have strict enforcement of public, private, and protected access modifiers.\n",
        "However, it uses naming conventions to indicate the intended level of access.\n",
        "\n",
        "Public Members\n",
        "\n",
        "Definition: Members (attributes and methods) that are accessible from anywhere, both inside and outside the class.\n",
        "Naming Convention: No special prefix is used for public members.\n",
        "Protected Members\n",
        "\n",
        "Definition: Members that are intended for internal use within the class and its subclasses (derived classes).\n",
        "Naming Convention: A single leading underscore (_) is used as a prefix for protected members (e.g., _name, _age).\n",
        "Private Members\n",
        "\n",
        "Definition: Members that are intended for use only within the class itself.\n",
        "Naming Convention: A double leading underscore (__) is used as a prefix for private members (e.g., __secret, __internal_method).\n",
        "This triggers name mangling, making it harder (but not impossible) to access them directly from outside the class.\n",
        "'''"
      ],
      "metadata": {
        "id": "ZspGdeM8p8Hq"
      },
      "execution_count": null,
      "outputs": []
    },
    {
      "cell_type": "markdown",
      "source": [
        "5. Create a Python class called `Person` with a private attribute `__name`. Provide methods to get and set the\n",
        "name attribute.\n"
      ],
      "metadata": {
        "id": "53kJ3bpcv6yt"
      }
    },
    {
      "cell_type": "code",
      "source": [
        "class Person:\n",
        "  def __init__(self,name):\n",
        "    self.__name = name\n",
        "\n",
        "  def get_name(self):\n",
        "    return self.__name\n",
        "\n",
        "  def set_name(self,new_name):\n",
        "    self.__name = new_name"
      ],
      "metadata": {
        "id": "ipfUNOFgp8bS"
      },
      "execution_count": null,
      "outputs": []
    },
    {
      "cell_type": "markdown",
      "source": [
        "6. Explain the purpose of getter and setter methods in encapsulation. Provide examples.\n"
      ],
      "metadata": {
        "id": "8w_dOb7Tv9Wr"
      }
    },
    {
      "cell_type": "code",
      "source": [
        "'''\n",
        "Controlled Access: They provide controlled access to the internal data of an object.\n",
        "Instead of directly accessing attributes, you use getter methods to retrieve their values and setter methods to modify them.\n",
        "\n",
        "Data Validation: Setter methods can include validation logic to ensure that the data being assigned to an attribute is valid.\n",
        "This helps maintain data integrity and prevents invalid data from being stored.\n",
        "\n",
        "Abstraction: They hide the internal representation of data from the outside world.\n",
        "Users of the class don't need to know how the data is stored internally; they only need to know how to interact with it through the getter and setter methods.\n",
        "\n",
        "Flexibility: They allow you to change the internal implementation of a class without affecting the code that uses it,\n",
        "as long as the public interface (getter and setter methods) remains the same.\n",
        "This makes the code more flexible and maintainable.\n",
        "'''\n",
        "\n",
        "class Person:\n",
        "    def __init__(self, name, age):\n",
        "        self._name = name\n",
        "        self._age = age\n",
        "\n",
        "    def get_name(self):\n",
        "        return self._name\n",
        "\n",
        "    def set_name(self, new_name):\n",
        "        if isinstance(new_name, str) and new_name.isalpha():\n",
        "            self._name = new_name\n",
        "        else:\n",
        "            print(\"Invalid name format. Name should contain only letters.\")\n",
        "\n",
        "    def get_age(self):\n",
        "        return self._age\n",
        "\n",
        "    def set_age(self, new_age):\n",
        "        if isinstance(new_age, int) and new_age > 0:\n",
        "            self._age = new_age\n",
        "        else:\n",
        "            print(\"Invalid age. Age should be a positive integer.\")"
      ],
      "metadata": {
        "id": "GYKA06oGp82D"
      },
      "execution_count": null,
      "outputs": []
    },
    {
      "cell_type": "markdown",
      "source": [
        "7. What is name mangling in Python, and how does it affect encapsulation?\n"
      ],
      "metadata": {
        "id": "Y5l9OxNRv_au"
      }
    },
    {
      "cell_type": "code",
      "source": [
        "'''\n",
        "Mangling is a mechanism used to protect class-private members (attributes and methods) from being accidentally accessed or overridden by subclasses.\n",
        "It's applied to names that begin with a double underscore (__) but do not end with a double underscore.\n",
        "\n",
        "When Python encounters a name with a double leading underscore within a class definition, it modifies the name by prefixing it with the class name.\n",
        "For example, if a class named MyClass has a private attribute __secret, the name is mangled to _MyClass__secret.\n",
        "This mangled name is used internally by the interpreter and is less likely to be accidentally accessed or overridden in subclasses.\n",
        "\n",
        "Name mangling enhances encapsulation in Python by providing a stronger form of protection for class-private members.\n",
        "It makes it more difficult for subclasses to unintentionally modify or access these members.\n",
        "However, it's important to note that name mangling is not a security mechanism; it's primarily a way to avoid name collisions\n",
        "'''\n",
        "\n",
        "class MyClass:\n",
        "    def __init__(self):\n",
        "        self.__secret = \"This is a secret\"\n",
        "\n",
        "    def reveal_secret(self):\n",
        "        return self.__secret\n",
        "\n",
        "obj = MyClass()\n",
        "print(obj.reveal_secret())  # Output: This is a secret\n",
        "# print(obj.__secret)  # AttributeError: 'MyClass' object has no attribute '__secret'\n",
        "print(obj._MyClass__secret)"
      ],
      "metadata": {
        "id": "v3CrYXiyp9c0"
      },
      "execution_count": null,
      "outputs": []
    },
    {
      "cell_type": "markdown",
      "source": [
        "8. Create a Python class called `BankAccount` with private attributes for the account balance (`__balance`) and account number (`__account_number`). Provide methods for depositing and withdrawing money.\n"
      ],
      "metadata": {
        "id": "R4O9dUPVwA_h"
      }
    },
    {
      "cell_type": "code",
      "source": [
        "class BankAccount:\n",
        "  def __init__(self,account_number,initial_balance):\n",
        "    self.__account_number = account_number\n",
        "    self.__balance = initial_balance\n",
        "\n",
        "  def deposit(self,amount):\n",
        "    if amount > 0:\n",
        "      self.__balance += amount\n",
        "      print(f\"Deposited ${amount}. New balance: ${self.__balance}\")\n",
        "\n",
        "    else:\n",
        "      print(\"Invalid deposit amount. Amount must be greater than 0.\")\n",
        "\n",
        "  def withdraw(self,amount):\n",
        "    if 0 < amount <= self.__balance:\n",
        "      self.__balance -= amount\n",
        "      print(f\"Withdrew ${amount}. New balance: ${self.__balance}\")\n",
        "    else:\n",
        "      print(\"Invalid withdrawal amount or insufficient funds.\")\n",
        "\n",
        "  def get_balance(self):\n",
        "    return self.__balance\n",
        "\n",
        "  def get_account_number(self):\n",
        "    return self.__account_number"
      ],
      "metadata": {
        "id": "jG8CmnWzp-FL"
      },
      "execution_count": null,
      "outputs": []
    },
    {
      "cell_type": "markdown",
      "source": [
        "9. Discuss the advantages of encapsulation in terms of code maintainability and security.\n"
      ],
      "metadata": {
        "id": "5wLv39KBwC87"
      }
    },
    {
      "cell_type": "code",
      "source": [
        "'''\n",
        "Code Maintainability:\n",
        "\n",
        "Modularity: Encapsulation groups related data and methods, creating self-contained modules that are easier to understand, debug, and modify independently.\n",
        "Reduced Complexity: Hiding internal details simplifies the codebase, making it easier to maintain and update over time.\n",
        "Reusability: Encapsulated classes can be reused in different parts of a project or in other projects, promoting code reuse and efficiency.\n",
        "\n",
        "\n",
        "Security:\n",
        "\n",
        "Data Protection: Encapsulation restricts direct access to internal data, preventing accidental or unauthorized modifications.\n",
        "Controlled Access: Access to data is controlled through well-defined methods, allowing for validation and security checks.\n",
        "Information Hiding: Hiding implementation details reduces the risk of external dependencies and potential security vulnerabilities.\n",
        "'''"
      ],
      "metadata": {
        "colab": {
          "base_uri": "https://localhost:8080/",
          "height": 106
        },
        "id": "5Ua-ppRgp-fN",
        "outputId": "64a887d1-743e-4005-a327-c48ab296d5e3"
      },
      "execution_count": 1,
      "outputs": [
        {
          "output_type": "error",
          "ename": "SyntaxError",
          "evalue": "unterminated string literal (detected at line 14) (<ipython-input-1-1eb7a582fc31>, line 14)",
          "traceback": [
            "\u001b[0;36m  File \u001b[0;32m\"<ipython-input-1-1eb7a582fc31>\"\u001b[0;36m, line \u001b[0;32m14\u001b[0m\n\u001b[0;31m    ''''\u001b[0m\n\u001b[0m       ^\u001b[0m\n\u001b[0;31mSyntaxError\u001b[0m\u001b[0;31m:\u001b[0m unterminated string literal (detected at line 14)\n"
          ]
        }
      ]
    },
    {
      "cell_type": "markdown",
      "source": [
        "10. How can you access private attributes in Python? Provide an example demonstrating the use of name\n",
        "mangling.\n"
      ],
      "metadata": {
        "id": "EnpB7dEwwEk7"
      }
    },
    {
      "cell_type": "code",
      "source": [
        "'''\n",
        "Name Mangling\n",
        "\n",
        "When an attribute is prefixed with a double underscore, Python internally rewrites its name to include the class name.\n",
        "This makes it harder to accidentally access the attribute from outside the class, but it's still possible.\n",
        "\n",
        "Accessing Private Attributes\n",
        "\n",
        "While direct access to private attributes is discouraged, you can still access them using the mangled name.\n",
        "The mangled name is formed by adding _ClassName__AttributeName to the original attribute name.\n",
        "\n",
        "\n",
        "'''\n",
        "\n",
        "class MyClass:\n",
        "    def __init__(self):\n",
        "        self.__private_attr = 10  # Private attribute\n",
        "\n",
        "    def get_private_attr(self):\n",
        "        return self.__private_attr\n",
        "\n",
        "    def set_private_attr(self, value):\n",
        "        self.__private_attr = value\n",
        "\n",
        "obj = MyClass()\n",
        "\n",
        "# Accessing private attribute using name mangling\n",
        "print(obj._MyClass__private_attr)\n",
        "\n",
        "# Accessing using getter and setter methods (recommended)\n",
        "print(obj.get_private_attr())\n",
        "obj.set_private_attr(20)\n",
        "print(obj.get_private_attr())"
      ],
      "metadata": {
        "id": "BmcJS2VUp-15"
      },
      "execution_count": null,
      "outputs": []
    },
    {
      "cell_type": "markdown",
      "source": [
        "11. Create a Python class hierarchy for a school system, including classes for students, teachers, and courses,\n",
        "and implement encapsulation principles to protect sensitive information.\n"
      ],
      "metadata": {
        "id": "5b0uIPBmwGZg"
      }
    },
    {
      "cell_type": "code",
      "source": [
        "class Person:\n",
        "  def __init__(self,name,age,address):\n",
        "    self.__name = name\n",
        "    self.__age =age\n",
        "    self.__address = address\n",
        "\n",
        "  def get_name(self):\n",
        "    return self.__name\n",
        "\n",
        "  def get_age(self):\n",
        "    return self.__age\n",
        "\n",
        "  def get_address(self):\n",
        "    return self.__address\n",
        "\n",
        "class Student(Person):\n",
        "    def __init__(self, name, age, address, student_id, courses=[]):\n",
        "        super().__init__(name, age, address)\n",
        "        self.__student_id = student_id  # Private attribute\n",
        "        self.__courses = courses  # Private attribute\n",
        "\n",
        "    def get_student_id(self):\n",
        "        return self.__student_id\n",
        "\n",
        "    def get_courses(self):\n",
        "        return self.__courses\n",
        "\n",
        "    def enroll_course(self, course):\n",
        "        self.__courses.append(course)\n",
        "\n",
        "    def drop_course(self, course):\n",
        "        if course in self.__courses:\n",
        "            self.__courses.remove(course)\n",
        "\n",
        "\n",
        "class Teacher(Person):\n",
        "    def __init__(self, name, age, address, teacher_id, subject):\n",
        "        super().__init__(name, age, address)\n",
        "        self.__teacher_id = teacher_id  # Private attribute\n",
        "        self.__subject = subject  # Private attribute\n",
        "\n",
        "    def get_teacher_id(self):\n",
        "        return self.__teacher_id\n",
        "\n",
        "    def get_subject(self):\n",
        "        return self.__subject\n",
        "\n",
        "\n",
        "class Course:\n",
        "    def __init__(self, course_id, name, teacher):\n",
        "        self.__course_id = course_id  # Private attribute\n",
        "        self.__name = name  # Private attribute\n",
        "        self.__teacher = teacher  # Private attribute\n",
        "\n",
        "    def get_course_id(self):\n",
        "        return self.__course_id\n",
        "\n",
        "    def get_name(self):\n",
        "        return self.__name\n",
        "\n",
        "    def get_teacher(self):\n",
        "        return self.__teacher\n",
        "\n",
        "\n",
        "# Create a student\n",
        "student1 = Student(\"Alice\", 16, \"123 Main St\", \"S12345\")\n",
        "\n",
        "# Enroll in courses\n",
        "student1.enroll_course(\"Math\")\n",
        "student1.enroll_course(\"Science\")\n",
        "\n",
        "# Access student information\n",
        "print(student1.get_name())\n",
        "print(student1.get_courses())\n",
        "\n",
        "# Create a teacher\n",
        "teacher1 = Teacher(\"Mr. Smith\", 35, \"456 Oak Ave\", \"T67890\", \"Math\")\n",
        "\n",
        "# Access teacher information\n",
        "print(teacher1.get_name())\n",
        "print(teacher1.get_subject())"
      ],
      "metadata": {
        "id": "jBR98xejp_v9"
      },
      "execution_count": null,
      "outputs": []
    },
    {
      "cell_type": "markdown",
      "source": [
        "\n",
        "12. Explain the concept of property decorators in Python and how they relate to encapsulation.\n"
      ],
      "metadata": {
        "id": "Jd-qGDoswIJ0"
      }
    },
    {
      "cell_type": "code",
      "source": [
        "'''\n",
        "Property decorators in Python provide a way to manage attributes with getter, setter, and deleter methods while maintaining a clean and concise syntax.\n",
        "They allow you to define methods that are accessed like attributes, making your code more readable and intuitive.\n",
        "\n",
        "\n",
        "Relationship to Encapsulation\n",
        "\n",
        "Property decorators play a key role in encapsulation by controlling access to attributes and hiding internal implementation details.\n",
        "They enable you to:\n",
        "\n",
        "Enforce Data Validation: You can use setter methods within property decorators to validate values before assigning them to attributes.\n",
        "This ensures data integrity and prevents invalid data from being stored.\n",
        "\n",
        "Control Access: By defining getter methods, you control how attributes are accessed, allowing for data transformation or calculations before returning the value.\n",
        "\n",
        "Hide Implementation Details: Property decorators abstract away the internal representation of attributes, allowing you to change the implementation without affecting external code that uses the class.\n",
        "'''\n",
        "\n",
        "class Person:\n",
        "    def __init__(self, name, age):\n",
        "        self._name = name\n",
        "        self._age = age\n",
        "\n",
        "    @property\n",
        "    def name(self):\n",
        "        return self._name\n",
        "\n",
        "    @name.setter\n",
        "    def name(self, value):\n",
        "        if not isinstance(value, str):\n",
        "            raise ValueError(\"Name must be a string\")\n",
        "        self._name = value\n",
        "\n",
        "    @property\n",
        "    def age(self):\n",
        "        return self._age\n",
        "\n",
        "    @age.setter\n",
        "    def age(self, value):\n",
        "        if value < 0:\n",
        "            raise ValueError(\"Age cannot be negative\")\n",
        "        self._age = value"
      ],
      "metadata": {
        "id": "ci_7E1y0qAe0"
      },
      "execution_count": null,
      "outputs": []
    },
    {
      "cell_type": "markdown",
      "source": [
        "\n",
        "13. What is data hiding, and why is it important in encapsulation? Provide examples.\n"
      ],
      "metadata": {
        "id": "msL6wqRYwNMe"
      }
    },
    {
      "cell_type": "code",
      "source": [
        "'''\n",
        "Data hiding is a fundamental principle of encapsulation that restricts direct access to the internal data of an object from outside the object's definition.\n",
        "It's like creating a protective barrier around the object's data, preventing accidental or unauthorized modifications.\n",
        "\n",
        "Importance in Encapsulation\n",
        "\n",
        "Data hiding is crucial in encapsulation for the following reasons:\n",
        "\n",
        "Data Integrity: By hiding data, you prevent external code from directly manipulating it, ensuring the data remains consistent and valid.\n",
        "This prevents accidental corruption or inconsistencies in the object's state.\n",
        "\n",
        "Security: Data hiding protects sensitive information from unauthorized access or modification, enhancing the security of your code.\n",
        "It's like keeping valuable data locked away, accessible only through controlled methods.\n",
        "\n",
        "Flexibility and Maintainability: Data hiding allows you to change the internal implementation of a class without affecting external code that uses it.\n",
        "This makes your code more flexible and easier to maintain over time.\n",
        "'''\n",
        "\n",
        "class BankAccount:\n",
        "    def __init__(self, balance):\n",
        "        self.__balance = balance  # Private attribute\n",
        "\n",
        "    def get_balance(self):\n",
        "        return self.__balance\n",
        "\n",
        "    def deposit(self, amount):\n",
        "        self.__balance += amount\n",
        "\n",
        "    def withdraw(self, amount):\n",
        "        if amount <= self.__balance:\n",
        "            self.__balance -= amount\n",
        "        else:\n",
        "            print(\"Insufficient funds\")"
      ],
      "metadata": {
        "id": "1r1yOgbTqBE3"
      },
      "execution_count": null,
      "outputs": []
    },
    {
      "cell_type": "markdown",
      "source": [
        "14. Create a Python class called `Employee` with private attributes for salary (`__salary`) and employee ID (`__employee_id`). Provide a method to calculate yearly bonuses.\n"
      ],
      "metadata": {
        "id": "lqfa8lY2wRos"
      }
    },
    {
      "cell_type": "code",
      "source": [
        "class Employee:\n",
        "    def __init__(self, employee_id, salary):\n",
        "        self.__salary = salary  # Private attribute for salary\n",
        "        self.__employee_id = employee_id  # Private attribute for employee ID\n",
        "\n",
        "    def calculate_yearly_bonus(self, bonus_percentage):\n",
        "        \"\"\"Calculates the yearly bonus for the employee.\n",
        "\n",
        "        Args:\n",
        "            bonus_percentage: The bonus percentage as a decimal (e.g., 0.1 for 10%).\n",
        "\n",
        "        Returns:\n",
        "            The yearly bonus amount.\n",
        "        \"\"\"\n",
        "        bonus = self.__salary * bonus_percentage\n",
        "        return bonus\n",
        "\n",
        "# Example usage\n",
        "employee = Employee(\"E12345\", 50000)\n",
        "bonus = employee.calculate_yearly_bonus(0.1)\n",
        "print(f\"Yearly bonus: {bonus}\")"
      ],
      "metadata": {
        "id": "7vdPqM54qBpk"
      },
      "execution_count": null,
      "outputs": []
    },
    {
      "cell_type": "markdown",
      "source": [
        "15. Discuss the use of accessors and mutators in encapsulation. How do they help maintain control over\n",
        "attribute access?\n"
      ],
      "metadata": {
        "id": "6uP6lgMxwT3V"
      }
    },
    {
      "cell_type": "code",
      "source": [
        "'''\n",
        "Accessors (Getters)\n",
        "\n",
        "Purpose: Accessors, also known as getters, are methods used to retrieve the values of private attributes.\n",
        "\n",
        "Benefits: They provide a controlled way to access the data without directly exposing the internal representation of the object.\n",
        "This helps maintain data integrity by preventing accidental or unauthorized modifications.\n",
        "\n",
        "'''\n",
        "class Employee:\n",
        "    def __init__(self, employee_id, salary):\n",
        "        self.__salary = salary\n",
        "        self.__employee_id = employee_id\n",
        "\n",
        "    def get_salary(self):\n",
        "        return self.__salary  # Getter for salary\n",
        "\n",
        "    def get_employee_id(self):\n",
        "        return self.__employee_id  # Getter for employee ID"
      ],
      "metadata": {
        "id": "nNd5YiHeqCLb"
      },
      "execution_count": null,
      "outputs": []
    },
    {
      "cell_type": "markdown",
      "source": [
        "16. What are the potential drawbacks or disadvantages of using encapsulation in Python?\n"
      ],
      "metadata": {
        "id": "OPhW41mFwWc0"
      }
    },
    {
      "cell_type": "code",
      "source": [
        "'''\n",
        "1. Increased Complexity\n",
        "Encapsulation can introduce additional complexity to the code, especially for simple classes with few attributes. Defining separate accessors and mutators for each attribute can make the code longer and potentially harder to read.\n",
        "\n",
        "2. Reduced Performance\n",
        "Accessing attributes through accessors and mutators involves an extra function call, which can introduce a slight performance overhead compared to direct attribute access. In performance-critical applications, this overhead might be a concern, although it's often negligible in most cases.\n",
        "\n",
        "3. Potential Overuse\n",
        "Encapsulation should be applied judiciously. Overusing it for every attribute in every class can lead to unnecessary complexity and code bloat. It's important to consider the trade-off between encapsulation and code simplicity.\n",
        "\n",
        "4. Reduced Flexibility in Certain Scenarios\n",
        "Encapsulation can limit direct access to attributes, which might be less flexible in certain dynamic scenarios where direct manipulation of attributes is desired. However, Python's conventions for private attributes (__ prefix) allow for some flexibility by not completely restricting access.\n",
        "\n",
        "5. Potential Conflicts with Frameworks or Libraries\n",
        "Some frameworks or libraries might rely on direct attribute access or have specific expectations about the structure of classes. Encapsulation could potentially conflict with such frameworks or require workarounds to integrate properly.\n",
        "\n",
        "6. Less Pythonic in Certain Cases\n",
        "Python's philosophy generally favors simplicity and transparency. Encapsulation, if applied excessively, might feel less Pythonic compared to more direct attribute access. However, in cases where data integrity and controlled access are crucial, encapsulation provides valuable benefits.\n",
        "\n",
        "7. Boilerplate Code\n",
        "Implementing accessors and mutators can involve a significant amount of boilerplate code, especially if you have many attributes. This can make the code appear more verbose and tedious to write.\n",
        "\n",
        "'''"
      ],
      "metadata": {
        "id": "4QEEVHdAqC0U"
      },
      "execution_count": null,
      "outputs": []
    },
    {
      "cell_type": "markdown",
      "source": [
        "17. Create a Python class for a library system that encapsulates book information, including titles, authors,\n",
        "and availability status.\n"
      ],
      "metadata": {
        "id": "nBY4NOYbwX_x"
      }
    },
    {
      "cell_type": "code",
      "source": [
        "class Book:\n",
        "    def __init__(self, title, author):\n",
        "        self.__title = title\n",
        "        self.__author = author\n",
        "        self.__is_available = True\n",
        "\n",
        "    def get_title(self):\n",
        "        return self.__title\n",
        "\n",
        "    def get_author(self):\n",
        "        return self.__author\n",
        "\n",
        "    def is_available(self):\n",
        "        return self.__is_available\n",
        "\n",
        "    def borrow_book(self):\n",
        "        if self.__is_available:\n",
        "            self.__is_available = False\n",
        "            print(f\"{self.__title} by {self.__author} has been borrowed.\") # To see the output, run the code.\n",
        "        else:\n",
        "            print(f\"{self.__title} by {self.__author} is currently unavailable.\") # To see the output, run the code.\n",
        "\n",
        "    def return_book(self):\n",
        "        if not self.__is_available:\n",
        "            self.__is_available = True\n",
        "            print(f\"{self.__title} by {self.__author} has been returned.\") # To see the output, run the code.\n",
        "        else:\n",
        "            print(f\"{self.__title} by {self.__author} was already available.\") # To see the output, run the code.\n",
        "\n",
        "# Example usage\n",
        "book1 = Book(\"The Lord of the Rings\", \"J.R.R. Tolkien\")\n",
        "book2 = Book(\"To Kill a Mockingbird\", \"Harper Lee\")\n",
        "\n",
        "print(f\"Title: {book1.get_title()}, Author: {book1.get_author()}, Available: {book1.is_available()}\") # To see the output, run the code.\n",
        "book1.borrow_book()\n",
        "book1.return_book()"
      ],
      "metadata": {
        "id": "mtV2AL-uqDSh"
      },
      "execution_count": null,
      "outputs": []
    },
    {
      "cell_type": "markdown",
      "source": [
        "18. Explain how encapsulation enhances code reusability and modularity in Python programs.\n"
      ],
      "metadata": {
        "id": "NyqCO7dDwZ_6"
      }
    },
    {
      "cell_type": "code",
      "source": [
        "'''\n",
        "Encapsulation and Code Reusability\n",
        "\n",
        "Creating Reusable Components: Encapsulation allows you to create self-contained, reusable components in the form of classes. These classes encapsulate data and methods, making them independent and portable.\n",
        "\n",
        "Hiding Implementation Details: By hiding the internal implementation details of a class, encapsulation enables you to reuse the class without worrying about how it works internally. You can simply interact with the class through its public interface.\n",
        "\n",
        "Promoting Abstraction: Encapsulation promotes abstraction by allowing you to focus on the essential features of an object rather than its low-level implementation. This makes the code more general and reusable in different contexts.\n",
        "\n",
        "Reducing Dependencies: Encapsulated classes have well-defined interfaces, reducing dependencies between different parts of the code. This makes it easier to reuse classes in different projects or modules without introducing conflicts.\n",
        "\n",
        "Encapsulation and Modularity\n",
        "\n",
        "Breaking Down Complexity: Encapsulation helps break down complex systems into smaller, more manageable modules (classes). Each module encapsulates a specific functionality, making the overall system easier to understand and maintain.\n",
        "\n",
        "Improving Code Organization: Encapsulation promotes code organization by grouping related data and methods within a class. This makes the code more structured and readable.\n",
        "\n",
        "\n",
        "Facilitating Collaboration: Encapsulation allows developers to work on different modules independently without interfering with each other's code. This promotes collaboration and parallel development.\n",
        "\n",
        "Enabling Code Evolution: Encapsulated modules can be modified or extended without affecting other parts of the system, as long as the public interface remains consistent. This enables code evolution and adaptation to changing requirements.\n",
        "'''"
      ],
      "metadata": {
        "id": "hf5iH7lPqDvc"
      },
      "execution_count": null,
      "outputs": []
    },
    {
      "cell_type": "markdown",
      "source": [
        "19. Describe the concept of information hiding in encapsulation. Why is it essential in software development?\n"
      ],
      "metadata": {
        "id": "_OAtGRNGwbzo"
      }
    },
    {
      "cell_type": "code",
      "source": [
        "'''\n",
        "Information hiding is a key principle of encapsulation that involves restricting access to the internal details of an object or module.\n",
        "It means that the internal workings of a class are hidden from the outside world, and only a well-defined public interface is exposed for interaction.\n",
        "\n",
        "Why Information Hiding is Essential\n",
        "\n",
        "Reduces Complexity: By hiding internal details, information hiding simplifies the usage of objects and modules.\n",
        "Users only need to interact with the public interface, reducing the cognitive load and making the code easier to understand.\n",
        "\n",
        "Increases Maintainability: Information hiding allows for changes to the internal implementation of a class without affecting the code that uses it, as long as the public interface remains consistent.\n",
        "This makes the code more maintainable and adaptable to future changes.\n",
        "\n",
        "Improves Security: By restricting access to internal data, information hiding helps prevent accidental or unauthorized modifications.\n",
        "This enhances the security and integrity of the software system.\n",
        "\n",
        "Promotes Loose Coupling: Information hiding reduces dependencies between different parts of the code.\n",
        "This leads to a loosely coupled system, where changes in one module have minimal impact on other modules.\n",
        "\n",
        "Enhances Reusability: Information hiding allows for the creation of self-contained, reusable components that can be easily integrated into different projects or modules.\n",
        "\n",
        "'''"
      ],
      "metadata": {
        "id": "2G_SGKIUqE5X"
      },
      "execution_count": null,
      "outputs": []
    },
    {
      "cell_type": "markdown",
      "source": [
        "20. Create a Python class called `Customer` with private attributes for customer details like name, address,\n",
        "and contact information. Implement encapsulation to ensure data integrity and security."
      ],
      "metadata": {
        "id": "Fh0U9DmBwd7Y"
      }
    },
    {
      "cell_type": "code",
      "source": [
        "class Customer:\n",
        "    def __init__(self, name, address, contact_info):\n",
        "        self.__name = name\n",
        "        self.__address = address\n",
        "        self.__contact_info = contact_info\n",
        "\n",
        "    def get_name(self):\n",
        "        return self.__name\n",
        "\n",
        "    def set_name(self, name):\n",
        "\n",
        "        self.__name = name\n",
        "\n",
        "    def get_address(self):\n",
        "        return self.__address\n",
        "\n",
        "    def set_address(self, address):\n",
        "\n",
        "        self.__address = address\n",
        "\n",
        "    def get_contact_info(self):\n",
        "        return self.__contact_info\n",
        "\n",
        "    def set_contact_info(self, contact_info):\n",
        "\n",
        "        self.__contact_info = contact_info\n",
        "\n",
        "# Example usage\n",
        "customer = Customer(\"Alice\", \"123 Main St\", \"alice@example.com\")\n",
        "\n",
        "print(f\"Name: {customer.get_name()}\")\n",
        "customer.set_address(\"456 Oak Ave\")\n",
        "print(f\"Address: {customer.get_address()}\")"
      ],
      "metadata": {
        "id": "4LUGQZ9YqFp1"
      },
      "execution_count": null,
      "outputs": []
    },
    {
      "cell_type": "markdown",
      "source": [
        "#Polymorphism:"
      ],
      "metadata": {
        "id": "KsIy_6kxwguv"
      }
    },
    {
      "cell_type": "markdown",
      "source": [
        "1. What is polymorphism in Python? Explain how it is related to object-oriented programming.\n"
      ],
      "metadata": {
        "id": "QFXsmAZwwiAY"
      }
    },
    {
      "cell_type": "code",
      "source": [
        "'''\n",
        "Polymorphism, meaning \"many forms,\" is a fundamental concept in object-oriented programming that allows objects of different classes to be treated as objects of a common type.\n",
        "It enables you to write code that can work with objects of various classes without needing to know their specific types.\n",
        "\n",
        "Polymorphism is closely related to other OOP concepts like inheritance and abstraction:\n",
        "\n",
        "Inheritance: Polymorphism often relies on inheritance, where child classes inherit methods from a parent class. These methods can be overridden in the child classes to provide specific implementations, leading to polymorphic behavior.\n",
        "\n",
        "Abstraction: Polymorphism supports abstraction by allowing you to interact with objects through a common interface, without needing to know the specific implementation details of each class.\n",
        "\n",
        "- How Polymorphism Works in Python\n",
        "\n",
        "Python achieves polymorphism through duck typing and method overriding:\n",
        "\n",
        "Duck Typing: Python doesn't require objects to have a specific type or inherit from a specific class to be treated polymorphically. If an object has the necessary methods or attributes, it can be used in a polymorphic way. This is known as \"duck typing\" (if it walks like a duck and quacks like a duck, it must be a duck).\n",
        "\n",
        "Method Overriding: In inheritance, child classes can override methods defined in the parent class. This allows objects of different child classes to respond differently to the same method call, exhibiting polymorphic behavior.\n",
        "\n",
        "'''"
      ],
      "metadata": {
        "id": "YrX06KKtcdx7"
      },
      "execution_count": null,
      "outputs": []
    },
    {
      "cell_type": "markdown",
      "source": [
        "2. Describe the difference between compile-time polymorphism and runtime polymorphism in Python.\n"
      ],
      "metadata": {
        "id": "2FyiAb6rxLq-"
      }
    },
    {
      "cell_type": "code",
      "source": [
        "'''\n",
        "Compile-Time Polymorphism\n",
        "\n",
        "Also known as static polymorphism or early binding.\n",
        "Occurs when the compiler determines which method to call at compile time based on the types of arguments and the method signatures.\n",
        "Primarily achieved through method overloading, where multiple methods with the same name but different parameters are defined within a class.\n",
        "Python does not support method overloading in the traditional sense. If you define multiple methods with the same name, the last definition will override the previous ones.\n",
        "Runtime Polymorphism\n",
        "\n",
        "Also known as dynamic polymorphism or late binding.\n",
        "Occurs when the method call is resolved at runtime based on the actual type of the object.\n",
        "Achieved through method overriding, where a child class provides a specific implementation for a method that is already defined in its parent class.\n",
        "Python primarily uses runtime polymorphism through duck typing and method overriding.\n",
        "'''"
      ],
      "metadata": {
        "id": "o3CU5m2yceYB"
      },
      "execution_count": null,
      "outputs": []
    },
    {
      "cell_type": "markdown",
      "source": [
        "3. Create a Python class hierarchy for shapes (e.g., circle, square, triangle) and demonstrate polymorphism\n",
        "through a common method, such as `calculate_area()`.\n"
      ],
      "metadata": {
        "id": "n2QnjK_uxN1O"
      }
    },
    {
      "cell_type": "code",
      "source": [
        "import math\n",
        "\n",
        "class Shape:\n",
        "    def calculate_area(self):\n",
        "        raise NotImplementedError(\"Subclasses must implement calculate_area()\")\n",
        "\n",
        "class Circle(Shape):\n",
        "    def __init__(self, radius):\n",
        "        self.radius = radius\n",
        "\n",
        "    def calculate_area(self):\n",
        "        return math.pi * self.radius**2\n",
        "\n",
        "class Square(Shape):\n",
        "    def __init__(self, side):\n",
        "        self.side = side\n",
        "\n",
        "    def calculate_area(self):\n",
        "        return self.side**2\n",
        "\n",
        "class Triangle(Shape):\n",
        "    def __init__(self, base, height):\n",
        "        self.base = base\n",
        "        self.height = height\n",
        "\n",
        "    def calculate_area(self):\n",
        "        return 0.5 * self.base * self.height\n",
        "\n",
        "\n",
        "shapes = [Circle(5), Square(4), Triangle(3, 6)]\n",
        "\n",
        "for shape in shapes:\n",
        "    area = shape.calculate_area()\n",
        "    print(f\"Area of {type(shape).__name__}: {area}\")"
      ],
      "metadata": {
        "id": "rPfUXdNtcew9"
      },
      "execution_count": null,
      "outputs": []
    },
    {
      "cell_type": "markdown",
      "source": [
        "4. Explain the concept of method overriding in polymorphism. Provide an example.\n"
      ],
      "metadata": {
        "id": "SFMeCpZbxQVj"
      }
    },
    {
      "cell_type": "code",
      "source": [
        "'''\n",
        "Polymorphism allows you to treat objects of different classes in a uniform way.\n",
        "Method overriding is a key aspect of polymorphism, where a subclass provides a specific implementation for a method that is already defined in its parent class.\n",
        "This allows you to customize the behavior of a method based on the specific type of object.\n",
        "\n",
        "'''\n",
        "class Animal:\n",
        "    def speak(self):\n",
        "        print(\"Generic animal sound\")\n",
        "\n",
        "class Dog(Animal):\n",
        "    def speak(self):\n",
        "        print(\"Woof!\")\n",
        "\n",
        "class Cat(Animal):\n",
        "    def speak(self):\n",
        "        print(\"Meow!\")\n",
        "\n",
        "\n",
        "animal = Animal()\n",
        "dog = Dog()\n",
        "cat = Cat()\n",
        "\n",
        "animal.speak()\n",
        "dog.speak()\n",
        "cat.speak()\n"
      ],
      "metadata": {
        "id": "Cq9pTTJ0cfUY"
      },
      "execution_count": null,
      "outputs": []
    },
    {
      "cell_type": "markdown",
      "source": [
        "5. How is polymorphism different from method overloading in Python? Provide examples for both.\n"
      ],
      "metadata": {
        "id": "JqSamXt7xSRO"
      }
    },
    {
      "cell_type": "code",
      "source": [
        "'''\n",
        "Polymorphism in Python is a fundamental concept that allows objects of different classes to be treated as objects of a common type.\n",
        "It's achieved through method overriding and duck typing.\n",
        "'''\n",
        "class Animal:\n",
        "    def speak(self):\n",
        "        print(\"Generic animal sound\")\n",
        "\n",
        "class Dog(Animal):\n",
        "    def speak(self):\n",
        "        print(\"Woof!\")\n",
        "\n",
        "class Cat(Animal):\n",
        "    def speak(self):\n",
        "        print(\"Meow!\")\n",
        "\n",
        "animal = Animal()\n",
        "dog = Dog()\n",
        "cat = Cat()\n",
        "\n",
        "for obj in [animal, dog, cat]:\n",
        "    obj.speak()\n",
        "\n",
        "'''\n",
        "Method overloading is a feature where you can define multiple methods with the same name within a class, but with different parameters.\n",
        "The correct method to be called is determined at compile time based on the number and types of arguments provided\n",
        "'''\n",
        "class Calculator:\n",
        "    def add(self, a, b=0):\n",
        "        return a + b\n",
        "\n",
        "\n",
        "calc = Calculator()\n",
        "\n",
        "\n",
        "print(calc.add(5))\n",
        "print(calc.add(5, 10))\n"
      ],
      "metadata": {
        "id": "q0iyy_EJcft5"
      },
      "execution_count": null,
      "outputs": []
    },
    {
      "cell_type": "markdown",
      "source": [
        "6. Create a Python class called `Animal` with a method `speak()`. Then, create child classes like `Dog`, `Cat`, and `Bird`, each with their own `speak()` method. Demonstrate polymorphism by calling the `speak()` method\n",
        "on objects of different subclasses.\n"
      ],
      "metadata": {
        "id": "wKlFgpzaxUGK"
      }
    },
    {
      "cell_type": "code",
      "source": [
        "\n",
        "class Animal:\n",
        "    def speak(self):\n",
        "        print(\"Generic animal sound\")\n",
        "\n",
        "class Dog(Animal):\n",
        "    def speak(self):\n",
        "        print(\"Woof!\")\n",
        "\n",
        "class Cat(Animal):\n",
        "    def speak(self):\n",
        "        print(\"Meow!\")\n",
        "\n",
        "class Bird(Animal):\n",
        "    def speak(self):\n",
        "        print(\"Chirp!\")\n",
        "\n",
        "\n",
        "animals = [Dog(), Cat(), Bird()]\n",
        "for animal in animals:\n",
        "    animal.speak()\n"
      ],
      "metadata": {
        "id": "PTKAEL0XcgwD"
      },
      "execution_count": null,
      "outputs": []
    },
    {
      "cell_type": "markdown",
      "source": [
        "7. Discuss the use of abstract methods and classes in achieving polymorphism in Python. Provide an example\n",
        "using the `abc` module.\n"
      ],
      "metadata": {
        "id": "bh7MBaVLxWGo"
      }
    },
    {
      "cell_type": "code",
      "source": [
        "\n",
        "from abc import ABC, abstractmethod\n",
        "\n",
        "class Shape(ABC):\n",
        "    @abstractmethod\n",
        "    def calculate_area(self):\n",
        "        pass\n",
        "\n",
        "class Circle(Shape):\n",
        "    def __init__(self, radius):\n",
        "        self.radius = radius\n",
        "\n",
        "    def calculate_area(self):\n",
        "        return math.pi * self.radius**2\n",
        "\n",
        "class Square(Shape):\n",
        "    def __init__(self, side):\n",
        "        self.side = side\n",
        "\n",
        "    def calculate_area(self):\n",
        "        return self.side**2\n",
        "\n",
        "\n",
        "circle = Circle(5)\n",
        "square = Square(4)\n",
        "\n",
        "print(f\"Circle area: {circle.calculate_area()}\")\n",
        "print(f\"Square area: {square.calculate_area()}\")\n"
      ],
      "metadata": {
        "id": "x4UsD7VEcgVO"
      },
      "execution_count": null,
      "outputs": []
    },
    {
      "cell_type": "markdown",
      "source": [
        "8. Create a Python class hierarchy for a vehicle system (e.g., car, bicycle, boat) and implement a polymorphic `start()` method that prints a message specific to each vehicle type.\n"
      ],
      "metadata": {
        "id": "zh6F5_56xX8v"
      }
    },
    {
      "cell_type": "code",
      "source": [
        "class Vehicle:\n",
        "    def start(self):\n",
        "        raise NotImplementedError(\"Subclasses must implement the start() method\")\n",
        "\n",
        "class Car(Vehicle):\n",
        "    def start(self):\n",
        "        print(\"Car engine started. Vroom!\")\n",
        "\n",
        "class Bicycle(Vehicle):\n",
        "    def start(self):\n",
        "        print(\"Bicycle pedals in motion. Let's go!\")\n",
        "\n",
        "class Boat(Vehicle):\n",
        "    def start(self):\n",
        "        print(\"Boat engine roaring. Setting sail!\")\n",
        "\n",
        "\n",
        "car = Car()\n",
        "bicycle = Bicycle()\n",
        "boat = Boat()\n",
        "\n",
        "for vehicle in [car, bicycle, boat]:\n",
        "    vehicle.start()"
      ],
      "metadata": {
        "id": "FruMfx2ichQn"
      },
      "execution_count": null,
      "outputs": []
    },
    {
      "cell_type": "markdown",
      "source": [
        "9. Explain the significance of the `isinstance()` and `issubclass()` functions in Python polymorphism.\n"
      ],
      "metadata": {
        "id": "IuyFZSk7xZma"
      }
    },
    {
      "cell_type": "code",
      "source": [
        "\n",
        "class Animal:\n",
        "    pass\n",
        "\n",
        "class Dog(Animal):\n",
        "    pass\n",
        "\n",
        "class Cat(Animal):\n",
        "    pass\n",
        "\n",
        "\n",
        "dog = Dog()\n",
        "cat = Cat()\n",
        "\n",
        "print(isinstance(dog, Animal))\n",
        "print(isinstance(cat, Dog))\n",
        "\n",
        "print(issubclass(Dog, Animal))\n",
        "print(issubclass(Animal, Dog))\n",
        "\n",
        "\n",
        "def animal_sound(animal):\n",
        "  if isinstance(animal, Dog):\n",
        "    print(\"Woof!\")\n",
        "  elif isinstance(animal, Cat):\n",
        "    print(\"Meow!\")\n",
        "  else:\n",
        "    print(\"Generic animal sound\")\n",
        "\n",
        "animal_sound(dog)\n",
        "animal_sound(cat)\n",
        "animal_sound(Animal())\n"
      ],
      "metadata": {
        "id": "Ux5Eeqk3chr8"
      },
      "execution_count": null,
      "outputs": []
    },
    {
      "cell_type": "markdown",
      "source": [
        "10. What is the role of the `@abstractmethod` decorator in achieving polymorphism in Python? Provide an\n",
        "example.\n"
      ],
      "metadata": {
        "id": "iIjj67MnxbXM"
      }
    },
    {
      "cell_type": "code",
      "source": [
        "'''\n",
        "The @abstractmethod decorator, from the abc (Abstract Base Classes) module, is crucial for enforcing polymorphism through abstract methods.\n",
        "It forces concrete (non-abstract) subclasses to implement specific methods, ensuring a consistent interface across those subclasses.\n",
        "This enforces a kind of \"contract\" that all related classes must adhere to, enabling polymorphism.\n",
        "'''\n",
        "\n",
        "from abc import ABC, abstractmethod\n",
        "\n",
        "class Shape(ABC):\n",
        "    @abstractmethod\n",
        "    def area(self):\n",
        "        pass\n",
        "\n",
        "class Circle(Shape):\n",
        "    def __init__(self, radius):\n",
        "        self.radius = radius\n",
        "\n",
        "    def area(self):\n",
        "        return 3.14 * self.radius**2\n",
        "\n",
        "class Rectangle(Shape):\n",
        "    def __init__(self, width, height):\n",
        "        self.width = width\n",
        "        self.height = height\n",
        "\n",
        "    def area(self):\n",
        "        return self.width * self.height\n",
        "\n",
        "\n",
        "circle = Circle(5)\n",
        "rectangle = Rectangle(4, 6)\n",
        "\n",
        "print(circle.area())\n",
        "print(rectangle.area())"
      ],
      "metadata": {
        "id": "LDmMjlXKci_i"
      },
      "execution_count": null,
      "outputs": []
    },
    {
      "cell_type": "markdown",
      "source": [
        "11. Create a Python class called `Shape` with a polymorphic method `area()` that calculates the area of different shapes (e.g., circle, rectangle, triangle).\n"
      ],
      "metadata": {
        "id": "zC7EHM-9xc6B"
      }
    },
    {
      "cell_type": "code",
      "source": [
        "from abc import ABC, abstractmethod\n",
        "import math\n",
        "\n",
        "class Shape(ABC):\n",
        "    @abstractmethod\n",
        "    def area(self):\n",
        "        pass\n",
        "\n",
        "class Circle(Shape):\n",
        "    def __init__(self, radius):\n",
        "        self.radius = radius\n",
        "\n",
        "    def area(self):\n",
        "        return math.pi * self.radius**2\n",
        "\n",
        "class Rectangle(Shape):\n",
        "    def __init__(self, length, width):\n",
        "        self.length = length\n",
        "        self.width = width\n",
        "\n",
        "    def area(self):\n",
        "        return self.length * self.width\n",
        "\n",
        "class Triangle(Shape):\n",
        "    def __init__(self, base, height):\n",
        "        self.base = base\n",
        "        self.height = height\n",
        "\n",
        "    def area(self):\n",
        "        return 0.5 * self.base * self.height\n",
        "\n",
        "\n",
        "circle = Circle(5)\n",
        "rectangle = Rectangle(4, 6)\n",
        "triangle = Triangle(3, 8)\n",
        "\n",
        "shapes = [circle, rectangle, triangle]\n",
        "\n",
        "for shape in shapes:\n",
        "    print(f\"Area of {type(shape).__name__}: {shape.area()}\")"
      ],
      "metadata": {
        "id": "V6k6IERdciqM"
      },
      "execution_count": null,
      "outputs": []
    },
    {
      "cell_type": "markdown",
      "source": [
        "12. Discuss the benefits of polymorphism in terms of code reusability and flexibility in Python programs.\n"
      ],
      "metadata": {
        "id": "UjyfsyKIxenh"
      }
    },
    {
      "cell_type": "code",
      "source": [
        "'''\n",
        "Code Reusability\n",
        "\n",
        "Polymorphism allows the reuse of code through inheritance and method overriding. Subclasses inherit common functionalities from a parent class and can override methods to provide specific behaviors.\n",
        "A common interface, often through abstract methods, enables generic code that works with various objects without needing to know their specific types.\n",
        "Flexibility\n",
        "\n",
        "Polymorphism makes code adaptable to changes. Adding new object types is achieved by creating subclasses implementing the common interface, without altering existing code.\n",
        "Extensibility is enhanced by easily adding features via new subclasses without modifying existing code.\n",
        "Coupling between code parts is reduced by relying on a common interface, making code more maintainable.\n",
        "Polymorphism allows dynamic behavior, enabling objects to exhibit different actions based on their type, even when called through the same interface. This versatility handles a wider range of scenarios.\n",
        "\n",
        "''''"
      ],
      "metadata": {
        "id": "-nhG2oQicjvc"
      },
      "execution_count": null,
      "outputs": []
    },
    {
      "cell_type": "markdown",
      "source": [
        "13. Explain the use of the `super()` function in Python polymorphism. How does it help call methods of parent\n",
        "classes?\n"
      ],
      "metadata": {
        "id": "IRbD-ZEFxgSm"
      }
    },
    {
      "cell_type": "code",
      "source": [
        "'''\n",
        "super() in Polymorphism\n",
        "\n",
        "Calls parent class methods from within a subclass's overridden method.\n",
        "Provides a way to extend the functionality of the parent class method without completely rewriting it.\n",
        "Maintains the inheritance hierarchy and avoids code duplication.\n",
        "How it calls parent class methods:\n",
        "\n",
        "Within a subclass's overridden method, super() is called without arguments or with the subclass and self as arguments (in Python 2).\n",
        "super() returns a temporary object of the superclass.\n",
        "Calling a method on this temporary object invokes the corresponding method in the superclass.\n",
        "This allows the subclass to perform its specific logic before or after calling the parent class method.\n",
        "'''\n",
        "\n",
        "class Animal:\n",
        "    def speak(self):\n",
        "        print(\"Generic animal sound\")\n",
        "\n",
        "class Dog(Animal):\n",
        "    def speak(self):\n",
        "        super().speak()\n",
        "        print(\"Woof!\")"
      ],
      "metadata": {
        "id": "DnasAjFOckQi"
      },
      "execution_count": null,
      "outputs": []
    },
    {
      "cell_type": "markdown",
      "source": [
        "14. Create a Python class hierarchy for a banking system with various account types (e.g., savings, checking, credit card) and demonstrate polymorphism by implementing a common `withdraw()` method.\n"
      ],
      "metadata": {
        "id": "UTcPfvXmxhqY"
      }
    },
    {
      "cell_type": "code",
      "source": [
        "from abc import ABC, abstractmethod\n",
        "\n",
        "class Account(ABC):\n",
        "    def __init__(self, balance):\n",
        "        self.balance = balance\n",
        "\n",
        "    @abstractmethod\n",
        "    def withdraw(self, amount):\n",
        "        pass\n",
        "\n",
        "class SavingsAccount(Account):\n",
        "    def withdraw(self, amount):\n",
        "        if amount <= self.balance:\n",
        "            self.balance -= amount\n",
        "            print(f\"Withdrew ${amount} from Savings Account. New balance: ${self.balance}\")\n",
        "        else:\n",
        "            print(\"Insufficient funds in Savings Account.\")\n",
        "\n",
        "class CheckingAccount(Account):\n",
        "    def withdraw(self, amount):\n",
        "        if amount <= self.balance:\n",
        "            self.balance -= amount\n",
        "            print(f\"Withdrew ${amount} from Checking Account. New balance: ${self.balance}\")\n",
        "        else:\n",
        "            print(\"Insufficient funds in Checking Account.\")\n",
        "\n",
        "class CreditCardAccount(Account):\n",
        "    def __init__(self, balance, credit_limit):\n",
        "        super().__init__(balance)\n",
        "        self.credit_limit = credit_limit\n",
        "\n",
        "    def withdraw(self, amount):\n",
        "        if amount <= self.balance + self.credit_limit:\n",
        "            self.balance -= amount\n",
        "            print(f\"Withdrew ${amount} from Credit Card Account. New balance: ${self.balance}\")\n",
        "        else:\n",
        "            print(\"Exceeded credit limit on Credit Card Account.\")\n",
        "\n",
        "\n",
        "savings = SavingsAccount(1000)\n",
        "checking = CheckingAccount(500)\n",
        "credit = CreditCardAccount(200, 500)\n",
        "\n",
        "accounts = [savings, checking, credit]\n",
        "\n",
        "for account in accounts:\n",
        "    account.withdraw(200)"
      ],
      "metadata": {
        "id": "AYlymOWSck7P"
      },
      "execution_count": null,
      "outputs": []
    },
    {
      "cell_type": "markdown",
      "source": [
        "15. Describe the concept of operator overloading in Python and how it relates to polymorphism. Provide\n",
        "examples using operators like `+` and `*`.\n"
      ],
      "metadata": {
        "id": "8KyYdOr3xjcQ"
      }
    },
    {
      "cell_type": "code",
      "source": [
        "'''\n",
        "Operator Overloading:\n",
        "Allows you to define how operators like +, *, -, etc., behave with objects of your custom classes.\n",
        "Achieved by implementing special methods (dunder methods) within your class, such as __add__ for +, __mul__ for *, etc.\n",
        "Enables you to perform operations on objects in a way that makes sense for your specific data type.\n",
        "\n",
        "Relationship to Polymorphism:\n",
        "\n",
        "Operator overloading is a form of polymorphism, specifically ad hoc polymorphism.\n",
        "It allows the same operator to have different behaviors depending on the types of operands it's used with.\n",
        "This flexibility adds to the overall polymorphic nature of Python.\n",
        "\n",
        "'''\n",
        "\n",
        "class Vector:\n",
        "    def __init__(self, x, y):\n",
        "        self.x = x\n",
        "        self.y = y\n",
        "\n",
        "    def __add__(self, other):\n",
        "        return Vector(self.x + other.x, self.y + other.y)\n",
        "\n",
        "    def __mul__(self, scalar):\n",
        "        return Vector(self.x * scalar, self.y * scalar)\n",
        "\n",
        "v1 = Vector(2, 3)\n",
        "v2 = Vector(4, 5)\n",
        "\n",
        "v3 = v1 + v2\n",
        "v4 = v1 * 2\n",
        "\n",
        "print(v3.x, v3.y)\n",
        "print(v4.x, v4.y)"
      ],
      "metadata": {
        "id": "VhArO_mvclcU"
      },
      "execution_count": null,
      "outputs": []
    },
    {
      "cell_type": "markdown",
      "source": [
        "16. What is dynamic polymorphism, and how is it achieved in Python?\n"
      ],
      "metadata": {
        "id": "urUPEgafxk0P"
      }
    },
    {
      "cell_type": "code",
      "source": [
        "'''\n",
        "Dynamic Polymorphism\n",
        "\n",
        "The type of object is determined at runtime, not during compilation.\n",
        "Method calls are resolved at runtime, allowing for flexibility and adaptability.\n",
        "Achieved in Python through duck typing and method overriding.\n",
        "Duck Typing\n",
        "\n",
        "Focuses on an object's behavior rather than its explicit type.\n",
        "If it walks like a duck and quacks like a duck, it's treated as a duck.\n",
        "Enables polymorphism without relying on inheritance.\n",
        "Method Overriding\n",
        "\n",
        "Subclasses provide specific implementations for methods inherited from parent classes.\n",
        "The correct method version is determined at runtime based on the object's type.\n",
        "Contributes to dynamic polymorphism by allowing for customized behavior.\n",
        "\n",
        "'''\n",
        "\n",
        "class Dog:\n",
        "    def speak(self):\n",
        "        print(\"Woof!\")\n",
        "\n",
        "class Cat:\n",
        "    def speak(self):\n",
        "        print(\"Meow!\")\n",
        "\n",
        "def animal_sound(animal):\n",
        "    animal.speak()\n",
        "\n",
        "dog = Dog()\n",
        "cat = Cat()\n",
        "\n",
        "animal_sound(dog)\n",
        "animal_sound(cat)\n"
      ],
      "metadata": {
        "id": "bNK3jZP-cl-9"
      },
      "execution_count": null,
      "outputs": []
    },
    {
      "cell_type": "markdown",
      "source": [
        "17. Create a Python class hierarchy for employees in a company (e.g., manager, developer, designer) and implement polymorphism through a common `calculate_salary()` method.\n"
      ],
      "metadata": {
        "id": "C_i8-v0GxmBG"
      }
    },
    {
      "cell_type": "code",
      "source": [
        "from abc import ABC, abstractmethod\n",
        "\n",
        "class Employee(ABC):\n",
        "    def __init__(self, name, id):\n",
        "        self.name = name\n",
        "        self.id = id\n",
        "\n",
        "    @abstractmethod\n",
        "    def calculate_salary(self):\n",
        "        pass\n",
        "\n",
        "class Manager(Employee):\n",
        "    def __init__(self, name, id, salary, bonus):\n",
        "        super().__init__(name, id)\n",
        "        self.salary = salary\n",
        "        self.bonus = bonus\n",
        "\n",
        "    def calculate_salary(self):\n",
        "        return self.salary + self.bonus\n",
        "\n",
        "class Developer(Employee):\n",
        "    def __init__(self, name, id, hourly_rate, hours_worked):\n",
        "        super().__init__(name, id)\n",
        "        self.hourly_rate = hourly_rate\n",
        "        self.hours_worked = hours_worked\n",
        "\n",
        "    def calculate_salary(self):\n",
        "        return self.hourly_rate * self.hours_worked\n",
        "\n",
        "class Designer(Employee):\n",
        "    def __init__(self, name, id, salary, project_bonus):\n",
        "        super().__init__(name, id)\n",
        "        self.salary = salary\n",
        "        self.project_bonus = project_bonus\n",
        "\n",
        "    def calculate_salary(self):\n",
        "        return self.salary + self.project_bonus\n",
        "\n",
        "\n",
        "manager = Manager(\"Alice\", 101, 5000, 1000)\n",
        "developer = Developer(\"Bob\", 102, 50, 160)\n",
        "designer = Designer(\"Charlie\", 103, 4500, 500)\n",
        "\n",
        "employees = [manager, developer, designer]\n",
        "\n",
        "for employee in employees:\n",
        "    print(f\"{employee.name}'s salary: ${employee.calculate_salary()}\")"
      ],
      "metadata": {
        "id": "2676cMAIcmdb"
      },
      "execution_count": null,
      "outputs": []
    },
    {
      "cell_type": "markdown",
      "source": [
        "18. Discuss the concept of function pointers and how they can be used to achieve polymorphism in Python.\n"
      ],
      "metadata": {
        "id": "t0TZtSGExnRt"
      }
    },
    {
      "cell_type": "code",
      "source": [
        "'''\n",
        "Function Pointers\n",
        "\n",
        "Variables that store the memory address of a function.\n",
        "Allow you to call a function indirectly through the pointer.\n",
        "Enable dynamic function calls, where the function to be executed is determined at runtime.\n",
        "Polymorphism with Function Pointers\n",
        "\n",
        "Different functions can be assigned to the same function pointer variable.\n",
        "Calling the function through the pointer executes the function currently assigned to it.\n",
        "This allows you to achieve polymorphism by selecting the appropriate function based on the context.\n",
        "'''\n",
        "\n",
        "def add(x, y):\n",
        "    return x + y\n",
        "\n",
        "def subtract(x, y):\n",
        "    return x - y\n",
        "\n",
        "operation = add\n",
        "\n",
        "result = operation(5, 3)\n",
        "print(result)\n",
        "\n",
        "operation = subtract\n",
        "\n",
        "result = operation(5, 3)\n",
        "print(result)"
      ],
      "metadata": {
        "id": "PIvtPuKhcnBG"
      },
      "execution_count": null,
      "outputs": []
    },
    {
      "cell_type": "markdown",
      "source": [
        "19. Explain the role of interfaces and abstract classes in polymorphism, drawing comparisons between them.\n"
      ],
      "metadata": {
        "id": "Dy-y-UyExouy"
      }
    },
    {
      "cell_type": "code",
      "source": [
        "'''\n",
        "Interfaces and Abstract Classes in Polymorphism\n",
        "\n",
        "Both interfaces and abstract classes are crucial for achieving polymorphism in object-oriented programming. They define a common interface that multiple classes can implement, allowing objects of those classes to be treated interchangeably. However, there are key differences between them:\n",
        "\n",
        "Interfaces\n",
        "\n",
        "Define a contract that classes must adhere to by specifying a set of methods that must be implemented.\n",
        "Cannot contain any implementation logic.\n",
        "In Python, interfaces are typically implemented using abstract base classes (ABCs) from the abc module.\n",
        "Promote loose coupling by allowing classes to implement multiple interfaces.\n",
        "Abstract Classes\n",
        "\n",
        "Can contain both abstract methods (without implementation) and concrete methods (with implementation).\n",
        "Provide a partial implementation that subclasses can inherit and extend.\n",
        "Can define attributes and constructors.\n",
        "Support a tighter coupling between classes, as subclasses inherit from a single abstract class.\n",
        "'''\n",
        "\n",
        "from abc import ABC, abstractmethod\n",
        "\n",
        "class Shape(ABC):  # Abstract class\n",
        "    @abstractmethod\n",
        "    def area(self):\n",
        "        pass\n",
        "\n",
        "    def perimeter(self):  # Concrete method\n",
        "        print(\"Calculating perimeter...\")\n",
        "\n",
        "class Circle(Shape):\n",
        "    def __init__(self, radius):\n",
        "        self.radius = radius\n",
        "\n",
        "    def area(self):\n",
        "        return 3.14 * self.radius**2\n",
        "\n",
        "class Rectangle(Shape):\n",
        "    def __init__(self, length, width):\n",
        "        self.length = length\n",
        "        self.width = width\n",
        "\n",
        "    def area(self):\n",
        "        return self.length * self.width"
      ],
      "metadata": {
        "id": "9XFgOuKZcnto"
      },
      "execution_count": null,
      "outputs": []
    },
    {
      "cell_type": "markdown",
      "source": [
        "20. Create a Python class for a zoo simulation, demonstrating polymorphism with different animal types (e.g., mammals, birds, repetiles) and their behaviour (eg., eating, sleeping, maing sounds)."
      ],
      "metadata": {
        "id": "z69SAe9Vxp9i"
      }
    },
    {
      "cell_type": "code",
      "source": [
        "from abc import ABC, abstractmethod\n",
        "\n",
        "class Animal(ABC):\n",
        "    def __init__(self, name):\n",
        "        self.name = name\n",
        "\n",
        "    @abstractmethod\n",
        "    def eat(self):\n",
        "        pass\n",
        "\n",
        "    @abstractmethod\n",
        "    def sleep(self):\n",
        "        pass\n",
        "\n",
        "    @abstractmethod\n",
        "    def make_sound(self):\n",
        "        pass\n",
        "\n",
        "class Mammal(Animal):\n",
        "    def eat(self):\n",
        "        print(f\"{self.name} the mammal is eating.\")\n",
        "\n",
        "    def sleep(self):\n",
        "        print(f\"{self.name} the mammal is sleeping.\")\n",
        "\n",
        "    def make_sound(self):\n",
        "        print(f\"{self.name} the mammal is making a sound.\")\n",
        "\n",
        "class Bird(Animal):\n",
        "    def eat(self):\n",
        "        print(f\"{self.name} the bird is eating.\")\n",
        "\n",
        "    def sleep(self):\n",
        "        print(f\"{self.name} the bird is sleeping.\")\n",
        "\n",
        "    def make_sound(self):\n",
        "        print(f\"{self.name} the bird is chirping.\")\n",
        "\n",
        "class Reptile(Animal):\n",
        "    def eat(self):\n",
        "        print(f\"{self.name} the reptile is eating.\")\n",
        "\n",
        "    def sleep(self):\n",
        "        print(f\"{self.name} the reptile is sleeping.\")\n",
        "\n",
        "    def make_sound(self):\n",
        "        print(f\"{self.name} the reptile is hissing.\")\n",
        "\n",
        "\n",
        "lion = Mammal(\"Simba\")\n",
        "parrot = Bird(\"Polly\")\n",
        "snake = Reptile(\"Kaa\")\n",
        "\n",
        "animals = [lion, parrot, snake]\n",
        "\n",
        "for animal in animals:\n",
        "    animal.eat()\n",
        "    animal.sleep()\n",
        "    animal.make_sound()"
      ],
      "metadata": {
        "id": "yhjAQxGicoLG"
      },
      "execution_count": null,
      "outputs": []
    },
    {
      "cell_type": "markdown",
      "source": [
        "#Abstraction:"
      ],
      "metadata": {
        "id": "o7b2s7xexuLV"
      }
    },
    {
      "cell_type": "markdown",
      "source": [
        "1. What is abstraction in Python, and how does it relate to object-oriented programming?\n"
      ],
      "metadata": {
        "id": "sYQX9gwmx8vh"
      }
    },
    {
      "cell_type": "code",
      "execution_count": 3,
      "metadata": {
        "colab": {
          "base_uri": "https://localhost:8080/",
          "height": 209
        },
        "id": "y-qM3Dsp659s",
        "outputId": "2b6d0830-1c4b-4ff8-a4aa-b5abc183963e"
      },
      "outputs": [
        {
          "output_type": "execute_result",
          "data": {
            "text/plain": [
              "'\\nAbstraction\\n\\nHiding complex implementation details and exposing only essential information to the user.\\nFocuses on \"what\" an object does rather than \"how\" it does it.\\nSimplifies interactions with objects and reduces code complexity.\\nRelationship to OOP\\n\\nAbstraction is a fundamental principle of OOP.\\nAchieved through abstract classes and interfaces in Python.\\nAllows you to create reusable and modular code by defining common interfaces for different objects.\\nAbstract Classes and Interfaces\\n\\nAbstract classes define a blueprint for other classes, including abstract methods that must be implemented by subclasses.\\nInterfaces specify a set of methods that classes must implement, without providing any implementation details.\\nBoth promote abstraction by hiding internal complexities and exposing only essential functionalities.\\nBenefits of Abstraction\\n\\nCode Reusability: Common functionalities can be defined in abstract classes or interfaces and reused by multiple subclasses.\\nFlexibility: Changes to the internal implementation of an object won\\'t affect the code that uses it, as long as the interface remains the same.\\nMaintainability: Code becomes easier to understand and maintain, as complexities are hidden behind abstractions.\\nModularity: Code can be organized into smaller, more manageable modules based on abstractions.\\n'"
            ],
            "application/vnd.google.colaboratory.intrinsic+json": {
              "type": "string"
            }
          },
          "metadata": {},
          "execution_count": 3
        }
      ],
      "source": [
        "'''\n",
        "Abstraction\n",
        "\n",
        "Hiding complex implementation details and exposing only essential information to the user.\n",
        "Focuses on \"what\" an object does rather than \"how\" it does it.\n",
        "Simplifies interactions with objects and reduces code complexity.\n",
        "Relationship to OOP\n",
        "\n",
        "Abstraction is a fundamental principle of OOP.\n",
        "Achieved through abstract classes and interfaces in Python.\n",
        "Allows you to create reusable and modular code by defining common interfaces for different objects.\n",
        "Abstract Classes and Interfaces\n",
        "\n",
        "Abstract classes define a blueprint for other classes, including abstract methods that must be implemented by subclasses.\n",
        "Interfaces specify a set of methods that classes must implement, without providing any implementation details.\n",
        "Both promote abstraction by hiding internal complexities and exposing only essential functionalities.\n",
        "Benefits of Abstraction\n",
        "\n",
        "Code Reusability: Common functionalities can be defined in abstract classes or interfaces and reused by multiple subclasses.\n",
        "Flexibility: Changes to the internal implementation of an object won't affect the code that uses it, as long as the interface remains the same.\n",
        "Maintainability: Code becomes easier to understand and maintain, as complexities are hidden behind abstractions.\n",
        "Modularity: Code can be organized into smaller, more manageable modules based on abstractions.\n",
        "'''\n"
      ]
    },
    {
      "cell_type": "markdown",
      "source": [
        "2. Describe the benefits of abstraction in terms of code organization and complexity reduction.\n"
      ],
      "metadata": {
        "id": "8rXyBLB3yAqm"
      }
    },
    {
      "cell_type": "code",
      "source": [
        "'''\n",
        "Code Organization\n",
        "\n",
        "Abstraction promotes modularity by grouping related functionalities into abstract classes or interfaces.\n",
        "This improves code structure and makes it easier to navigate and understand.\n",
        "Reduces dependencies between different parts of the code, leading to better organization.\n",
        "Complexity Reduction\n",
        "\n",
        "Abstraction hides implementation details, simplifying interactions with objects.\n",
        "Users only need to know the essential functionalities exposed by the abstraction, not the internal complexities.\n",
        "This reduces cognitive load and makes code easier to reason about and maintain.\n",
        "Helps manage large and complex systems by breaking them down into smaller, more manageable abstract components.\n",
        "Leads to cleaner and more concise code, as complexities are encapsulated within abstractions.\n",
        "'''"
      ],
      "metadata": {
        "id": "E6wlB9TbrLBb"
      },
      "execution_count": null,
      "outputs": []
    },
    {
      "cell_type": "markdown",
      "source": [
        "3. Create a Python class called `Shape` with an abstract method `calculate_area()`. Then, create child classes (e.g., `Circle`, `Rectangle`) that implement the `calculate_area()` method. Provide an example of\n",
        "using these classes.\n"
      ],
      "metadata": {
        "id": "hKNBHWHVyC4W"
      }
    },
    {
      "cell_type": "code",
      "source": [
        "from abc import ABC, abstractmethod\n",
        "import math\n",
        "\n",
        "class Shape(ABC):\n",
        "    @abstractmethod\n",
        "    def calculate_area(self):\n",
        "        pass\n",
        "\n",
        "class Circle(Shape):\n",
        "    def __init__(self, radius):\n",
        "        self.radius = radius\n",
        "\n",
        "    def calculate_area(self):\n",
        "        return math.pi * self.radius**2\n",
        "\n",
        "class Rectangle(Shape):\n",
        "    def __init__(self, length, width):\n",
        "        self.length = length\n",
        "        self.width = width\n",
        "\n",
        "    def calculate_area(self):\n",
        "        return self.length * self.width\n",
        "\n",
        "# Example usage\n",
        "circle = Circle(5)\n",
        "rectangle = Rectangle(4, 6)\n",
        "\n",
        "print(f\"Circle area: {circle.calculate_area()}\")\n",
        "print(f\"Rectangle area: {rectangle.calculate_area()}\")"
      ],
      "metadata": {
        "id": "8DV7TfXMrL4S"
      },
      "execution_count": null,
      "outputs": []
    },
    {
      "cell_type": "markdown",
      "source": [
        "4. Explain the concept of abstract classes in Python and how they are defined using the `abc` module. Provide\n",
        "an example.\n"
      ],
      "metadata": {
        "id": "B7t8TC_4yFER"
      }
    },
    {
      "cell_type": "code",
      "source": [
        "'''\n",
        "Abstract Classes in Python\n",
        "Abstract classes serve as blueprints for other classes (subclasses).\n",
        "They can't be instantiated directly but define a common interface with abstract methods (lacking implementation) that subclasses must implement.\n",
        "\n",
        "Definition using abc module\n",
        "Import ABC (Abstract Base Class) and abstractmethod from the abc module.\n",
        "Make your class inherit from ABC.\n",
        "Use the @abstractmethod decorator on methods you want to be abstract (without implementation in the abstract class).\n",
        "'''\n",
        "\n",
        "from abc import ABC, abstractmethod\n",
        "\n",
        "class Shape(ABC):\n",
        "    @abstractmethod\n",
        "    def calculate_area(self):\n",
        "        pass\n",
        "\n",
        "class Circle(Shape):\n",
        "    def __init__(self, radius):\n",
        "        self.radius = radius\n",
        "\n",
        "    def calculate_area(self):\n",
        "        return 3.14 * self.radius**2\n",
        "\n",
        "\n",
        "circle = Circle(5)\n",
        "print(circle.calculate_area())"
      ],
      "metadata": {
        "id": "rqM8dgTKt7uh"
      },
      "execution_count": null,
      "outputs": []
    },
    {
      "cell_type": "markdown",
      "source": [
        "5. How do abstract classes differ from regular classes in Python? Discuss their use cases.\n"
      ],
      "metadata": {
        "id": "Wt8pNqjMyG6T"
      }
    },
    {
      "cell_type": "code",
      "source": [
        "'''\n",
        "Abstract Classes\n",
        "Enforcing a common interface: Ensure that all subclasses provide specific methods.\n",
        "Framework development: Define the structure and behavior of plugins or extensions.\n",
        "Creating abstract data types: Represent concepts like shapes or collections with a common interface.\n",
        "\n",
        "\n",
        "Regular Classes\n",
        "Creating objects: Represent real-world entities or data structures.\n",
        "Implementing specific functionalities: Provide methods for performing actions.\n",
        "Building applications: Combine objects and functionalities to create programs.\n",
        "Example Use Case: Shape Hierarchy\n",
        "\n",
        "An abstract class Shape can define an abstract method calculate_area().\n",
        "Concrete subclasses like Circle and Rectangle would then be forced to implement this method to calculate their respective areas, ensuring a consistent interface across different shape types.\n",
        "This is a common use case for abstract classes, promoting polymorphism and code organization.\n",
        "'''\n",
        "\n",
        "\n"
      ],
      "metadata": {
        "id": "TV4u9WyewDhX"
      },
      "execution_count": null,
      "outputs": []
    },
    {
      "cell_type": "markdown",
      "source": [
        "6. Create a Python class for a bank account and demonstrate abstraction by hiding the account balance and\n",
        "providing methods to deposit and withdraw funds.\n"
      ],
      "metadata": {
        "id": "bFGYlETpyI0e"
      }
    },
    {
      "cell_type": "code",
      "source": [
        "class BankAccount:\n",
        "    def __init__(self, initial_balance=0):\n",
        "        self.__balance = initial_balance\n",
        "\n",
        "    def deposit(self, amount):\n",
        "        if amount > 0:\n",
        "            self.__balance += amount\n",
        "            print(f\"Deposited ${amount}. New balance: ${self.__balance}\")\n",
        "        else:\n",
        "            print(\"Invalid deposit amount.\")\n",
        "\n",
        "    def withdraw(self, amount):\n",
        "        if amount > 0 and amount <= self.__balance:\n",
        "            self.__balance -= amount\n",
        "            print(f\"Withdrew ${amount}. New balance: ${self.__balance}\")\n",
        "        else:\n",
        "            print(\"Insufficient funds or invalid withdrawal amount.\")\n",
        "\n",
        "    def get_balance(self):\n",
        "        return self.__balance\n",
        "\n",
        "\n",
        "account = BankAccount(1000)\n",
        "account.deposit(500)\n",
        "account.withdraw(200)\n",
        "print(f\"Current balance: ${account.get_balance()}\")"
      ],
      "metadata": {
        "id": "l_hxRoFKwFY6"
      },
      "execution_count": null,
      "outputs": []
    },
    {
      "cell_type": "markdown",
      "source": [
        "7. Discuss the concept of interface classes in Python and their role in achieving abstraction.\n"
      ],
      "metadata": {
        "id": "T-flB_DXyKqb"
      }
    },
    {
      "cell_type": "code",
      "source": [
        "'''\n",
        "Interface Classes in Python and Abstraction\n",
        "In Python, interface classes define a set of methods that classes must implement.\n",
        "They act as contracts, specifying the behavior that different classes should share.\n",
        "Although Python doesn't have a dedicated interface keyword, the concept is achieved using abstract base classes (ABCs) from the abc module.\n",
        "\n",
        "Interface classes play a crucial role in abstraction by:\n",
        "\n",
        "Hiding Implementation Details: Interfaces focus on what a class should do, not how it does it.\n",
        "They abstract away the internal workings, allowing users to interact with objects through a well-defined interface.\n",
        "\n",
        "Promoting Polymorphism: By implementing the same interface, different classes can be used interchangeably.\n",
        "This enables polymorphism, where the same method call can have different behaviors depending on the object's type.\n",
        "\n",
        "Enforcing a Common Interface: Interfaces ensure that all implementing classes provide the specified methods, guaranteeing a consistent and predictable behavior.\n",
        "This is essential for building robust and maintainable systems.\n",
        "'''\n",
        "\n",
        "from abc import ABC, abstractmethod\n",
        "\n",
        "class Shape(ABC):\n",
        "    @abstractmethod\n",
        "    def calculate_area(self):\n",
        "        pass\n",
        "\n",
        "    @abstractmethod\n",
        "    def calculate_perimeter(self):\n",
        "        pass\n",
        "\n",
        "class Circle(Shape):\n",
        "    def __init__(self, radius):\n",
        "        self.radius = radius\n",
        "\n",
        "    def calculate_area(self):\n",
        "        return 3.14 * self.radius**2\n",
        "\n",
        "    def calculate_perimeter(self):\n",
        "        return 2 * 3.14 * self.radius"
      ],
      "metadata": {
        "id": "zxt_VkDZwF47"
      },
      "execution_count": null,
      "outputs": []
    },
    {
      "cell_type": "markdown",
      "source": [
        "8. Create a Python class hierarchy for animals and implement abstraction by defining common methods (e.g., `eat()`, `sleep()`) in an abstract base class.\n"
      ],
      "metadata": {
        "id": "fj3ponvQyMVt"
      }
    },
    {
      "cell_type": "code",
      "source": [
        "from abc import ABC, abstractmethod\n",
        "\n",
        "class Animal(ABC):\n",
        "    def __init__(self, name):\n",
        "        self.name = name\n",
        "\n",
        "    @abstractmethod\n",
        "    def eat(self):\n",
        "        pass\n",
        "\n",
        "    @abstractmethod\n",
        "    def sleep(self):\n",
        "        pass\n",
        "\n",
        "class Dog(Animal):\n",
        "    def eat(self):\n",
        "        print(f\"{self.name} the dog is eating.\")\n",
        "\n",
        "    def sleep(self):\n",
        "        print(f\"{self.name} the dog is sleeping.\")\n",
        "\n",
        "class Cat(Animal):\n",
        "    def eat(self):\n",
        "        print(f\"{self.name} the cat is eating.\")\n",
        "\n",
        "    def sleep(self):\n",
        "        print(f\"{self.name} the cat is sleeping.\")\n",
        "\n",
        "\n",
        "dog = Dog(\"Buddy\")\n",
        "cat = Cat(\"Whiskers\")\n",
        "\n",
        "dog.eat()\n",
        "cat.sleep()"
      ],
      "metadata": {
        "id": "Ucg9uBHDwGaz"
      },
      "execution_count": null,
      "outputs": []
    },
    {
      "cell_type": "markdown",
      "source": [
        "9. Explain the significance of encapsulation in achieving abstraction. Provide examples.\n"
      ],
      "metadata": {
        "id": "ZO4ZBVsHyOCe"
      }
    },
    {
      "cell_type": "code",
      "source": [
        "'''\n",
        "Encapsulation and Abstraction\n",
        "Encapsulation and abstraction are closely related concepts in object-oriented programming.\n",
        "While abstraction focuses on hiding complexity and exposing essential information, encapsulation provides the mechanism to achieve this hiding.\n",
        "\n",
        "Significance of Encapsulation:\n",
        "Data Hiding: Encapsulation allows you to hide the internal data of an object by making attributes private.\n",
        "This prevents direct access from outside the class, ensuring data integrity and security.\n",
        "By controlling access to data, you can abstract away the internal representation and expose only the necessary information through methods.\n",
        "\n",
        "Implementation Hiding: Encapsulation also hides the implementation details of an object's methods.\n",
        "This allows you to change the internal workings of a class without affecting the code that uses it, as long as the public interface remains the same.\n",
        "This flexibility is essential for maintaining and evolving software systems.\n",
        "\n",
        "'''"
      ],
      "metadata": {
        "id": "qSyJhOumwG7n"
      },
      "execution_count": null,
      "outputs": []
    },
    {
      "cell_type": "markdown",
      "source": [
        "10. What is the purpose of abstract methods, and how do they enforce abstraction in Python classes?\n"
      ],
      "metadata": {
        "id": "FRXomBHjyPiO"
      }
    },
    {
      "cell_type": "code",
      "source": [
        "'''\n",
        "Purpose of Abstract Methods\n",
        "Abstract methods in Python serve as placeholders in abstract base classes (ABCs).\n",
        "They declare a method signature without providing an implementation. This enforces a contract, requiring concrete subclasses to provide their specific implementations for these methods.\n",
        "\n",
        "Essentially, they define what a subclass should do, not how it should do it.\n",
        "This is the essence of abstraction.\n",
        "\n",
        "Enforcement of Abstraction\n",
        "Abstract methods enforce abstraction in the following ways:\n",
        "\n",
        "Incomplete Blueprint: Abstract classes containing abstract methods cannot be instantiated directly.\n",
        "This prevents creating objects with incomplete or missing functionalities.\n",
        "\n",
        "Contract Enforcement: Subclasses inheriting from an abstract class must provide concrete implementations for all inherited abstract methods.\n",
        "This ensures that every subclass adheres to the common interface defined by the abstract class.\n",
        "\n",
        "Polymorphism: Abstract methods allow objects of different subclasses to be treated interchangeably through the common interface.\n",
        "This enables polymorphism, where the same method call can have different behaviors depending on the object's type.\n",
        "'''\n",
        "\n",
        "from abc import ABC, abstractmethod\n",
        "\n",
        "class Shape(ABC):\n",
        "    @abstractmethod\n",
        "    def calculate_area(self):\n",
        "        pass\n",
        "\n",
        "class Circle(Shape):\n",
        "    def __init__(self, radius):\n",
        "        self.radius = radius\n",
        "\n",
        "    def calculate_area(self):\n",
        "        return 3.14 * self.radius**2"
      ],
      "metadata": {
        "id": "pQp5XdK8wHZN"
      },
      "execution_count": null,
      "outputs": []
    },
    {
      "cell_type": "markdown",
      "source": [
        "11. Create a Python class for a vehicle system and demonstrate abstraction by defining common methods (e.g., `start()`, `stop()`) in an abstract base class."
      ],
      "metadata": {
        "id": "PUCOnU_uyRC3"
      }
    },
    {
      "cell_type": "code",
      "source": [
        "from abc import ABC, abstractmethod\n",
        "\n",
        "class Vehicle(ABC):\n",
        "    def __init__(self, make, model):\n",
        "        self.make = make\n",
        "        self.model = model\n",
        "\n",
        "    @abstractmethod\n",
        "    def start(self):\n",
        "        pass\n",
        "\n",
        "    @abstractmethod\n",
        "    def stop(self):\n",
        "        pass\n",
        "\n",
        "class Car(Vehicle):\n",
        "    def start(self):\n",
        "        print(f\"The {self.make} {self.model} car is starting.\")\n",
        "\n",
        "    def stop(self):\n",
        "        print(f\"The {self.make} {self.model} car is stopping.\")\n",
        "\n",
        "class Motorcycle(Vehicle):\n",
        "    def start(self):\n",
        "        print(f\"The {self.make} {self.model} motorcycle is starting.\")\n",
        "\n",
        "    def stop(self):\n",
        "        print(f\"The {self.make} {self.model} motorcycle is stopping.\")\n",
        "\n",
        "\n",
        "car = Car(\"Toyota\", \"Camry\")\n",
        "motorcycle = Motorcycle(\"Honda\", \"CBR\")\n",
        "\n",
        "car.start()\n",
        "motorcycle.stop()"
      ],
      "metadata": {
        "id": "argrgTS_wHyj"
      },
      "execution_count": null,
      "outputs": []
    },
    {
      "cell_type": "markdown",
      "source": [
        "\n",
        "12. Describe the use of abstract properties in Python and how they can be employed in abstract classes.\n"
      ],
      "metadata": {
        "id": "dEruXBecySOu"
      }
    },
    {
      "cell_type": "code",
      "source": [
        "'''\n",
        "Abstract Properties in Python\n",
        "Abstract properties in Python are used to define read-only or write-only properties that must be implemented by concrete subclasses.\n",
        "They are defined within abstract base classes (ABCs) and use the @property and @abstractmethod decorators.\n",
        "\n",
        "How to Employ in Abstract Classes\n",
        "\n",
        "Here's how abstract properties are employed in abstract classes:\n",
        "\n",
        "Define the Abstract Property: Within the abstract class, use the @property decorator followed by @abstractmethod to define the abstract property.\n",
        "This creates a read-only property that must be implemented by subclasses.\n",
        "\n",
        "Implement in Subclasses: Concrete subclasses must provide a concrete implementation for the abstract property using the @property decorator.\n",
        "This implementation defines how the property is accessed or modified.\n",
        "\n",
        "'''\n",
        "\n",
        "from abc import ABC, abstractmethod\n",
        "\n",
        "class Shape(ABC):\n",
        "    @property\n",
        "    @abstractmethod\n",
        "    def area(self):\n",
        "        pass\n",
        "\n",
        "class Circle(Shape):\n",
        "    def __init__(self, radius):\n",
        "        self.radius = radius\n",
        "\n",
        "    @property\n",
        "    def area(self):\n",
        "        return 3.14 * self.radius**2"
      ],
      "metadata": {
        "id": "gLseS6UUwIxk"
      },
      "execution_count": null,
      "outputs": []
    },
    {
      "cell_type": "markdown",
      "source": [
        "13. Create a Python class hierarchy for employees in a company (e.g., manager, developer, designer) and implement abstraction by defining a common `get_salary()` method.\n"
      ],
      "metadata": {
        "id": "SHCS5pcTyTvk"
      }
    },
    {
      "cell_type": "code",
      "source": [
        "from abc import ABC, abstractmethod\n",
        "\n",
        "class Employee(ABC):\n",
        "    def __init__(self, name, id):\n",
        "        self.name = name\n",
        "        self.id = id\n",
        "\n",
        "    @abstractmethod\n",
        "    def get_salary(self):\n",
        "        pass\n",
        "\n",
        "class Manager(Employee):\n",
        "    def __init__(self, name, id, salary, bonus):\n",
        "        super().__init__(name, id)\n",
        "        self.salary = salary\n",
        "        self.bonus = bonus\n",
        "\n",
        "    def get_salary(self):\n",
        "        return self.salary + self.bonus\n",
        "\n",
        "class Developer(Employee):\n",
        "    def __init__(self, name, id, hourly_rate, hours_worked):\n",
        "        super().__init__(name, id)\n",
        "        self.hourly_rate = hourly_rate\n",
        "        self.hours_worked = hours_worked\n",
        "\n",
        "    def get_salary(self):\n",
        "        return self.hourly_rate * self.hours_worked\n",
        "\n",
        "class Designer(Employee):\n",
        "    def __init__(self, name, id, salary, project_bonus):\n",
        "        super().__init__(name, id)\n",
        "        self.salary = salary\n",
        "        self.project_bonus = project_bonus\n",
        "\n",
        "    def get_salary(self):\n",
        "        return self.salary + self.project_bonus\n",
        "\n",
        "\n",
        "manager = Manager(\"Alice\", 101, 5000, 1000)\n",
        "developer = Developer(\"Bob\", 102, 50, 160)\n",
        "designer = Designer(\"Charlie\", 103, 4500, 500)\n",
        "\n",
        "employees = [manager, developer, designer]\n",
        "\n",
        "for employee in employees:\n",
        "    print(f\"{employee.name}'s salary: ${employee.get_salary()}\")"
      ],
      "metadata": {
        "id": "eYAV4lrWwILT"
      },
      "execution_count": null,
      "outputs": []
    },
    {
      "cell_type": "markdown",
      "source": [
        "14. Discuss the differences between abstract classes and concrete classes in Python, including their\n",
        "instantiation."
      ],
      "metadata": {
        "id": "nO-iKpR_yVm4"
      }
    },
    {
      "cell_type": "code",
      "source": [
        "'''\n",
        "Abstract Classes\n",
        "Purpose: Abstract classes serve as blueprints or templates for other classes.\n",
        "They define a common interface and ensure that certain methods are implemented by their subclasses.\n",
        "This promotes abstraction and polymorphism.\n",
        "\n",
        "Instantiation: Abstract classes cannot be instantiated directly.\n",
        "Attempting to create an instance of an abstract class will raise a TypeError.\n",
        "This is because they often contain abstract methods without implementations, making them incomplete.\n",
        "\n",
        "Abstract Methods: Abstract classes can have abstract methods, which are declared but do not have an implementation in the abstract class itself.\n",
        "Subclasses are required to provide concrete implementations for these abstract methods.\n",
        "\n",
        "Inheritance: Abstract classes are meant to be inherited from by concrete classes.\n",
        "Subclasses must implement all abstract methods inherited from the abstract class.\n",
        "\n",
        "Concrete Classes\n",
        "Purpose: Concrete classes are the actual objects you create and use in your programs.\n",
        "They provide specific implementations for the methods defined in their abstract base classes.\n",
        "\n",
        "Instantiation: Concrete classes can be instantiated directly.\n",
        "They provide implementations for all their methods, making them complete and ready to use.\n",
        "\n",
        "Abstract Methods: Concrete classes cannot have abstract methods.\n",
        "They must provide concrete implementations for all methods, including those inherited from abstract base classes.\n",
        "\n",
        "Inheritance: Concrete classes can inherit from abstract classes or other concrete classes.\n",
        "They inherit and can override methods from their parent classes.\n",
        "\n",
        "'''"
      ],
      "metadata": {
        "id": "0gcAZj6SwJjk"
      },
      "execution_count": null,
      "outputs": []
    },
    {
      "cell_type": "markdown",
      "source": [
        "\n",
        "15. Explain the concept of abstract data types (ADTs) and their role in achieving abstraction in Python.\n"
      ],
      "metadata": {
        "id": "huJbAI8KyXFQ"
      }
    },
    {
      "cell_type": "code",
      "source": [
        "'''\n",
        "Abstract Data Types (ADTs)\n",
        "An abstract data type (ADT) is a theoretical model of a data structure that specifies:\n",
        "\n",
        "Data: The type of data stored in the structure.\n",
        "Operations: The actions that can be performed on the data.\n",
        "ADTs focus on the \"what\" (the interface) and not the \"how\" (the implementation).\n",
        "They define the behavior of a data structure without specifying how it is implemented internally.\n",
        "\n",
        "Role in Achieving Abstraction\n",
        "ADTs play a crucial role in achieving abstraction in Python by:\n",
        "\n",
        "Hiding Implementation Details: ADTs abstract away the internal representation of the data structure, allowing users to interact with it through a well-defined interface.\n",
        "This simplifies usage and reduces complexity.\n",
        "\n",
        "Promoting Modularity: By encapsulating data and operations, ADTs promote modularity, making code easier to understand, maintain, and extend.\n",
        "\n",
        "Enabling Flexibility: ADTs allow you to change the underlying implementation of a data structure without affecting the code that uses it, as long as the interface remains the same.\n",
        "'''\n",
        "\n",
        "class Stack:\n",
        "    def __init__(self):\n",
        "        self.__items = []  # Private attribute for data\n",
        "\n",
        "    def push(self, item):\n",
        "        self.__items.append(item)\n",
        "\n",
        "    def pop(self):\n",
        "        if self.__items:\n",
        "            return self.__items.pop()\n",
        "        else:\n",
        "            return None\n",
        "\n",
        "    def is_empty(self):\n",
        "        return len(self.__items) == 0"
      ],
      "metadata": {
        "id": "hgZ_BMW6wKKY"
      },
      "execution_count": null,
      "outputs": []
    },
    {
      "cell_type": "markdown",
      "source": [
        "16. Create a Python class for a computer system, demonstrating abstraction by defining common methods (e.g., `power_on()`, `shutdown()`) in an abstract base class."
      ],
      "metadata": {
        "id": "Sv5AUGHcyZF4"
      }
    },
    {
      "cell_type": "code",
      "source": [
        "from abc import ABC, abstractmethod\n",
        "\n",
        "class ComputerSystem(ABC):\n",
        "    def __init__(self, brand, model):\n",
        "        self.brand = brand\n",
        "        self.model = model\n",
        "\n",
        "    @abstractmethod\n",
        "    def power_on(self):\n",
        "        pass\n",
        "\n",
        "    @abstractmethod\n",
        "    def shutdown(self):\n",
        "        pass\n",
        "\n",
        "class Desktop(ComputerSystem):\n",
        "    def power_on(self):\n",
        "        print(f\"{self.brand} {self.model} desktop is powering on...\")\n",
        "\n",
        "    def shutdown(self):\n",
        "        print(f\"{self.brand} {self.model} desktop is shutting down...\")\n",
        "\n",
        "class Laptop(ComputerSystem):\n",
        "    def power_on(self):\n",
        "        print(f\"{self.brand} {self.model} laptop is powering on...\")\n",
        "\n",
        "    def shutdown(self):\n",
        "        print(f\"{self.brand} {self.model} laptop is shutting down...\")\n",
        "\n",
        "\n",
        "desktop = Desktop(\"Dell\", \"XPS\")\n",
        "laptop = Laptop(\"HP\", \"Spectre\")\n",
        "\n",
        "desktop.power_on()\n",
        "laptop.shutdown()"
      ],
      "metadata": {
        "id": "kKetotw-wKiq"
      },
      "execution_count": null,
      "outputs": []
    },
    {
      "cell_type": "markdown",
      "source": [
        "\n",
        "17. Discuss the benefits of using abstraction in large-scale software development projects.\n"
      ],
      "metadata": {
        "id": "g-51BOY-ya3b"
      }
    },
    {
      "cell_type": "code",
      "source": [
        "'''\n",
        "1. Reduced Complexity\n",
        "Large projects involve intricate interactions between numerous components. Abstraction helps manage this complexity by:\n",
        "\n",
        "Hiding Implementation Details: Users of a module or class only need to understand its interface, not its internal workings.\n",
        "Breaking Down the System: Large systems can be decomposed into smaller, more manageable abstract components.\n",
        "2. Improved Code Organization\n",
        "Abstraction promotes better code organization by:\n",
        "\n",
        "Modularity: Grouping related functionalities into abstract classes or interfaces leads to a more structured codebase.\n",
        "Reduced Dependencies: Abstract interfaces minimize direct dependencies between components, making the system easier to maintain and evolve.\n",
        "3. Enhanced Collaboration\n",
        "Abstraction facilitates collaboration among developers by:\n",
        "\n",
        "Clearer Interfaces: Well-defined abstract interfaces serve as contracts between different parts of the system, enabling teams to work independently.\n",
        "Reduced Conflicts: Abstraction reduces the likelihood of merge conflicts by isolating changes within specific components.\n",
        "4. Increased Maintainability\n",
        "Abstraction makes code more maintainable by:\n",
        "\n",
        "Easier Modifications: Changes to the internal implementation of a component are less likely to affect other parts of the system if the interface remains consistent.\n",
        "Improved Testability: Abstract interfaces enable easier unit testing by allowing the creation of mock objects for dependencies.\n",
        "5. Flexibility and Reusability\n",
        "Abstraction promotes flexibility and reusability by:\n",
        "\n",
        "Adaptability: Abstract components can be easily adapted to new requirements or environments without affecting the entire system.\n",
        "Code Reuse: Well-designed abstract components can be reused in different parts of the project or in other projects.\n",
        "\n",
        "'''"
      ],
      "metadata": {
        "id": "MRD4iLXQwLIw"
      },
      "execution_count": null,
      "outputs": []
    },
    {
      "cell_type": "markdown",
      "source": [
        "18. Explain how abstraction enhances code reusability and modularity in Python programs.\n"
      ],
      "metadata": {
        "id": "iySypJvLycbR"
      }
    },
    {
      "cell_type": "code",
      "source": [
        "'''\n",
        "Abstraction, Reusability, and Modularity\n",
        "Abstraction plays a crucial role in promoting code reusability and modularity in Python by:\n",
        "\n",
        "Creating Reusable Components: Abstract classes and interfaces define common functionalities that can be implemented by multiple concrete classes. This allows you to create reusable components that can be shared across different parts of your program or even in other projects.\n",
        "\n",
        "Promoting Modularity: Abstraction encourages breaking down complex systems into smaller, independent modules. Each module can focus on a specific functionality, making the code easier to understand, maintain, and test.\n",
        "\n",
        "Reducing Dependencies: Abstract interfaces minimize direct dependencies between components. This allows you to modify or replace a component without affecting other parts of the system, as long as the interface remains consistent.\n",
        "\n",
        "How it Works\n",
        "Abstract Classes: Abstract classes provide a common interface for a group of related classes. They define abstract methods that must be implemented by concrete subclasses. This ensures that all subclasses adhere to the same interface, making them interchangeable.\n",
        "\n",
        "Interfaces: Interfaces are similar to abstract classes but focus solely on defining the methods that a class should implement. They provide a contract that classes must fulfill, promoting polymorphism and code organization.\n",
        "'''"
      ],
      "metadata": {
        "id": "RVXKUec_wLmk"
      },
      "execution_count": null,
      "outputs": []
    },
    {
      "cell_type": "markdown",
      "source": [
        "19. Create a Python class for a library system, implementing abstraction by defining common methods (e.g., `add_book()`, `borrow_book()`) in an abstract base class."
      ],
      "metadata": {
        "id": "kSpCDEEbyd46"
      }
    },
    {
      "cell_type": "code",
      "source": [
        "from abc import ABC, abstractmethod\n",
        "\n",
        "class LibrarySystem(ABC):\n",
        "    def __init__(self, name):\n",
        "        self.name = name\n",
        "        self.books = {}\n",
        "\n",
        "    @abstractmethod\n",
        "    def add_book(self, book_id, title, author):\n",
        "        pass\n",
        "\n",
        "    @abstractmethod\n",
        "    def borrow_book(self, book_id, member_id):\n",
        "        pass\n",
        "\n",
        "    @abstractmethod\n",
        "    def return_book(self, book_id, member_id):\n",
        "        pass\n",
        "\n",
        "class PublicLibrary(LibrarySystem):\n",
        "    def __init__(self, name):\n",
        "        super().__init__(name)\n",
        "        self.members = {}\n",
        "\n",
        "    def add_book(self, book_id, title, author):\n",
        "        self.books[book_id] = {\"title\": title, \"author\": author, \"available\": True}\n",
        "        print(f\"Book '{title}' added to {self.name}.\")\n",
        "\n",
        "    def borrow_book(self, book_id, member_id):\n",
        "        if book_id in self.books and self.books[book_id][\"available\"]:\n",
        "            self.books[book_id][\"available\"] = False\n",
        "            self.books[book_id][\"borrower\"] = member_id\n",
        "            print(f\"Book '{self.books[book_id]['title']}' borrowed by member {member_id}.\")\n",
        "        else:\n",
        "            print(f\"Book with ID {book_id} is not available.\")\n",
        "\n",
        "    def return_book(self, book_id, member_id):\n",
        "        if book_id in self.books and not self.books[book_id]['available'] and self.books[book_id]['borrower'] == member_id:\n",
        "            self.books[book_id][\"available\"] = True\n",
        "            del self.books[book_id][\"borrower\"]\n",
        "            print(f\"Book '{self.books[book_id]['title']}' returned by member {member_id}.\")\n",
        "        else:\n",
        "            print(f\"Book with id {book_id} was not borrowed by member {member_id} or does not exist.\")\n",
        "\n",
        "# Example usage\n",
        "library = PublicLibrary(\"My Public Library\")\n",
        "library.add_book(123, \"The Hitchhiker's Guide to the Galaxy\", \"Douglas Adams\")\n",
        "library.borrow_book(123, 456)\n",
        "library.return_book(123, 456)"
      ],
      "metadata": {
        "id": "qjXp2dFnwMAW"
      },
      "execution_count": null,
      "outputs": []
    },
    {
      "cell_type": "markdown",
      "source": [
        "\n",
        "20. Describe the concept of method abstraction in Python and how it relates to polymorphism."
      ],
      "metadata": {
        "id": "JoGg7wXQyfBb"
      }
    },
    {
      "cell_type": "code",
      "source": [
        "'''\n",
        "Method Abstraction\n",
        "\n",
        "Method abstraction is essentially defining a method's signature (name, parameters) in a base class without providing a specific implementation. It's like creating a template for methods that subclasses must fill in.\n",
        "\n",
        "How it relates to Polymorphism\n",
        "\n",
        "This abstract method acts as a common interface for different subclasses. Polymorphism leverages this common interface. Different subclasses can implement the abstract method with their unique logic, achieving \"many forms\" of the same method. This allows objects of different types to respond differently to the same method call.\n",
        "'''"
      ],
      "metadata": {
        "id": "Adh17r3MwMTm"
      },
      "execution_count": null,
      "outputs": []
    },
    {
      "cell_type": "markdown",
      "source": [
        "#Composition:"
      ],
      "metadata": {
        "id": "0zggnApyyf-G"
      }
    },
    {
      "cell_type": "markdown",
      "source": [
        "1. Explain the concept of composition in Python and how it is used to build complex objects from simpler ones.\n"
      ],
      "metadata": {
        "id": "dTy5W5Z9ykYC"
      }
    },
    {
      "cell_type": "code",
      "source": [
        "'''\n",
        "Composition is a way to build complex objects by combining simpler objects as parts. Think of it like building a car – you combine an engine, wheels, and a chassis to create the whole car. In code, this means creating classes for the parts and then using instances of those classes as attributes within a new class representing the complex object.\n",
        "\n",
        "Building Complex Objects:\n",
        "\n",
        "Create Classes for Parts: Define separate classes for the individual components (e.g., Engine, Wheels).\n",
        "Assemble in a New Class: Create a class for the complex object (e.g., Car) and include instances of the part classes as attributes.\n",
        "Benefits:\n",
        "\n",
        "Flexibility: You can easily change or replace parts without affecting the whole object.\n",
        "Reusability: Parts can be reused in different complex objects.\n",
        "Maintainability: The code is more organized and easier to understand.\n",
        "'''"
      ],
      "metadata": {
        "id": "--VRPWxkGxk_"
      },
      "execution_count": null,
      "outputs": []
    },
    {
      "cell_type": "markdown",
      "source": [
        "2. Describe the difference between composition and inheritance in object-oriented programming.\n"
      ],
      "metadata": {
        "id": "ungGVXtKypX1"
      }
    },
    {
      "cell_type": "code",
      "source": [
        "'''\n",
        "Relationship: Composition represents a \"has-a\" relationship, while inheritance represents an \"is-a\" relationship.\n",
        "Structure: Composition involves containing instances of other classes as attributes, while inheritance involves creating a new class that extends an existing one.\n",
        "Flexibility: Composition is generally more flexible, allowing you to change parts easily. Inheritance can lead to tighter coupling between classes\n",
        "'''"
      ],
      "metadata": {
        "id": "zywFH5JMGyBX"
      },
      "execution_count": null,
      "outputs": []
    },
    {
      "cell_type": "markdown",
      "source": [
        "3. Create a Python class called `Author` with attributes for name and birthdate. Then, create a `Book` class\n",
        "that contains an instance of `Author` as a composition. Provide an example of creating a `Book` object.\n"
      ],
      "metadata": {
        "id": "-ggzG-0Wyq_N"
      }
    },
    {
      "cell_type": "code",
      "source": [
        "class Author:\n",
        "    def __init__(self, name, birthdate):\n",
        "        self.name = name\n",
        "        self.birthdate = birthdate\n",
        "\n",
        "    def __str__(self):\n",
        "        return f\"{self.name} ({self.birthdate})\"\n",
        "\n",
        "class Book:\n",
        "    def __init__(self, title, author, publication_year):\n",
        "        self.title = title\n",
        "        self.author = author\n",
        "        self.publication_year = publication_year\n",
        "\n",
        "    def __str__(self):\n",
        "        return f\"'{self.title}' by {self.author}, published in {self.publication_year}\"\n",
        "\n",
        "# Example of creating an Author and a Book object\n",
        "author = Author(\"George Orwell\", \"1903-06-25\")\n",
        "book = Book(\"1984\", author, 1949)\n",
        "\n",
        "print(book)\n"
      ],
      "metadata": {
        "id": "YJvvSNyQGyoY"
      },
      "execution_count": null,
      "outputs": []
    },
    {
      "cell_type": "markdown",
      "source": [
        "4. Discuss the benefits of using composition over inheritance in Python, especially in terms of code flexibility\n",
        "and reusability.\n"
      ],
      "metadata": {
        "id": "Fsj-YBtbys0m"
      }
    },
    {
      "cell_type": "code",
      "source": [
        "'''\n",
        "Flexibility: Composition allows you to change the behavior of an object by simply swapping out its components. This makes your code more adaptable to changes in requirements. With inheritance, changing the parent class can have unintended consequences for all its subclasses.\n",
        "Reusability: Components used in composition can be reused in different contexts and with different objects. Inheritance, on the other hand, creates a tighter coupling between classes, making it harder to reuse parts of a class in isolation.\n",
        "Maintainability: Composition leads to more modular code, where each component has a clear responsibility. This makes the code easier to understand, debug, and modify. Inheritance can sometimes lead to complex and difficult-to-maintain class hierarchies.\n",
        "'''\n",
        "\n",
        "'''\n",
        "Flexibility is crucial for adapting to evolving needs in software development. Composition allows you to easily modify an object's behavior without affecting other parts of the system.\n",
        "Reusability is a key factor in efficient coding. Composition promotes the reuse of components, saving time and reducing redundancy.\n",
        "'''"
      ],
      "metadata": {
        "id": "eePrugTOGzOt"
      },
      "execution_count": null,
      "outputs": []
    },
    {
      "cell_type": "markdown",
      "source": [
        "5. How can you implement composition in Python classes? Provide examples of using composition to create\n",
        "complex objects.\n"
      ],
      "metadata": {
        "id": "YjqhCSJcyvA7"
      }
    },
    {
      "cell_type": "code",
      "source": [
        "'''\n",
        "Implementing Composition\n",
        "\n",
        "Define Component Classes: Create separate classes for the individual parts that will make up the complex object. For example, if you're building a car, you might have classes for Engine, Wheels, and Chassis.\n",
        "Create a Composite Class: Define a class for the complex object (e.g., Car). In this class, include instances of the component classes as attributes. This establishes the \"has-a\" relationship.\n",
        "'''\n",
        "\n",
        "class Engine:\n",
        "    def start(self):\n",
        "        print(\"Engine started.\")\n",
        "\n",
        "class Wheels:\n",
        "    def rotate(self):\n",
        "        print(\"Wheels rotating.\")\n",
        "\n",
        "class Car:\n",
        "    def __init__(self):\n",
        "        self.engine = Engine()  # Car \"has-a\" engine\n",
        "        self.wheels = Wheels()  # Car \"has-a\" wheels\n",
        "\n",
        "    def drive(self):\n",
        "        self.engine.start()\n",
        "        self.wheels.rotate()\n",
        "        print(\"Car is moving.\")\n",
        "\n",
        "# Create a car object\n",
        "my_car = Car()\n",
        "my_car.drive()  # Output: Engine started. \\n Wheels rotating. \\n Car is moving."
      ],
      "metadata": {
        "id": "2xNbAqj6Gz33"
      },
      "execution_count": null,
      "outputs": []
    },
    {
      "cell_type": "markdown",
      "source": [
        "6. Create a Python class hierarchy for a music player system, using composition to represent playlists and\n",
        "songs.\n"
      ],
      "metadata": {
        "id": "RTnlPgpMyw36"
      }
    },
    {
      "cell_type": "code",
      "source": [
        "class Song:\n",
        "    def __init__(self, title, artist, duration):\n",
        "        self.title = title\n",
        "        self.artist = artist\n",
        "        self.duration = duration\n",
        "\n",
        "    def __str__(self):\n",
        "        return f\"{self.title} by {self.artist} - {self.duration} minutes\"\n",
        "\n",
        "class Playlist:\n",
        "    def __init__(self, name):\n",
        "        self.name = name\n",
        "        self.songs = []\n",
        "\n",
        "    def add_song(self, song):\n",
        "        self.songs.append(song)\n",
        "\n",
        "    def remove_song(self, song):\n",
        "        self.songs.remove(song)\n",
        "\n",
        "    def __str__(self):\n",
        "        return f\"Playlist: {self.name}, Songs: {len(self.songs)}\"\n",
        "\n",
        "    def show_songs(self):\n",
        "        for song in self.songs:\n",
        "            print(song)\n",
        "\n",
        "class MusicPlayer:\n",
        "    def __init__(self):\n",
        "        self.playlists = []\n",
        "\n",
        "    def add_playlist(self, playlist):\n",
        "        self.playlists.append(playlist)\n",
        "\n",
        "    def remove_playlist(self, playlist):\n",
        "        self.playlists.remove(playlist)\n",
        "\n",
        "    def show_playlists(self):\n",
        "        for playlist in self.playlists:\n",
        "            print(playlist)\n",
        "\n",
        "# Example of creating songs, a playlist, and a music player\n",
        "song1 = Song(\"Song One\", \"Artist A\", 3.5)\n",
        "song2 = Song(\"Song Two\", \"Artist B\", 4.0)\n",
        "song3 = Song(\"Song Three\", \"Artist C\", 5.0)\n",
        "\n",
        "playlist = Playlist(\"My Playlist\")\n",
        "playlist.add_song(song1)\n",
        "playlist.add_song(song2)\n",
        "playlist.add_song(song3)\n",
        "\n",
        "music_player = MusicPlayer()\n",
        "music_player.add_playlist(playlist)\n",
        "\n",
        "# Display the playlists and songs\n",
        "music_player.show_playlists()\n",
        "playlist.show_songs()\n"
      ],
      "metadata": {
        "id": "KBjivx2QG0ec"
      },
      "execution_count": null,
      "outputs": []
    },
    {
      "cell_type": "markdown",
      "source": [
        "7. Explain the concept of \"has-a\" relationships in composition and how it helps design software systems.\n"
      ],
      "metadata": {
        "id": "IVCyVNT6yyrs"
      }
    },
    {
      "cell_type": "code",
      "source": [
        "'''\n",
        "\"Has-a\" Relationships\n",
        "\n",
        "In composition, the \"has-a\" relationship describes how objects are built by combining other objects as parts. It signifies that an object \"has\" another object as a component or part.\n",
        "\n",
        "Example: A car \"has-a\" engine, \"has-a\" wheels, and \"has-a\" chassis. These components are essential parts of the car, and the car wouldn't function without them.\n",
        "\n",
        "Benefits for Software Design\n",
        "\n",
        "Modularity and Reusability: \"Has-a\" relationships encourage modular design by breaking down complex systems into smaller, self-contained components. These components can be reused in different contexts, leading to more efficient development.\n",
        "Flexibility and Maintainability: Because objects are loosely coupled through composition, changes to one component are less likely to affect others. This makes the system easier to maintain and evolve over time.\n",
        "Reduced Complexity: By dividing a system into smaller parts, composition helps manage complexity. Each component can be understood and tested independently, making the overall system easier to comprehend.\n",
        "'''\n",
        "\n",
        "class Engine:  # Component\n",
        "    # ...\n",
        "\n",
        "class Car:  # Composite\n",
        "    def __init__(self):\n",
        "        self.engine = Engine()  # Car \"has-a\" engine"
      ],
      "metadata": {
        "id": "dqI_co6lG0-s"
      },
      "execution_count": null,
      "outputs": []
    },
    {
      "cell_type": "markdown",
      "source": [
        "8. Create a Python class for a computer system, using composition to represent components like CPU, RAM,\n",
        "and storage devices.\n"
      ],
      "metadata": {
        "id": "ElJMb60jy0Vx"
      }
    },
    {
      "cell_type": "code",
      "source": [
        "class CPU:\n",
        "    def __init__(self, model, cores, frequency):\n",
        "        self.model = model\n",
        "        self.cores = cores\n",
        "        self.frequency = frequency\n",
        "\n",
        "    def __str__(self):\n",
        "        return f\"CPU: {self.model}, {self.ccores} cores, {self.frequency} GHz\"\n",
        "\n",
        "class RAM:\n",
        "    def __init__(self, size, type):\n",
        "        self.size = size\n",
        "        self.type = type\n",
        "\n",
        "    def __str__(self):\n",
        "        return f\"RAM: {self.size}GB, {self.type}\"\n",
        "\n",
        "class Storage:\n",
        "    def __init__(self, size, type):\n",
        "        self.size = size\n",
        "        self.type = type\n",
        "\n",
        "    def __str__(self):\n",
        "        return f\"Storage: {self.size}GB, {self.type}\"\n",
        "\n",
        "class ComputerSystem:\n",
        "    def __init__(self, cpu, ram, storage):\n",
        "        self.cpu = cpu\n",
        "        self.ram = ram\n",
        "        self.storage = storage\n",
        "\n",
        "    def __str__(self):\n",
        "        return f\"Computer System:\\n{self.cpu}\\n{self.ram}\\n{self.storage}\"\n",
        "\n",
        "# Example of creating components and a computer system\n",
        "cpu = CPU(\"Intel i7\", 8, 3.6)\n",
        "ram = RAM(16, \"DDR4\")\n",
        "storage = Storage(512, \"SSD\")\n",
        "\n",
        "computer_system = ComputerSystem(cpu, ram, storage)\n",
        "\n",
        "print(computer_system)\n"
      ],
      "metadata": {
        "id": "4DqffawXG1x_"
      },
      "execution_count": null,
      "outputs": []
    },
    {
      "cell_type": "markdown",
      "source": [
        "9. Describe the concept of \"delegation\" in composition and how it simplifies the design of complex systems.\n"
      ],
      "metadata": {
        "id": "lGd9ErXjy2AG"
      }
    },
    {
      "cell_type": "code",
      "source": [
        "'''\n",
        "Delegation is a key aspect of composition where an object, instead of performing a task itself, delegates it to one of its component objects. This is like a manager delegating tasks to team members.\n",
        "\n",
        "How It Simplifies Design\n",
        "\n",
        "Responsibility Distribution: Delegation allows an object to focus on its core responsibilities while offloading specific tasks to its components. This promotes a clear separation of concerns and makes the code more modular.\n",
        "Reduced Code Duplication: By delegating tasks to specialized components, you avoid writing the same code in multiple places. This improves code maintainability and reduces the risk of errors.\n",
        "Flexibility: Delegation allows you to easily change the behavior of an object by modifying or replacing its components. This makes the system more adaptable to new requirements.\n",
        "\n",
        "'''\n",
        "\n",
        "class Authentication:\n",
        "    def authenticate(self, username, password):\n",
        "        # Logic for authentication\n",
        "        print(\"User authenticated.\")\n",
        "\n",
        "class Authorization:\n",
        "    def authorize(self, user, resource):\n",
        "        # Logic for authorization\n",
        "        print(\"User authorized.\")\n",
        "\n",
        "class SecuritySystem:\n",
        "    def __init__(self):\n",
        "        self.authentication = Authentication()\n",
        "        self.authorization = Authorization()\n",
        "\n",
        "    def login(self, username, password):\n",
        "        self.authentication.authenticate(username, password)  # Delegation\n",
        "        # ...\n",
        "\n",
        "    def access_resource(self, user, resource):\n",
        "        self.authorization.authorize(user, resource)  # Delegation\n",
        "        # ..."
      ],
      "metadata": {
        "id": "fJZH72VvG2Yj"
      },
      "execution_count": null,
      "outputs": []
    },
    {
      "cell_type": "markdown",
      "source": [
        "10. Create a Python class for a car, using composition to represent components like the engine, wheels, and\n",
        "transmission.\n"
      ],
      "metadata": {
        "id": "ReNVpZLIy3fA"
      }
    },
    {
      "cell_type": "code",
      "source": [
        "class Engine:\n",
        "    def __init__(self, horsepower, type):\n",
        "        self.horsepower = horsepower\n",
        "        self.type = type\n",
        "\n",
        "    def __str__(self):\n",
        "        return f\"Engine: {self.horsepower} HP, {self.type}\"\n",
        "\n",
        "class Wheel:\n",
        "    def __init__(self, size, type):\n",
        "        self.size = size\n",
        "        self.type = type\n",
        "\n",
        "    def __str__(self):\n",
        "        return f\"Wheel: {self.size} inches, {self.type}\"\n",
        "\n",
        "class Transmission:\n",
        "    def __init__(self, type, gears):\n",
        "        self.type = type\n",
        "        self.gears = gears\n",
        "\n",
        "    def __str__(self):\n",
        "        return f\"Transmission: {self.type}, {self.gears} gears\"\n",
        "\n",
        "class Car:\n",
        "    def __init__(self, model, engine, wheels, transmission):\n",
        "        self.model = model\n",
        "        self.engine = engine\n",
        "        self.wheels = wheels\n",
        "        self.transmission = transmission\n",
        "\n",
        "    def __str__(self):\n",
        "        wheels_str = \", \".join(str(wheel) for wheel in self.wheels)\n",
        "        return f\"Car: {self.model}\\n{self.engine}\\n{wheels_str}\\n{self.transmission}\"\n",
        "\n",
        "# Example of creating components and a car\n",
        "engine = Engine(300, \"V6\")\n",
        "wheels = [Wheel(18, \"Alloy\") for _ in range(4)]\n",
        "transmission = Transmission(\"Automatic\", 8)\n",
        "\n",
        "car = Car(\"Model S\", engine, wheels, transmission)\n",
        "\n",
        "print(car)\n"
      ],
      "metadata": {
        "id": "arioavNbG2zX"
      },
      "execution_count": null,
      "outputs": []
    },
    {
      "cell_type": "markdown",
      "source": [
        "11. How can you encapsulate and hide the details of composed objects in Python classes to maintain\n",
        "abstraction?\n"
      ],
      "metadata": {
        "id": "NJGabXcQy4_b"
      }
    },
    {
      "cell_type": "code",
      "source": [
        "'''\n",
        "Encapsulation is the practice of bundling data and methods that operate on that data within a single unit (a class). Abstraction is the process of hiding the internal details of an object and exposing only the essential information to the outside world.\n",
        "\n",
        "Encapsulating Composed Objects\n",
        "\n",
        "To encapsulate composed objects and maintain abstraction:\n",
        "\n",
        "Use Private Attributes: Make the attributes that hold the composed objects private (using a leading underscore, like _engine). This prevents direct access from outside the class.\n",
        "Provide Public Methods: Define public methods to interact with the composed objects indirectly. These methods control how the outside world interacts with the internal components.\n",
        "'''\n",
        "\n",
        "class Engine:\n",
        "    def start(self):\n",
        "        print(\"Engine started.\")\n",
        "\n",
        "class Car:\n",
        "    def __init__(self):\n",
        "        self._engine = Engine()  # Private attribute\n",
        "\n",
        "    def start_car(self):\n",
        "        self._engine.start()  # Accessing the composed object\n",
        "\n",
        "    def get_engine_type(self):\n",
        "        # ... (logic to determine engine type)\n",
        "\n",
        "# Usage\n",
        "my_car = Car()\n",
        "my_car.start_car()  # Output: Engine started.\n",
        "# my_car._engine.start()  # AttributeError: 'Car' object has no attribute '_engine'"
      ],
      "metadata": {
        "id": "gvbnL5wtG3mJ"
      },
      "execution_count": null,
      "outputs": []
    },
    {
      "cell_type": "markdown",
      "source": [
        "12. Create a Python class for a university course, using composition to represent students, instructors, and\n",
        "course materials.\n"
      ],
      "metadata": {
        "id": "_IYcNBa2y6uw"
      }
    },
    {
      "cell_type": "code",
      "source": [
        "class Student:\n",
        "    def __init__(self, name, student_id):\n",
        "        self.name = name\n",
        "        self.student_id = student_id\n",
        "\n",
        "    def __str__(self):\n",
        "        return f\"Student: {self.name} (ID: {self.student_id})\"\n",
        "\n",
        "class Instructor:\n",
        "    def __init__(self, name, employee_id):\n",
        "        self.name = name\n",
        "        self.employee_id = employee_id\n",
        "\n",
        "    def __str__(self):\n",
        "        return f\"Instructor: {self.name} (ID: {self.employee_id})\"\n",
        "\n",
        "class CourseMaterial:\n",
        "    def __init__(self, title, content):\n",
        "        self.title = title\n",
        "        self.content = content\n",
        "\n",
        "    def __str__(self):\n",
        "        return f\"Course Material: {self.title}\"\n",
        "\n",
        "class Course:\n",
        "    def __init__(self, course_name, course_code):\n",
        "        self.course_name = course_name\n",
        "        self.course_code = course_code\n",
        "        self.students = []\n",
        "        self.instructors = []\n",
        "        self.course_materials = []\n",
        "\n",
        "    def add_student(self, student):\n",
        "        self.students.append(student)\n",
        "\n",
        "    def add_instructor(self, instructor):\n",
        "        self.instructors.append(instructor)\n",
        "\n",
        "    def add_course_material(self, material):\n",
        "        self.course_materials.append(material)\n",
        "\n",
        "    def __str__(self):\n",
        "        return (f\"Course: {self.course_name} (Code: {self.course_code})\\n\"\n",
        "                f\"Students: {len(self.students)}\\n\"\n",
        "                f\"Instructors: {len(self.instructors)}\\n\"\n",
        "                f\"Course Materials: {len(self.course_materials)}\")\n",
        "\n",
        "    def show_details(self):\n",
        "        print(self)\n",
        "        print(\"\\nStudents:\")\n",
        "        for student in self.students:\n",
        "            print(student)\n",
        "        print(\"\\nInstructors:\")\n",
        "        for instructor in self.instructors:\n",
        "            print(instructor)\n",
        "        print(\"\\nCourse Materials:\")\n",
        "        for material in self.course_materials:\n",
        "            print(material)\n",
        "\n",
        "# Example of creating students, instructors, course materials, and a course\n",
        "student1 = Student(\"Alice\", \"S001\")\n",
        "student2 = Student(\"Bob\", \"S002\")\n",
        "instructor1 = Instructor(\"Dr. Smith\", \"I001\")\n",
        "material1 = CourseMaterial(\"Syllabus\", \"Introduction and course outline\")\n",
        "material2 = CourseMaterial(\"Lecture 1\", \"Introduction to Python\")\n",
        "\n",
        "course = Course(\"Introduction to Programming\", \"CS101\")\n",
        "course.add_student(student1)\n",
        "course.add_student(student2)\n",
        "course.add_instructor(instructor1)\n",
        "course.add_course_material(material1)\n",
        "course.add_course_material(material2)\n",
        "\n",
        "# Display course details\n",
        "course.show_details()\n"
      ],
      "metadata": {
        "id": "dup0px4aG4En"
      },
      "execution_count": null,
      "outputs": []
    },
    {
      "cell_type": "markdown",
      "source": [
        "13. Discuss the challenges and drawbacks of composition, such as increased complexity and potential for\n",
        "tight coupling between objects.\n"
      ],
      "metadata": {
        "id": "VJi8mhRYy80I"
      }
    },
    {
      "cell_type": "code",
      "source": [
        "'''\n",
        "Increased Complexity: As you compose objects from multiple components, the overall system can become more complex. Managing the interactions between these components can require careful design and planning.\n",
        "Potential for Tight Coupling: If not implemented carefully, composition can lead to tight coupling between objects. This means that changes in one component might require changes in other components, making the system less flexible.\n",
        "Interface Design: Designing clear and consistent interfaces for the component objects is crucial for effective composition. If interfaces are poorly defined, it can lead to confusion and difficulties in integrating components.\n",
        "Performance Overhead: In some cases, composition can introduce a slight performance overhead due to the need to manage multiple objects and their interactions.\n",
        "Mitigation Strategies\n",
        "\n",
        "Careful Planning: Thoroughly plan the structure of your composed objects and their interactions to minimize complexity.\n",
        "Loose Coupling: Design components with well-defined interfaces and minimal dependencies to reduce coupling.\n",
        "Interface Consistency: Strive for consistency in the interfaces of your components to facilitate integration.\n",
        "Performance Optimization: If performance is critical, consider ways to optimize the interactions between composed objects.\n",
        "'''"
      ],
      "metadata": {
        "id": "1N6sRfMuG4p3"
      },
      "execution_count": null,
      "outputs": []
    },
    {
      "cell_type": "markdown",
      "source": [
        "14. Create a Python class hierarchy for a restaurant system, using composition to represent menus, dishes,\n",
        "and ingredients.\n"
      ],
      "metadata": {
        "id": "ow-eI2niy_XG"
      }
    },
    {
      "cell_type": "code",
      "source": [
        "class Ingredient:\n",
        "    def __init__(self, name, quantity, unit):\n",
        "        self.name = name\n",
        "        self.quantity = quantity\n",
        "        self.unit = unit\n",
        "\n",
        "    def __str__(self):\n",
        "        return f\"{self.quantity} {self.unit} of {self.name}\"\n",
        "\n",
        "class Dish:\n",
        "    def __init__(self, name):\n",
        "        self.name = name\n",
        "        self.ingredients = []\n",
        "\n",
        "    def add_ingredient(self, ingredient):\n",
        "        self.ingredients.append(ingredient)\n",
        "\n",
        "    def __str__(self):\n",
        "        ingredients_str = \", \".join(str(ingredient) for ingredient in self.ingredients)\n",
        "        return f\"Dish: {self.name} ({ingredients_str})\"\n",
        "\n",
        "class Menu:\n",
        "    def __init__(self, name):\n",
        "        self.name = name\n",
        "        self.dishes = []\n",
        "\n",
        "    def add_dish(self, dish):\n",
        "        self.dishes.append(dish)\n",
        "\n",
        "    def __str__(self):\n",
        "        dishes_str = \"\\n\".join(str(dish) for dish in self.dishes)\n",
        "        return f\"Menu: {self.name}\\n{dishes_str}\"\n",
        "\n",
        "# Example of creating ingredients, dishes, and a menu\n",
        "ingredient1 = Ingredient(\"Tomato\", 2, \"pieces\")\n",
        "ingredient2 = Ingredient(\"Mozzarella\", 200, \"grams\")\n",
        "ingredient3 = Ingredient(\"Basil\", 5, \"leaves\")\n",
        "ingredient4 = Ingredient(\"Pasta\", 100, \"grams\")\n",
        "ingredient5 = Ingredient(\"Garlic\", 2, \"cloves\")\n",
        "\n",
        "dish1 = Dish(\"Caprese Salad\")\n",
        "dish1.add_ingredient(ingredient1)\n",
        "dish1.add_ingredient(ingredient2)\n",
        "dish1.add_ingredient(ingredient3)\n",
        "\n",
        "dish2 = Dish(\"Garlic Pasta\")\n",
        "dish2.add_ingredient(ingredient4)\n",
        "dish2.add_ingredient(ingredient5)\n",
        "\n",
        "menu = Menu(\"Italian Cuisine\")\n",
        "menu.add_dish(dish1)\n",
        "menu.add_dish(dish2)\n",
        "\n",
        "print(menu)\n"
      ],
      "metadata": {
        "id": "n82cEs0OG5Ld"
      },
      "execution_count": null,
      "outputs": []
    },
    {
      "cell_type": "markdown",
      "source": [
        "15. Explain how composition enhances code maintainability and modularity in Python programs.\n"
      ],
      "metadata": {
        "id": "IFPjPOC0zA8l"
      }
    },
    {
      "cell_type": "code",
      "source": [
        "'''\n",
        "Maintainability\n",
        "\n",
        "Isolation of Changes: Composition allows you to modify or replace individual components without affecting the entire system. This makes it easier to fix bugs and add new features.\n",
        "Clear Responsibilities: Each component has a specific role, leading to more organized and understandable code.\n",
        "Modularity\n",
        "\n",
        "Reusable Components: Components can be reused in different parts of the system or even in other projects.\n",
        "Independent Units: Components are self-contained, making them easier to test and reason about in isolation\n",
        "'''"
      ],
      "metadata": {
        "id": "O7wF6hzaG5-w"
      },
      "execution_count": null,
      "outputs": []
    },
    {
      "cell_type": "markdown",
      "source": [
        "16. Create a Python class for a computer game character, using composition to represent attributes like\n",
        "weapons, armor, and inventory.\n"
      ],
      "metadata": {
        "id": "a4fa7eXozCjv"
      }
    },
    {
      "cell_type": "code",
      "source": [
        "class Weapon:\n",
        "    def __init__(self, name, damage, weight):\n",
        "        self.name = name\n",
        "        self.damage = damage\n",
        "        self.weight = weight\n",
        "\n",
        "    def __str__(self):\n",
        "        return f\"Weapon: {self.name} (Damage: {self.damage}, Weight: {self.weight} lbs)\"\n",
        "\n",
        "class Armor:\n",
        "    def __init__(self, name, defense, weight):\n",
        "        self.name = name\n",
        "        self.defense = defense\n",
        "        self.weight = weight\n",
        "\n",
        "    def __str__(self):\n",
        "        return f\"Armor: {self.name} (Defense: {self.defense}, Weight: {self.weight} lbs)\"\n",
        "\n",
        "class Inventory:\n",
        "    def __init__(self):\n",
        "        self.items = []\n",
        "\n",
        "    def add_item(self, item):\n",
        "        self.items.append(item)\n",
        "\n",
        "    def __str__(self):\n",
        "        items_str = \", \".join(str(item) for item in self.items)\n",
        "        return f\"Inventory: {items_str}\"\n",
        "\n",
        "class Character:\n",
        "    def __init__(self, name, level, health, weapon, armor):\n",
        "        self.name = name\n",
        "        self.level = level\n",
        "        self.health = health\n",
        "        self.weapon = weapon\n",
        "        self.armor = armor\n",
        "        self.inventory = Inventory()\n",
        "\n",
        "    def __str__(self):\n",
        "        return (f\"Character: {self.name} (Level: {self.level}, Health: {self.health})\\n\"\n",
        "                f\"{self.weapon}\\n{self.armor}\\n{self.inventory}\")\n",
        "\n",
        "# Example of creating components and a character\n",
        "weapon = Weapon(\"Sword of Truth\", 50, 10)\n",
        "armor = Armor(\"Shield of Valor\", 30, 15)\n",
        "character = Character(\"Aragorn\", 10, 100, weapon, armor)\n",
        "\n",
        "# Add some items to the inventory\n",
        "character.inventory.add_item(\"Health Potion\")\n",
        "character.inventory.add_item(\"Mana Potion\")\n",
        "\n",
        "print(character)\n"
      ],
      "metadata": {
        "id": "cG6mhkEkG6mW"
      },
      "execution_count": null,
      "outputs": []
    },
    {
      "cell_type": "markdown",
      "source": [
        "17. Describe the concept of \"aggregation\" in composition and how it differs from simple composition.\n"
      ],
      "metadata": {
        "id": "547l8BLpzEPS"
      }
    },
    {
      "cell_type": "code",
      "source": [
        "'''\n",
        "Aggregation is a specialized form of composition where the contained objects can exist independently of the container object. It's a \"has-a\" relationship, but the parts can live on even if the whole is destroyed.\n",
        "\n",
        "Difference from Simple Composition\n",
        "\n",
        "In simple composition, the contained objects are owned by the container and are destroyed when the container is destroyed. Think of a car and its engine – the engine is destroyed with the car.\n",
        "\n",
        "In aggregation, the contained objects have their own lifecycles and can be shared among multiple containers. Think of a department and its employees – the employees can exist even if the department is disbanded.\n",
        "\n",
        "Key Distinction\n",
        "\n",
        "Ownership and Lifecycle: In simple composition, the container owns and controls the lifecycle of the contained objects. In aggregation, the contained objects have independent lifecycles.\n",
        "'''"
      ],
      "metadata": {
        "id": "M7pIBAdKG7AZ"
      },
      "execution_count": null,
      "outputs": []
    },
    {
      "cell_type": "markdown",
      "source": [
        "18. Create a Python class for a house, using composition to represent rooms, furniture, and appliances.\n"
      ],
      "metadata": {
        "id": "713Sd95dzF2p"
      }
    },
    {
      "cell_type": "code",
      "source": [
        "class Appliance:\n",
        "    def __init__(self, name, brand, power):\n",
        "        self.name = name\n",
        "        self.brand = brand\n",
        "        self.power = power\n",
        "\n",
        "    def __str__(self):\n",
        "        return f\"Appliance: {self.name} (Brand: {self.brand}, Power: {self.power}W)\"\n",
        "\n",
        "class Furniture:\n",
        "    def __init__(self, name, material):\n",
        "        self.name = name\n",
        "        self.material = material\n",
        "\n",
        "    def __str__(self):\n",
        "        return f\"Furniture: {self.name} (Material: {self.material})\"\n",
        "\n",
        "class Room:\n",
        "    def __init__(self, name):\n",
        "        self.name = name\n",
        "        self.furniture = []\n",
        "        self.appliances = []\n",
        "\n",
        "    def add_furniture(self, furniture):\n",
        "        self.furniture.append(furniture)\n",
        "\n",
        "    def add_appliance(self, appliance):\n",
        "        self.appliances.append(appliance)\n",
        "\n",
        "    def __str__(self):\n",
        "        furniture_str = \", \".join(str(furniture) for furniture in self.furniture)\n",
        "        appliances_str = \", \".join(str(appliance) for appliance in self.appliances)\n",
        "        return f\"Room: {self.name}\\nFurniture: {furniture_str}\\nAppliances: {appliances_str}\"\n",
        "\n",
        "class House:\n",
        "    def __init__(self, address):\n",
        "        self.address = address\n",
        "        self.rooms = []\n",
        "\n",
        "    def add_room(self, room):\n",
        "        self.rooms.append(room)\n",
        "\n",
        "    def __str__(self):\n",
        "        rooms_str = \"\\n\\n\".join(str(room) for room in self.rooms)\n",
        "        return f\"House Address: {self.address}\\n\\n{rooms_str}\"\n",
        "\n",
        "# Example of creating components and a house\n",
        "appliance1 = Appliance(\"Refrigerator\", \"LG\", 200)\n",
        "appliance2 = Appliance(\"Microwave\", \"Samsung\", 800)\n",
        "furniture1 = Furniture(\"Sofa\", \"Leather\")\n",
        "furniture2 = Furniture(\"Dining Table\", \"Wood\")\n",
        "\n",
        "kitchen = Room(\"Kitchen\")\n",
        "kitchen.add_appliance(appliance1)\n",
        "kitchen.add_appliance(appliance2)\n",
        "\n",
        "living_room = Room(\"Living Room\")\n",
        "living_room.add_furniture(furniture1)\n",
        "living_room.add_furniture(furniture2)\n",
        "\n",
        "house = House(\"1234 Elm Street\")\n",
        "house.add_room(kitchen)\n",
        "house.add_room(living_room)\n",
        "\n",
        "print(house)\n"
      ],
      "metadata": {
        "id": "ofP_3drOG8Zt"
      },
      "execution_count": null,
      "outputs": []
    },
    {
      "cell_type": "markdown",
      "source": [
        "19. How can you achieve flexibility in composed objects by allowing them to be replaced or modified\n",
        "dynamically at runtime?\n"
      ],
      "metadata": {
        "id": "uCyI4wkPzHW2"
      }
    },
    {
      "cell_type": "code",
      "source": [
        "'''\n",
        "Dynamic Replacement and Modification\n",
        "\n",
        "To allow for dynamic changes in composed objects:\n",
        "\n",
        "Dependency Injection: Pass the component objects as arguments to the container object's constructor or through setter methods. This allows you to change the components at runtime.\n",
        "Strategies and Interfaces: Define interfaces or abstract classes for the components. This allows you to swap out different implementations of the same component dynamically.\n",
        "'''\n",
        "\n",
        "class Engine:\n",
        "    def start(self):\n",
        "        print(\"Engine started.\")\n",
        "\n",
        "class ElectricEngine(Engine):\n",
        "    def start(self):\n",
        "        print(\"Electric engine started.\")\n",
        "\n",
        "class Car:\n",
        "    def __init__(self, engine):\n",
        "        self._engine = engine\n",
        "\n",
        "    def start_car(self):\n",
        "        self._engine.start()\n",
        "\n",
        "# Using different engines at runtime\n",
        "gas_engine = Engine()\n",
        "electric_engine = ElectricEngine()\n",
        "\n",
        "car1 = Car(gas_engine)\n",
        "car1.start_car()  # Output: Engine started.\n",
        "\n",
        "car2 = Car(electric_engine)\n",
        "car2.start_car()  # Output: Electric engine started."
      ],
      "metadata": {
        "id": "hDUqygvEG9Er"
      },
      "execution_count": null,
      "outputs": []
    },
    {
      "cell_type": "markdown",
      "source": [
        "20. Create a Python class for a social media application, using composition to represent users, posts, and\n",
        "comments."
      ],
      "metadata": {
        "id": "XqXoRFHozJGr"
      }
    },
    {
      "cell_type": "code",
      "source": [
        "class User:\n",
        "    def __init__(self, username, email):\n",
        "        self.username = username\n",
        "        self.email = email\n",
        "\n",
        "    def __str__(self):\n",
        "        return f\"User: {self.username} (Email: {self.email})\"\n",
        "\n",
        "class Comment:\n",
        "    def __init__(self, content, author):\n",
        "        self.content = content\n",
        "        self.author = author\n",
        "\n",
        "    def __str__(self):\n",
        "        return f\"Comment by {self.author.username}: {self.content}\"\n",
        "\n",
        "class Post:\n",
        "    def __init__(self, title, content, author):\n",
        "        self.title = title\n",
        "        self.content = content\n",
        "        self.author = author\n",
        "        self.comments = []\n",
        "\n",
        "    def add_comment(self, comment):\n",
        "        self.comments.append(comment)\n",
        "\n",
        "    def __str__(self):\n",
        "        comments_str = \"\\n\".join(str(comment) for comment in self.comments)\n",
        "        return (f\"Post: {self.title} by {self.author.username}\\n\"\n",
        "                f\"{self.content}\\nComments:\\n{comments_str}\")\n",
        "\n",
        "class SocialMediaApp:\n",
        "    def __init__(self, name):\n",
        "        self.name = name\n",
        "        self.users = []\n",
        "        self.posts = []\n",
        "\n",
        "    def add_user(self, user):\n",
        "        self.users.append(user)\n",
        "\n",
        "    def add_post(self, post):\n",
        "        self.posts.append(post)\n",
        "\n",
        "    def __str__(self):\n",
        "        users_str = \", \".join(user.username for user in self.users)\n",
        "        posts_str = \"\\n\\n\".join(str(post) for post in self.posts)\n",
        "        return (f\"Social Media App: {self.name}\\n\"\n",
        "                f\"Users: {users_str}\\n\\nPosts:\\n{posts_str}\")\n",
        "\n",
        "# Example of creating users, posts, comments, and the social media app\n",
        "user1 = User(\"alice\", \"alice@example.com\")\n",
        "user2 = User(\"bob\", \"bob@example.com\")\n",
        "\n",
        "post1 = Post(\"Hello World\", \"This is my first post!\", user1)\n",
        "comment1 = Comment(\"Nice post!\", user2)\n",
        "post1.add_comment(comment1)\n",
        "\n",
        "app = SocialMediaApp(\"MyApp\")\n",
        "app.add_user(user1)\n",
        "app.add_user(user2)\n",
        "app.add_post(post1)\n",
        "\n",
        "print(app)\n"
      ],
      "metadata": {
        "id": "Yu-oY4hqG9mz"
      },
      "execution_count": null,
      "outputs": []
    }
  ]
}